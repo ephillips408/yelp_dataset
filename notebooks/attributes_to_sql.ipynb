{
 "cells": [
  {
   "cell_type": "code",
   "execution_count": 49,
   "id": "70ab1945",
   "metadata": {},
   "outputs": [],
   "source": [
    "import numpy as np\n",
    "import pandas as pd\n",
    "import json\n",
    "import ast"
   ]
  },
  {
   "cell_type": "code",
   "execution_count": 2,
   "id": "b832e1fe",
   "metadata": {},
   "outputs": [],
   "source": [
    "# b_data is short for business dataset\n",
    "# lines = True helps with the Trailing data ValueError\n",
    "\n",
    "b_data = pd.read_json('../../data_projects/data/yelp/yelp_dataset/yelp_academic_dataset_business.json', lines = True)"
   ]
  },
  {
   "cell_type": "code",
   "execution_count": 3,
   "id": "1e658d5f",
   "metadata": {},
   "outputs": [],
   "source": [
    "b_data.drop(b_data.columns.difference(['business_id', 'attributes']), axis = 1, inplace = True)"
   ]
  },
  {
   "cell_type": "code",
   "execution_count": 4,
   "id": "97b5ee9e",
   "metadata": {},
   "outputs": [
    {
     "data": {
      "text/html": [
       "<div>\n",
       "<style scoped>\n",
       "    .dataframe tbody tr th:only-of-type {\n",
       "        vertical-align: middle;\n",
       "    }\n",
       "\n",
       "    .dataframe tbody tr th {\n",
       "        vertical-align: top;\n",
       "    }\n",
       "\n",
       "    .dataframe thead th {\n",
       "        text-align: right;\n",
       "    }\n",
       "</style>\n",
       "<table border=\"1\" class=\"dataframe\">\n",
       "  <thead>\n",
       "    <tr style=\"text-align: right;\">\n",
       "      <th></th>\n",
       "      <th>business_id</th>\n",
       "      <th>attributes</th>\n",
       "    </tr>\n",
       "  </thead>\n",
       "  <tbody>\n",
       "    <tr>\n",
       "      <th>0</th>\n",
       "      <td>Pns2l4eNsfO8kk83dixA6A</td>\n",
       "      <td>{'ByAppointmentOnly': 'True'}</td>\n",
       "    </tr>\n",
       "    <tr>\n",
       "      <th>1</th>\n",
       "      <td>mpf3x-BjTdTEA3yCZrAYPw</td>\n",
       "      <td>{'BusinessAcceptsCreditCards': 'True'}</td>\n",
       "    </tr>\n",
       "    <tr>\n",
       "      <th>2</th>\n",
       "      <td>tUFrWirKiKi_TAnsVWINQQ</td>\n",
       "      <td>{'BikeParking': 'True', 'BusinessAcceptsCredit...</td>\n",
       "    </tr>\n",
       "    <tr>\n",
       "      <th>3</th>\n",
       "      <td>MTSW4McQd7CbVtyjqoe9mw</td>\n",
       "      <td>{'RestaurantsDelivery': 'False', 'OutdoorSeati...</td>\n",
       "    </tr>\n",
       "    <tr>\n",
       "      <th>4</th>\n",
       "      <td>mWMc6_wTdE0EUBKIGXDVfA</td>\n",
       "      <td>{'BusinessAcceptsCreditCards': 'True', 'Wheelc...</td>\n",
       "    </tr>\n",
       "    <tr>\n",
       "      <th>...</th>\n",
       "      <td>...</td>\n",
       "      <td>...</td>\n",
       "    </tr>\n",
       "    <tr>\n",
       "      <th>150341</th>\n",
       "      <td>IUQopTMmYQG-qRtBk-8QnA</td>\n",
       "      <td>{'ByAppointmentOnly': 'False', 'RestaurantsPri...</td>\n",
       "    </tr>\n",
       "    <tr>\n",
       "      <th>150342</th>\n",
       "      <td>c8GjPIOTGVmIemT7j5_SyQ</td>\n",
       "      <td>{'BusinessAcceptsCreditCards': 'True', 'Restau...</td>\n",
       "    </tr>\n",
       "    <tr>\n",
       "      <th>150343</th>\n",
       "      <td>_QAMST-NrQobXduilWEqSw</td>\n",
       "      <td>{'RestaurantsPriceRange2': '1', 'BusinessAccep...</td>\n",
       "    </tr>\n",
       "    <tr>\n",
       "      <th>150344</th>\n",
       "      <td>mtGm22y5c2UHNXDFAjaPNw</td>\n",
       "      <td>{'BusinessParking': '{'garage': False, 'street...</td>\n",
       "    </tr>\n",
       "    <tr>\n",
       "      <th>150345</th>\n",
       "      <td>jV_XOycEzSlTx-65W906pg</td>\n",
       "      <td>{'WheelchairAccessible': 'True', 'BusinessAcce...</td>\n",
       "    </tr>\n",
       "  </tbody>\n",
       "</table>\n",
       "<p>150346 rows × 2 columns</p>\n",
       "</div>"
      ],
      "text/plain": [
       "                   business_id  \\\n",
       "0       Pns2l4eNsfO8kk83dixA6A   \n",
       "1       mpf3x-BjTdTEA3yCZrAYPw   \n",
       "2       tUFrWirKiKi_TAnsVWINQQ   \n",
       "3       MTSW4McQd7CbVtyjqoe9mw   \n",
       "4       mWMc6_wTdE0EUBKIGXDVfA   \n",
       "...                        ...   \n",
       "150341  IUQopTMmYQG-qRtBk-8QnA   \n",
       "150342  c8GjPIOTGVmIemT7j5_SyQ   \n",
       "150343  _QAMST-NrQobXduilWEqSw   \n",
       "150344  mtGm22y5c2UHNXDFAjaPNw   \n",
       "150345  jV_XOycEzSlTx-65W906pg   \n",
       "\n",
       "                                               attributes  \n",
       "0                           {'ByAppointmentOnly': 'True'}  \n",
       "1                  {'BusinessAcceptsCreditCards': 'True'}  \n",
       "2       {'BikeParking': 'True', 'BusinessAcceptsCredit...  \n",
       "3       {'RestaurantsDelivery': 'False', 'OutdoorSeati...  \n",
       "4       {'BusinessAcceptsCreditCards': 'True', 'Wheelc...  \n",
       "...                                                   ...  \n",
       "150341  {'ByAppointmentOnly': 'False', 'RestaurantsPri...  \n",
       "150342  {'BusinessAcceptsCreditCards': 'True', 'Restau...  \n",
       "150343  {'RestaurantsPriceRange2': '1', 'BusinessAccep...  \n",
       "150344  {'BusinessParking': '{'garage': False, 'street...  \n",
       "150345  {'WheelchairAccessible': 'True', 'BusinessAcce...  \n",
       "\n",
       "[150346 rows x 2 columns]"
      ]
     },
     "execution_count": 4,
     "metadata": {},
     "output_type": "execute_result"
    }
   ],
   "source": [
    "b_data"
   ]
  },
  {
   "cell_type": "code",
   "execution_count": 5,
   "id": "e5b58b0a",
   "metadata": {},
   "outputs": [
    {
     "name": "stdout",
     "output_type": "stream",
     "text": [
      "<class 'pandas.core.frame.DataFrame'>\n",
      "RangeIndex: 150346 entries, 0 to 150345\n",
      "Data columns (total 39 columns):\n",
      " #   Column                      Non-Null Count   Dtype \n",
      "---  ------                      --------------   ----- \n",
      " 0   ByAppointmentOnly           42339 non-null   object\n",
      " 1   BusinessAcceptsCreditCards  119765 non-null  object\n",
      " 2   BikeParking                 72638 non-null   object\n",
      " 3   RestaurantsPriceRange2      85314 non-null   object\n",
      " 4   CoatCheck                   5584 non-null    object\n",
      " 5   RestaurantsTakeOut          59857 non-null   object\n",
      " 6   RestaurantsDelivery         56282 non-null   object\n",
      " 7   Caters                      40127 non-null   object\n",
      " 8   WiFi                        56914 non-null   object\n",
      " 9   BusinessParking             91085 non-null   object\n",
      " 10  WheelchairAccessible        28953 non-null   object\n",
      " 11  HappyHour                   15171 non-null   object\n",
      " 12  OutdoorSeating              48802 non-null   object\n",
      " 13  HasTV                       45084 non-null   object\n",
      " 14  RestaurantsReservations     45247 non-null   object\n",
      " 15  DogsAllowed                 18284 non-null   object\n",
      " 16  Alcohol                     43189 non-null   object\n",
      " 17  GoodForKids                 53375 non-null   object\n",
      " 18  RestaurantsAttire           39255 non-null   object\n",
      " 19  Ambience                    44279 non-null   object\n",
      " 20  RestaurantsTableService     19982 non-null   object\n",
      " 21  RestaurantsGoodForGroups    44170 non-null   object\n",
      " 22  DriveThru                   7760 non-null    object\n",
      " 23  NoiseLevel                  37993 non-null   object\n",
      " 24  GoodForMeal                 29087 non-null   object\n",
      " 25  BusinessAcceptsBitcoin      17430 non-null   object\n",
      " 26  Smoking                     4567 non-null    object\n",
      " 27  Music                       7521 non-null    object\n",
      " 28  GoodForDancing              4628 non-null    object\n",
      " 29  AcceptsInsurance            5713 non-null    object\n",
      " 30  BestNights                  5694 non-null    object\n",
      " 31  BYOB                        4451 non-null    object\n",
      " 32  Corkage                     3553 non-null    object\n",
      " 33  BYOBCorkage                 1444 non-null    object\n",
      " 34  HairSpecializesIn           1065 non-null    object\n",
      " 35  Open24Hours                 39 non-null      object\n",
      " 36  RestaurantsCounterService   19 non-null      object\n",
      " 37  AgesAllowed                 129 non-null     object\n",
      " 38  DietaryRestrictions         31 non-null      object\n",
      "dtypes: object(39)\n",
      "memory usage: 44.7+ MB\n"
     ]
    }
   ],
   "source": [
    "att_df = pd.json_normalize(b_data['attributes'].to_list())\n",
    "att_df.info()"
   ]
  },
  {
   "cell_type": "markdown",
   "id": "74fb4412",
   "metadata": {},
   "source": [
    "### Deciding Which Columns to Remove\n",
    "\n",
    "We will be dropping some columns because the amount of information they convey relative to the amount of businesses they pertain to is small."
   ]
  },
  {
   "cell_type": "code",
   "execution_count": 6,
   "id": "1c5a3d4d",
   "metadata": {},
   "outputs": [],
   "source": [
    "att_df.drop(\n",
    "  columns = ['HairSpecializesIn', 'DietaryRestrictions', 'Open24Hours', 'AgesAllowed', 'RestaurantsCounterService', 'CoatCheck'],\n",
    "  axis = 1,\n",
    "  inplace = True\n",
    ")"
   ]
  },
  {
   "cell_type": "code",
   "execution_count": 7,
   "id": "adde688f",
   "metadata": {},
   "outputs": [
    {
     "name": "stdout",
     "output_type": "stream",
     "text": [
      "RestaurantsPriceRange2\n",
      "WiFi\n",
      "BusinessParking\n",
      "Alcohol\n",
      "RestaurantsAttire\n",
      "Ambience\n",
      "NoiseLevel\n",
      "GoodForMeal\n",
      "Smoking\n",
      "Music\n",
      "BestNights\n",
      "BYOBCorkage\n"
     ]
    }
   ],
   "source": [
    "# These are the columns that may have values that are not booleans.\n",
    "\n",
    "for col in att_df.columns.to_list():\n",
    "    if len(att_df[att_df[col].notnull()][col].value_counts().to_list()) > 3:\n",
    "        print (col)"
   ]
  },
  {
   "cell_type": "code",
   "execution_count": 8,
   "id": "88c912d7",
   "metadata": {},
   "outputs": [
    {
     "name": "stdout",
     "output_type": "stream",
     "text": [
      "{'touristy': False, 'hipster': False, 'romantic': False, 'divey': False, 'intimate': False, 'trendy': False, 'upscale': False, 'classy': False, 'casual': False}      6717\n",
      "{'romantic': False, 'intimate': False, 'classy': False, 'hipster': False, 'divey': False, 'touristy': False, 'trendy': False, 'upscale': False, 'casual': False}      5181\n",
      "{'romantic': False, 'intimate': False, 'classy': False, 'hipster': False, 'divey': False, 'touristy': False, 'trendy': False, 'upscale': False, 'casual': True}       4269\n",
      "{'romantic': False, 'intimate': False, 'touristy': False, 'hipster': False, 'divey': False, 'classy': False, 'trendy': False, 'upscale': False, 'casual': True}       4199\n",
      "{'romantic': False, 'intimate': False, 'touristy': False, 'hipster': False, 'divey': False, 'classy': False, 'trendy': False, 'upscale': False, 'casual': False}      3297\n",
      "                                                                                                                                                                      ... \n",
      "{u'divey': True, u'hipster': False, u'casual': True, u'touristy': None, u'trendy': None, u'intimate': None, u'romantic': None, u'classy': False, u'upscale': None}       1\n",
      "{'touristy': None, 'hipster': None, 'romantic': False, 'divey': True, 'intimate': False, 'trendy': False, 'upscale': False, 'classy': None, 'casual': True}              1\n",
      "{'touristy': False, 'hipster': False, 'romantic': None, 'divey': None, 'intimate': False, 'trendy': False, 'upscale': False, 'classy': None, 'casual': None}             1\n",
      "{'touristy': None, 'hipster': None, 'romantic': None, 'divey': None, 'intimate': None, 'trendy': False, 'upscale': None, 'classy': True, 'casual': True}                 1\n",
      "{'touristy': None, 'hipster': False, 'romantic': False, 'divey': None, 'intimate': False, 'trendy': False, 'upscale': None, 'classy': None, 'casual': True}              1\n",
      "Name: Ambience, Length: 2414, dtype: int64\n"
     ]
    }
   ],
   "source": [
    "# Lets us explore the values of the columns.\n",
    "# Will be helpful for knowing if other columns consist of JSON data\n",
    "# Columns that have leading 'u': Alcohol, NoiseLevel, WiFi, RestaurantsAttire, Smoking, BYOBCorkage\n",
    "# Columns that have JSON values: BusinessParking, Ambience, GoodForMeal, Music, BestNights\n",
    "\n",
    "column_string = 'Ambience'\n",
    "\n",
    "print (att_df[att_df[column_string].notnull()][column_string].value_counts())"
   ]
  },
  {
   "cell_type": "code",
   "execution_count": 9,
   "id": "80eae027",
   "metadata": {},
   "outputs": [
    {
     "data": {
      "text/plain": [
       "'u'"
      ]
     },
     "execution_count": 9,
     "metadata": {},
     "output_type": "execute_result"
    }
   ],
   "source": [
    "# If a column has a 'u' as the first character, we will need to remove the 'u'\n",
    "\n",
    "att_df.loc[3, 'Alcohol'][0]"
   ]
  },
  {
   "cell_type": "code",
   "execution_count": 10,
   "id": "9d1b3e0a",
   "metadata": {},
   "outputs": [
    {
     "data": {
      "text/plain": [
       "\"'none'\""
      ]
     },
     "execution_count": 10,
     "metadata": {},
     "output_type": "execute_result"
    }
   ],
   "source": [
    "# We will remove the leading 'u' with this reassignment\n",
    "\n",
    "att_df.loc[3, 'Alcohol'][1:]"
   ]
  },
  {
   "cell_type": "code",
   "execution_count": 11,
   "id": "71c6b53d",
   "metadata": {},
   "outputs": [],
   "source": [
    "# Cleans the leading u's from the following columns\n",
    "\n",
    "leading_u_columns = ['Alcohol', 'NoiseLevel', 'WiFi', 'RestaurantsAttire', 'Smoking', 'BYOBCorkage']\n",
    "\n",
    "for i in range(len(att_df)):\n",
    "  for col in leading_u_columns:\n",
    "    if type(att_df.loc[i, col]) is not float and att_df.loc[i, col][0] == 'u':\n",
    "      att_df.loc[i, col] = att_df.loc[i, col][1:]"
   ]
  },
  {
   "cell_type": "code",
   "execution_count": 12,
   "id": "740e00df",
   "metadata": {},
   "outputs": [
    {
     "name": "stdout",
     "output_type": "stream",
     "text": [
      "Alcohol 'none'             20910\n",
      "'full_bar'         15992\n",
      "'beer_and_wine'     6249\n",
      "None                  38\n",
      "Name: Alcohol, dtype: int64\n",
      "NoiseLevel 'average'      26188\n",
      "'quiet'         7634\n",
      "'loud'          2932\n",
      "'very_loud'     1200\n",
      "None              39\n",
      "Name: NoiseLevel, dtype: int64\n",
      "WiFi 'free'    34414\n",
      "'no'      21831\n",
      "'paid'      619\n",
      "None         50\n",
      "Name: WiFi, dtype: int64\n",
      "RestaurantsAttire 'casual'    38344\n",
      "'dressy'      803\n",
      "'formal'       70\n",
      "None           38\n",
      "Name: RestaurantsAttire, dtype: int64\n",
      "Smoking 'no'         2405\n",
      "'outdoor'    1817\n",
      "'yes'         331\n",
      "None           14\n",
      "Name: Smoking, dtype: int64\n",
      "BYOBCorkage 'no'             747\n",
      "'yes_free'       590\n",
      "'yes_corkage'    102\n",
      "None               5\n",
      "Name: BYOBCorkage, dtype: int64\n"
     ]
    }
   ],
   "source": [
    "# Check the above transformation\n",
    "\n",
    "for col in leading_u_columns:\n",
    "  print (col, att_df[att_df[col].notnull()][col].value_counts())"
   ]
  },
  {
   "cell_type": "markdown",
   "id": "68e08251",
   "metadata": {},
   "source": [
    "### Cleaning the JSON in Columns with JSON Values\n",
    "\n",
    "Some of the JSON keys have a leading 'u' which needs to be removed. This is because we will normalize the JSON in these columns, then concat the normalized JSON with `att_df` in order to add the information to the DataFrame."
   ]
  },
  {
   "cell_type": "code",
   "execution_count": 13,
   "id": "475bc832",
   "metadata": {},
   "outputs": [],
   "source": [
    "check_for_u = []\n",
    "\n",
    "for i in range(len(att_df)):\n",
    "  if type(att_df.loc[i, 'Music']) is not float and att_df.loc[i, 'Music'][1] == 'u':\n",
    "    check_for_u.append(i)"
   ]
  },
  {
   "cell_type": "code",
   "execution_count": 14,
   "id": "cd9a8daa",
   "metadata": {},
   "outputs": [
    {
     "data": {
      "text/plain": [
       "\"{u'dj': None, u'live': False, u'jukebox': None, u'video': False, u'background_music': False, u'karaoke': None, u'no_music': False}\""
      ]
     },
     "execution_count": 14,
     "metadata": {},
     "output_type": "execute_result"
    }
   ],
   "source": [
    "att_df.loc[check_for_u[0], 'Music']"
   ]
  },
  {
   "cell_type": "code",
   "execution_count": 15,
   "id": "72d028cf",
   "metadata": {},
   "outputs": [
    {
     "data": {
      "text/plain": [
       "771"
      ]
     },
     "execution_count": 15,
     "metadata": {},
     "output_type": "execute_result"
    }
   ],
   "source": [
    "len(check_for_u)"
   ]
  },
  {
   "cell_type": "code",
   "execution_count": 16,
   "id": "5725fd8a",
   "metadata": {},
   "outputs": [
    {
     "name": "stdout",
     "output_type": "stream",
     "text": [
      "{'dj': None, 'live': False, 'jukebox': None, 'video': False, 'background_music': False, 'karaoke': None, 'no_music': False}\n"
     ]
    }
   ],
   "source": [
    "# This is how we will clean the 'Music' column JSON string\n",
    "# Columns that have JSON values: BusinessParking, Ambience, GoodForMeal, Music, BestNights,\n",
    "# Replacement working for the following: Music, BestNights, Ambience, GoodForMeal, BusinessParking \n",
    "\n",
    "practice = att_df.loc[check_for_u[0], 'Music']\n",
    "practice = practice.replace( ', u', ', ').replace(\"u'\", \"'\")\n",
    "print (practice)"
   ]
  },
  {
   "cell_type": "code",
   "execution_count": 17,
   "id": "a41ca486",
   "metadata": {},
   "outputs": [],
   "source": [
    "# Get the indices of columns where the JSON information has u's\n",
    "\n",
    "music_u_indices = [ \n",
    "  i for i in range(len(att_df)) if type(att_df.loc[i, 'Music']) is not float and att_df.loc[i, 'Music'][1] == 'u' \n",
    "]\n",
    "\n",
    "best_nights_u_indices = [ \n",
    "  i for i in range(len(att_df)) if type(att_df.loc[i, 'BestNights']) is not float and att_df.loc[i, 'BestNights'][1] == 'u' \n",
    "]\n",
    "\n",
    "ambience_u_indices = [ \n",
    "  i for i in range(len(att_df)) if type(att_df.loc[i, 'Ambience']) is not float and att_df.loc[i, 'Ambience'][1] == 'u' \n",
    "]\n",
    "\n",
    "good_for_meal_u_indices = [ \n",
    "  i for i in range(len(att_df)) if type(att_df.loc[i, 'GoodForMeal']) is not float and att_df.loc[i, 'GoodForMeal'][1] == 'u' \n",
    "]\n",
    "\n",
    "business_parking_u_indices = [ \n",
    "  i for i in range(len(att_df)) if type(att_df.loc[i, 'BusinessParking']) is not float and att_df.loc[i, 'BusinessParking'][1] == 'u' \n",
    "]"
   ]
  },
  {
   "cell_type": "code",
   "execution_count": 18,
   "id": "5b99e444",
   "metadata": {},
   "outputs": [],
   "source": [
    "for idx in music_u_indices:\n",
    "  att_df.loc[idx, 'Music'] = att_df.loc[idx, 'Music'].replace( ', u', ', ').replace(\"u'\", \"'\")\n",
    "\n",
    "for idx in best_nights_u_indices:\n",
    "  att_df.loc[idx, 'BestNights'] = att_df.loc[idx, 'BestNights'].replace( ', u', ', ').replace(\"u'\", \"'\")\n",
    "\n",
    "for idx in ambience_u_indices:\n",
    "  att_df.loc[idx, 'Ambience'] = att_df.loc[idx, 'Ambience'].replace( ', u', ', ').replace(\"u'\", \"'\")\n",
    "\n",
    "for idx in good_for_meal_u_indices:\n",
    "  att_df.loc[idx, 'GoodForMeal'] = att_df.loc[idx, 'GoodForMeal'].replace( ', u', ', ').replace(\"u'\", \"'\")\n",
    "\n",
    "for idx in business_parking_u_indices:\n",
    "  att_df.loc[idx, 'BusinessParking'] = att_df.loc[idx, 'BusinessParking'].replace( ', u', ', ').replace(\"u'\", \"'\")"
   ]
  },
  {
   "cell_type": "code",
   "execution_count": 19,
   "id": "15ea53c0",
   "metadata": {},
   "outputs": [
    {
     "data": {
      "text/plain": [
       "{'touristy': False, 'hipster': False, 'romantic': False, 'divey': False, 'intimate': False, 'trendy': False, 'upscale': False, 'classy': False, 'casual': False}    6717\n",
       "{'romantic': False, 'intimate': False, 'classy': False, 'hipster': False, 'divey': False, 'touristy': False, 'trendy': False, 'upscale': False, 'casual': False}    5181\n",
       "{'romantic': False, 'intimate': False, 'classy': False, 'hipster': False, 'divey': False, 'touristy': False, 'trendy': False, 'upscale': False, 'casual': True}     4269\n",
       "{'romantic': False, 'intimate': False, 'touristy': False, 'hipster': False, 'divey': False, 'classy': False, 'trendy': False, 'upscale': False, 'casual': True}     4199\n",
       "{'romantic': False, 'intimate': False, 'touristy': False, 'hipster': False, 'divey': False, 'classy': False, 'trendy': False, 'upscale': False, 'casual': False}    3297\n",
       "                                                                                                                                                                    ... \n",
       "{'divey': True, 'hipster': False, 'casual': True, 'touristy': None, 'trendy': None, 'intimate': None, 'romantic': None, 'classy': False, 'upscale': None}              1\n",
       "{'touristy': None, 'hipster': None, 'romantic': False, 'divey': True, 'intimate': False, 'trendy': False, 'upscale': False, 'classy': None, 'casual': True}            1\n",
       "{'touristy': False, 'hipster': False, 'romantic': None, 'divey': None, 'intimate': False, 'trendy': False, 'upscale': False, 'classy': None, 'casual': None}           1\n",
       "{'touristy': None, 'hipster': None, 'romantic': None, 'divey': None, 'intimate': None, 'trendy': False, 'upscale': None, 'classy': True, 'casual': True}               1\n",
       "{'touristy': None, 'hipster': False, 'romantic': False, 'divey': None, 'intimate': False, 'trendy': False, 'upscale': None, 'classy': None, 'casual': True}            1\n",
       "Name: Ambience, Length: 2414, dtype: int64"
      ]
     },
     "execution_count": 19,
     "metadata": {},
     "output_type": "execute_result"
    }
   ],
   "source": [
    "# Comparing with the att_df['Ambience'].value_counts() to check for leading u's\n",
    "\n",
    "att_df['Ambience'].value_counts()"
   ]
  },
  {
   "cell_type": "markdown",
   "id": "e8555962",
   "metadata": {},
   "source": [
    "### Normalizing the JSON in the Columns with JSON Values"
   ]
  },
  {
   "cell_type": "code",
   "execution_count": 20,
   "id": "f359107e",
   "metadata": {},
   "outputs": [],
   "source": [
    "# Columns that have JSON values: BusinessParking, Ambience, GoodForMeal, Music, BestNights\n",
    "\n",
    "music_df = pd.json_normalize(att_df['Music'].to_list())"
   ]
  },
  {
   "cell_type": "code",
   "execution_count": 21,
   "id": "0ab88361",
   "metadata": {},
   "outputs": [
    {
     "data": {
      "text/plain": [
       "28        {'dj': False, 'background_music': False, 'no_m...\n",
       "46        {'dj': False, 'background_music': False, 'no_m...\n",
       "47        {'dj': False, 'background_music': False, 'no_m...\n",
       "61                                            {'dj': False}\n",
       "62                                        {'jukebox': True}\n",
       "                                ...                        \n",
       "150274    {'dj': None, 'background_music': False, 'no_mu...\n",
       "150275    {'dj': False, 'background_music': False, 'no_m...\n",
       "150291    {'dj': False, 'background_music': False, 'no_m...\n",
       "150292    {'dj': None, 'live': False, 'jukebox': None, '...\n",
       "150323    {'dj': False, 'background_music': False, 'no_m...\n",
       "Name: Music, Length: 7521, dtype: object"
      ]
     },
     "execution_count": 21,
     "metadata": {},
     "output_type": "execute_result"
    }
   ],
   "source": [
    "# Selects all rows where 'Music' is not null.\n",
    "# ~ is a negate operator on a boolean series\n",
    "\n",
    "att_df[~att_df['Music'].isnull()]['Music']"
   ]
  },
  {
   "cell_type": "code",
   "execution_count": 23,
   "id": "923f3ccf",
   "metadata": {},
   "outputs": [],
   "source": [
    "# test_df = att_df[~att_df['Music'].isnull()]['Music']\n",
    "# test_df = test_df.apply(lambda x: x.replace(\"'\", '\"'))\n",
    "# test_df\n",
    "\n",
    "# pd.json_normalize(att_df[~att_df['Music'].isnull()]['Music'].apply(json.loads))"
   ]
  },
  {
   "cell_type": "code",
   "execution_count": 26,
   "id": "41da74ee",
   "metadata": {},
   "outputs": [
    {
     "data": {
      "text/plain": [
       "\"{'dj': False, 'background_music': False, 'no_music': False, 'jukebox': False, 'live': False, 'video': False, 'karaoke': False}\""
      ]
     },
     "execution_count": 26,
     "metadata": {},
     "output_type": "execute_result"
    }
   ],
   "source": [
    "att_df.loc[28, 'Music']"
   ]
  },
  {
   "cell_type": "code",
   "execution_count": 48,
   "id": "cee27d40",
   "metadata": {},
   "outputs": [
    {
     "ename": "JSONDecodeError",
     "evalue": "Expecting property name enclosed in double quotes: line 1 column 2 (char 1)",
     "output_type": "error",
     "traceback": [
      "\u001b[0;31m---------------------------------------------------------------------------\u001b[0m",
      "\u001b[0;31mJSONDecodeError\u001b[0m                           Traceback (most recent call last)",
      "\u001b[0;32m<ipython-input-48-42f737eb45ac>\u001b[0m in \u001b[0;36m<module>\u001b[0;34m\u001b[0m\n\u001b[0;32m----> 1\u001b[0;31m \u001b[0mjson\u001b[0m\u001b[0;34m.\u001b[0m\u001b[0mloads\u001b[0m\u001b[0;34m(\u001b[0m\u001b[0matt_df\u001b[0m\u001b[0;34m.\u001b[0m\u001b[0mloc\u001b[0m\u001b[0;34m[\u001b[0m\u001b[0;36m28\u001b[0m\u001b[0;34m,\u001b[0m \u001b[0;34m'Music'\u001b[0m\u001b[0;34m]\u001b[0m\u001b[0;34m)\u001b[0m\u001b[0;34m\u001b[0m\u001b[0;34m\u001b[0m\u001b[0m\n\u001b[0m",
      "\u001b[0;32m~/opt/anaconda3/lib/python3.8/json/__init__.py\u001b[0m in \u001b[0;36mloads\u001b[0;34m(s, cls, object_hook, parse_float, parse_int, parse_constant, object_pairs_hook, **kw)\u001b[0m\n\u001b[1;32m    355\u001b[0m             \u001b[0mparse_int\u001b[0m \u001b[0;32mis\u001b[0m \u001b[0;32mNone\u001b[0m \u001b[0;32mand\u001b[0m \u001b[0mparse_float\u001b[0m \u001b[0;32mis\u001b[0m \u001b[0;32mNone\u001b[0m \u001b[0;32mand\u001b[0m\u001b[0;34m\u001b[0m\u001b[0;34m\u001b[0m\u001b[0m\n\u001b[1;32m    356\u001b[0m             parse_constant is None and object_pairs_hook is None and not kw):\n\u001b[0;32m--> 357\u001b[0;31m         \u001b[0;32mreturn\u001b[0m \u001b[0m_default_decoder\u001b[0m\u001b[0;34m.\u001b[0m\u001b[0mdecode\u001b[0m\u001b[0;34m(\u001b[0m\u001b[0ms\u001b[0m\u001b[0;34m)\u001b[0m\u001b[0;34m\u001b[0m\u001b[0;34m\u001b[0m\u001b[0m\n\u001b[0m\u001b[1;32m    358\u001b[0m     \u001b[0;32mif\u001b[0m \u001b[0mcls\u001b[0m \u001b[0;32mis\u001b[0m \u001b[0;32mNone\u001b[0m\u001b[0;34m:\u001b[0m\u001b[0;34m\u001b[0m\u001b[0;34m\u001b[0m\u001b[0m\n\u001b[1;32m    359\u001b[0m         \u001b[0mcls\u001b[0m \u001b[0;34m=\u001b[0m \u001b[0mJSONDecoder\u001b[0m\u001b[0;34m\u001b[0m\u001b[0;34m\u001b[0m\u001b[0m\n",
      "\u001b[0;32m~/opt/anaconda3/lib/python3.8/json/decoder.py\u001b[0m in \u001b[0;36mdecode\u001b[0;34m(self, s, _w)\u001b[0m\n\u001b[1;32m    335\u001b[0m \u001b[0;34m\u001b[0m\u001b[0m\n\u001b[1;32m    336\u001b[0m         \"\"\"\n\u001b[0;32m--> 337\u001b[0;31m         \u001b[0mobj\u001b[0m\u001b[0;34m,\u001b[0m \u001b[0mend\u001b[0m \u001b[0;34m=\u001b[0m \u001b[0mself\u001b[0m\u001b[0;34m.\u001b[0m\u001b[0mraw_decode\u001b[0m\u001b[0;34m(\u001b[0m\u001b[0ms\u001b[0m\u001b[0;34m,\u001b[0m \u001b[0midx\u001b[0m\u001b[0;34m=\u001b[0m\u001b[0m_w\u001b[0m\u001b[0;34m(\u001b[0m\u001b[0ms\u001b[0m\u001b[0;34m,\u001b[0m \u001b[0;36m0\u001b[0m\u001b[0;34m)\u001b[0m\u001b[0;34m.\u001b[0m\u001b[0mend\u001b[0m\u001b[0;34m(\u001b[0m\u001b[0;34m)\u001b[0m\u001b[0;34m)\u001b[0m\u001b[0;34m\u001b[0m\u001b[0;34m\u001b[0m\u001b[0m\n\u001b[0m\u001b[1;32m    338\u001b[0m         \u001b[0mend\u001b[0m \u001b[0;34m=\u001b[0m \u001b[0m_w\u001b[0m\u001b[0;34m(\u001b[0m\u001b[0ms\u001b[0m\u001b[0;34m,\u001b[0m \u001b[0mend\u001b[0m\u001b[0;34m)\u001b[0m\u001b[0;34m.\u001b[0m\u001b[0mend\u001b[0m\u001b[0;34m(\u001b[0m\u001b[0;34m)\u001b[0m\u001b[0;34m\u001b[0m\u001b[0;34m\u001b[0m\u001b[0m\n\u001b[1;32m    339\u001b[0m         \u001b[0;32mif\u001b[0m \u001b[0mend\u001b[0m \u001b[0;34m!=\u001b[0m \u001b[0mlen\u001b[0m\u001b[0;34m(\u001b[0m\u001b[0ms\u001b[0m\u001b[0;34m)\u001b[0m\u001b[0;34m:\u001b[0m\u001b[0;34m\u001b[0m\u001b[0;34m\u001b[0m\u001b[0m\n",
      "\u001b[0;32m~/opt/anaconda3/lib/python3.8/json/decoder.py\u001b[0m in \u001b[0;36mraw_decode\u001b[0;34m(self, s, idx)\u001b[0m\n\u001b[1;32m    351\u001b[0m         \"\"\"\n\u001b[1;32m    352\u001b[0m         \u001b[0;32mtry\u001b[0m\u001b[0;34m:\u001b[0m\u001b[0;34m\u001b[0m\u001b[0;34m\u001b[0m\u001b[0m\n\u001b[0;32m--> 353\u001b[0;31m             \u001b[0mobj\u001b[0m\u001b[0;34m,\u001b[0m \u001b[0mend\u001b[0m \u001b[0;34m=\u001b[0m \u001b[0mself\u001b[0m\u001b[0;34m.\u001b[0m\u001b[0mscan_once\u001b[0m\u001b[0;34m(\u001b[0m\u001b[0ms\u001b[0m\u001b[0;34m,\u001b[0m \u001b[0midx\u001b[0m\u001b[0;34m)\u001b[0m\u001b[0;34m\u001b[0m\u001b[0;34m\u001b[0m\u001b[0m\n\u001b[0m\u001b[1;32m    354\u001b[0m         \u001b[0;32mexcept\u001b[0m \u001b[0mStopIteration\u001b[0m \u001b[0;32mas\u001b[0m \u001b[0merr\u001b[0m\u001b[0;34m:\u001b[0m\u001b[0;34m\u001b[0m\u001b[0;34m\u001b[0m\u001b[0m\n\u001b[1;32m    355\u001b[0m             \u001b[0;32mraise\u001b[0m \u001b[0mJSONDecodeError\u001b[0m\u001b[0;34m(\u001b[0m\u001b[0;34m\"Expecting value\"\u001b[0m\u001b[0;34m,\u001b[0m \u001b[0ms\u001b[0m\u001b[0;34m,\u001b[0m \u001b[0merr\u001b[0m\u001b[0;34m.\u001b[0m\u001b[0mvalue\u001b[0m\u001b[0;34m)\u001b[0m \u001b[0;32mfrom\u001b[0m \u001b[0;32mNone\u001b[0m\u001b[0;34m\u001b[0m\u001b[0;34m\u001b[0m\u001b[0m\n",
      "\u001b[0;31mJSONDecodeError\u001b[0m: Expecting property name enclosed in double quotes: line 1 column 2 (char 1)"
     ]
    }
   ],
   "source": [
    "json.loads(att_df.loc[28, 'Music'])"
   ]
  },
  {
   "cell_type": "code",
   "execution_count": 55,
   "id": "b4b7fa73",
   "metadata": {},
   "outputs": [],
   "source": [
    "test_dict = ast.literal_eval(att_df.loc[28, 'Music'])"
   ]
  },
  {
   "cell_type": "code",
   "execution_count": 56,
   "id": "e9478faf",
   "metadata": {},
   "outputs": [
    {
     "name": "stdout",
     "output_type": "stream",
     "text": [
      "<class 'dict'>\n"
     ]
    },
    {
     "data": {
      "text/plain": [
       "{'dj': False,\n",
       " 'background_music': False,\n",
       " 'no_music': False,\n",
       " 'jukebox': False,\n",
       " 'live': False,\n",
       " 'video': False,\n",
       " 'karaoke': False}"
      ]
     },
     "execution_count": 56,
     "metadata": {},
     "output_type": "execute_result"
    }
   ],
   "source": [
    "print (type(test_dict))\n",
    "test_dict"
   ]
  },
  {
   "cell_type": "code",
   "execution_count": 57,
   "id": "43e85a5d",
   "metadata": {},
   "outputs": [
    {
     "data": {
      "text/plain": [
       "'{\"dj\": false, \"background_music\": false, \"no_music\": false, \"jukebox\": false, \"live\": false, \"video\": false, \"karaoke\": false}'"
      ]
     },
     "execution_count": 57,
     "metadata": {},
     "output_type": "execute_result"
    }
   ],
   "source": [
    "json.dumps(test_dict)"
   ]
  },
  {
   "cell_type": "code",
   "execution_count": 59,
   "id": "fde3d7fc",
   "metadata": {},
   "outputs": [],
   "source": [
    "for key in test_dict:\n",
    "  if type(test_dict[key]) is bool:\n",
    "    test_dict[key] = str(test_dict[key])"
   ]
  },
  {
   "cell_type": "code",
   "execution_count": 60,
   "id": "3bab9df3",
   "metadata": {},
   "outputs": [
    {
     "data": {
      "text/plain": [
       "{'dj': 'False',\n",
       " 'background_music': 'False',\n",
       " 'no_music': 'False',\n",
       " 'jukebox': 'False',\n",
       " 'live': 'False',\n",
       " 'video': 'False',\n",
       " 'karaoke': 'False'}"
      ]
     },
     "execution_count": 60,
     "metadata": {},
     "output_type": "execute_result"
    }
   ],
   "source": [
    "test_dict"
   ]
  },
  {
   "cell_type": "code",
   "execution_count": 62,
   "id": "34590b3b",
   "metadata": {},
   "outputs": [
    {
     "data": {
      "text/plain": [
       "'{\"dj\": \"False\", \"background_music\": \"False\", \"no_music\": \"False\", \"jukebox\": \"False\", \"live\": \"False\", \"video\": \"False\", \"karaoke\": \"False\"}'"
      ]
     },
     "execution_count": 62,
     "metadata": {},
     "output_type": "execute_result"
    }
   ],
   "source": [
    "json.dumps(test_dict)"
   ]
  },
  {
   "cell_type": "code",
   "execution_count": null,
   "id": "7fd11af6",
   "metadata": {},
   "outputs": [],
   "source": []
  }
 ],
 "metadata": {
  "kernelspec": {
   "display_name": "Python 3",
   "language": "python",
   "name": "python3"
  },
  "language_info": {
   "codemirror_mode": {
    "name": "ipython",
    "version": 3
   },
   "file_extension": ".py",
   "mimetype": "text/x-python",
   "name": "python",
   "nbconvert_exporter": "python",
   "pygments_lexer": "ipython3",
   "version": "3.8.10"
  },
  "vscode": {
   "interpreter": {
    "hash": "650087dea920a2439f95599a997032a7d08f02793782e304106ac0f70af1a4a6"
   }
  }
 },
 "nbformat": 4,
 "nbformat_minor": 5
}
