{
 "cells": [
  {
   "cell_type": "code",
   "execution_count": 1,
   "id": "70ab1945",
   "metadata": {},
   "outputs": [],
   "source": [
    "import numpy as np\n",
    "import pandas as pd\n",
    "import re\n",
    "import ast\n",
    "import sqlalchemy as sa\n",
    "import os\n",
    "\n",
    "from dotenv import load_dotenv"
   ]
  },
  {
   "cell_type": "code",
   "execution_count": 2,
   "id": "b832e1fe",
   "metadata": {},
   "outputs": [],
   "source": [
    "# b_data is short for business dataset\n",
    "# lines = True helps with the Trailing data ValueError\n",
    "\n",
    "b_data = pd.read_json('../../data_projects/data/yelp/yelp_dataset/yelp_academic_dataset_business.json', lines = True)"
   ]
  },
  {
   "cell_type": "code",
   "execution_count": 3,
   "id": "1e658d5f",
   "metadata": {},
   "outputs": [],
   "source": [
    "b_data.drop(b_data.columns.difference(['business_id', 'attributes']), axis = 1, inplace = True)"
   ]
  },
  {
   "cell_type": "code",
   "execution_count": 4,
   "id": "97b5ee9e",
   "metadata": {},
   "outputs": [
    {
     "data": {
      "text/html": [
       "<div>\n",
       "<style scoped>\n",
       "    .dataframe tbody tr th:only-of-type {\n",
       "        vertical-align: middle;\n",
       "    }\n",
       "\n",
       "    .dataframe tbody tr th {\n",
       "        vertical-align: top;\n",
       "    }\n",
       "\n",
       "    .dataframe thead th {\n",
       "        text-align: right;\n",
       "    }\n",
       "</style>\n",
       "<table border=\"1\" class=\"dataframe\">\n",
       "  <thead>\n",
       "    <tr style=\"text-align: right;\">\n",
       "      <th></th>\n",
       "      <th>business_id</th>\n",
       "      <th>attributes</th>\n",
       "    </tr>\n",
       "  </thead>\n",
       "  <tbody>\n",
       "    <tr>\n",
       "      <th>0</th>\n",
       "      <td>Pns2l4eNsfO8kk83dixA6A</td>\n",
       "      <td>{'ByAppointmentOnly': 'True'}</td>\n",
       "    </tr>\n",
       "    <tr>\n",
       "      <th>1</th>\n",
       "      <td>mpf3x-BjTdTEA3yCZrAYPw</td>\n",
       "      <td>{'BusinessAcceptsCreditCards': 'True'}</td>\n",
       "    </tr>\n",
       "    <tr>\n",
       "      <th>2</th>\n",
       "      <td>tUFrWirKiKi_TAnsVWINQQ</td>\n",
       "      <td>{'BikeParking': 'True', 'BusinessAcceptsCredit...</td>\n",
       "    </tr>\n",
       "    <tr>\n",
       "      <th>3</th>\n",
       "      <td>MTSW4McQd7CbVtyjqoe9mw</td>\n",
       "      <td>{'RestaurantsDelivery': 'False', 'OutdoorSeati...</td>\n",
       "    </tr>\n",
       "    <tr>\n",
       "      <th>4</th>\n",
       "      <td>mWMc6_wTdE0EUBKIGXDVfA</td>\n",
       "      <td>{'BusinessAcceptsCreditCards': 'True', 'Wheelc...</td>\n",
       "    </tr>\n",
       "    <tr>\n",
       "      <th>...</th>\n",
       "      <td>...</td>\n",
       "      <td>...</td>\n",
       "    </tr>\n",
       "    <tr>\n",
       "      <th>150341</th>\n",
       "      <td>IUQopTMmYQG-qRtBk-8QnA</td>\n",
       "      <td>{'ByAppointmentOnly': 'False', 'RestaurantsPri...</td>\n",
       "    </tr>\n",
       "    <tr>\n",
       "      <th>150342</th>\n",
       "      <td>c8GjPIOTGVmIemT7j5_SyQ</td>\n",
       "      <td>{'BusinessAcceptsCreditCards': 'True', 'Restau...</td>\n",
       "    </tr>\n",
       "    <tr>\n",
       "      <th>150343</th>\n",
       "      <td>_QAMST-NrQobXduilWEqSw</td>\n",
       "      <td>{'RestaurantsPriceRange2': '1', 'BusinessAccep...</td>\n",
       "    </tr>\n",
       "    <tr>\n",
       "      <th>150344</th>\n",
       "      <td>mtGm22y5c2UHNXDFAjaPNw</td>\n",
       "      <td>{'BusinessParking': '{'garage': False, 'street...</td>\n",
       "    </tr>\n",
       "    <tr>\n",
       "      <th>150345</th>\n",
       "      <td>jV_XOycEzSlTx-65W906pg</td>\n",
       "      <td>{'WheelchairAccessible': 'True', 'BusinessAcce...</td>\n",
       "    </tr>\n",
       "  </tbody>\n",
       "</table>\n",
       "<p>150346 rows × 2 columns</p>\n",
       "</div>"
      ],
      "text/plain": [
       "                   business_id  \\\n",
       "0       Pns2l4eNsfO8kk83dixA6A   \n",
       "1       mpf3x-BjTdTEA3yCZrAYPw   \n",
       "2       tUFrWirKiKi_TAnsVWINQQ   \n",
       "3       MTSW4McQd7CbVtyjqoe9mw   \n",
       "4       mWMc6_wTdE0EUBKIGXDVfA   \n",
       "...                        ...   \n",
       "150341  IUQopTMmYQG-qRtBk-8QnA   \n",
       "150342  c8GjPIOTGVmIemT7j5_SyQ   \n",
       "150343  _QAMST-NrQobXduilWEqSw   \n",
       "150344  mtGm22y5c2UHNXDFAjaPNw   \n",
       "150345  jV_XOycEzSlTx-65W906pg   \n",
       "\n",
       "                                               attributes  \n",
       "0                           {'ByAppointmentOnly': 'True'}  \n",
       "1                  {'BusinessAcceptsCreditCards': 'True'}  \n",
       "2       {'BikeParking': 'True', 'BusinessAcceptsCredit...  \n",
       "3       {'RestaurantsDelivery': 'False', 'OutdoorSeati...  \n",
       "4       {'BusinessAcceptsCreditCards': 'True', 'Wheelc...  \n",
       "...                                                   ...  \n",
       "150341  {'ByAppointmentOnly': 'False', 'RestaurantsPri...  \n",
       "150342  {'BusinessAcceptsCreditCards': 'True', 'Restau...  \n",
       "150343  {'RestaurantsPriceRange2': '1', 'BusinessAccep...  \n",
       "150344  {'BusinessParking': '{'garage': False, 'street...  \n",
       "150345  {'WheelchairAccessible': 'True', 'BusinessAcce...  \n",
       "\n",
       "[150346 rows x 2 columns]"
      ]
     },
     "execution_count": 4,
     "metadata": {},
     "output_type": "execute_result"
    }
   ],
   "source": [
    "b_data"
   ]
  },
  {
   "cell_type": "code",
   "execution_count": 5,
   "id": "e5b58b0a",
   "metadata": {},
   "outputs": [
    {
     "name": "stdout",
     "output_type": "stream",
     "text": [
      "<class 'pandas.core.frame.DataFrame'>\n",
      "RangeIndex: 150346 entries, 0 to 150345\n",
      "Data columns (total 39 columns):\n",
      " #   Column                      Non-Null Count   Dtype \n",
      "---  ------                      --------------   ----- \n",
      " 0   ByAppointmentOnly           42339 non-null   object\n",
      " 1   BusinessAcceptsCreditCards  119765 non-null  object\n",
      " 2   BikeParking                 72638 non-null   object\n",
      " 3   RestaurantsPriceRange2      85314 non-null   object\n",
      " 4   CoatCheck                   5584 non-null    object\n",
      " 5   RestaurantsTakeOut          59857 non-null   object\n",
      " 6   RestaurantsDelivery         56282 non-null   object\n",
      " 7   Caters                      40127 non-null   object\n",
      " 8   WiFi                        56914 non-null   object\n",
      " 9   BusinessParking             91085 non-null   object\n",
      " 10  WheelchairAccessible        28953 non-null   object\n",
      " 11  HappyHour                   15171 non-null   object\n",
      " 12  OutdoorSeating              48802 non-null   object\n",
      " 13  HasTV                       45084 non-null   object\n",
      " 14  RestaurantsReservations     45247 non-null   object\n",
      " 15  DogsAllowed                 18284 non-null   object\n",
      " 16  Alcohol                     43189 non-null   object\n",
      " 17  GoodForKids                 53375 non-null   object\n",
      " 18  RestaurantsAttire           39255 non-null   object\n",
      " 19  Ambience                    44279 non-null   object\n",
      " 20  RestaurantsTableService     19982 non-null   object\n",
      " 21  RestaurantsGoodForGroups    44170 non-null   object\n",
      " 22  DriveThru                   7760 non-null    object\n",
      " 23  NoiseLevel                  37993 non-null   object\n",
      " 24  GoodForMeal                 29087 non-null   object\n",
      " 25  BusinessAcceptsBitcoin      17430 non-null   object\n",
      " 26  Smoking                     4567 non-null    object\n",
      " 27  Music                       7521 non-null    object\n",
      " 28  GoodForDancing              4628 non-null    object\n",
      " 29  AcceptsInsurance            5713 non-null    object\n",
      " 30  BestNights                  5694 non-null    object\n",
      " 31  BYOB                        4451 non-null    object\n",
      " 32  Corkage                     3553 non-null    object\n",
      " 33  BYOBCorkage                 1444 non-null    object\n",
      " 34  HairSpecializesIn           1065 non-null    object\n",
      " 35  Open24Hours                 39 non-null      object\n",
      " 36  RestaurantsCounterService   19 non-null      object\n",
      " 37  AgesAllowed                 129 non-null     object\n",
      " 38  DietaryRestrictions         31 non-null      object\n",
      "dtypes: object(39)\n",
      "memory usage: 44.7+ MB\n"
     ]
    }
   ],
   "source": [
    "att_df = pd.json_normalize(b_data['attributes'].to_list())\n",
    "att_df.info()"
   ]
  },
  {
   "cell_type": "markdown",
   "id": "74fb4412",
   "metadata": {},
   "source": [
    "### Deciding Which Columns to Remove\n",
    "\n",
    "We will be dropping some columns because the amount of information they convey relative to the amount of businesses they pertain to is small."
   ]
  },
  {
   "cell_type": "code",
   "execution_count": 6,
   "id": "1c5a3d4d",
   "metadata": {},
   "outputs": [],
   "source": [
    "att_df.drop(\n",
    "  columns = ['HairSpecializesIn', 'DietaryRestrictions', 'Open24Hours', 'AgesAllowed', 'RestaurantsCounterService', 'CoatCheck'],\n",
    "  axis = 1,\n",
    "  inplace = True\n",
    ")"
   ]
  },
  {
   "cell_type": "code",
   "execution_count": 7,
   "id": "adde688f",
   "metadata": {},
   "outputs": [
    {
     "name": "stdout",
     "output_type": "stream",
     "text": [
      "RestaurantsPriceRange2\n",
      "WiFi\n",
      "BusinessParking\n",
      "Alcohol\n",
      "RestaurantsAttire\n",
      "Ambience\n",
      "NoiseLevel\n",
      "GoodForMeal\n",
      "Smoking\n",
      "Music\n",
      "BestNights\n",
      "BYOBCorkage\n"
     ]
    }
   ],
   "source": [
    "# These are the columns that may have values that are not booleans.\n",
    "\n",
    "for col in att_df.columns.to_list():\n",
    "    if len(att_df[att_df[col].notnull()][col].value_counts().to_list()) > 3:\n",
    "        print (col)"
   ]
  },
  {
   "cell_type": "code",
   "execution_count": 8,
   "id": "88c912d7",
   "metadata": {},
   "outputs": [
    {
     "name": "stdout",
     "output_type": "stream",
     "text": [
      "{'touristy': False, 'hipster': False, 'romantic': False, 'divey': False, 'intimate': False, 'trendy': False, 'upscale': False, 'classy': False, 'casual': False}      6717\n",
      "{'romantic': False, 'intimate': False, 'classy': False, 'hipster': False, 'divey': False, 'touristy': False, 'trendy': False, 'upscale': False, 'casual': False}      5181\n",
      "{'romantic': False, 'intimate': False, 'classy': False, 'hipster': False, 'divey': False, 'touristy': False, 'trendy': False, 'upscale': False, 'casual': True}       4269\n",
      "{'romantic': False, 'intimate': False, 'touristy': False, 'hipster': False, 'divey': False, 'classy': False, 'trendy': False, 'upscale': False, 'casual': True}       4199\n",
      "{'romantic': False, 'intimate': False, 'touristy': False, 'hipster': False, 'divey': False, 'classy': False, 'trendy': False, 'upscale': False, 'casual': False}      3297\n",
      "                                                                                                                                                                      ... \n",
      "{u'divey': True, u'hipster': False, u'casual': True, u'touristy': None, u'trendy': None, u'intimate': None, u'romantic': None, u'classy': False, u'upscale': None}       1\n",
      "{'touristy': None, 'hipster': None, 'romantic': False, 'divey': True, 'intimate': False, 'trendy': False, 'upscale': False, 'classy': None, 'casual': True}              1\n",
      "{'touristy': False, 'hipster': False, 'romantic': None, 'divey': None, 'intimate': False, 'trendy': False, 'upscale': False, 'classy': None, 'casual': None}             1\n",
      "{'touristy': None, 'hipster': None, 'romantic': None, 'divey': None, 'intimate': None, 'trendy': False, 'upscale': None, 'classy': True, 'casual': True}                 1\n",
      "{'touristy': None, 'hipster': False, 'romantic': False, 'divey': None, 'intimate': False, 'trendy': False, 'upscale': None, 'classy': None, 'casual': True}              1\n",
      "Name: Ambience, Length: 2414, dtype: int64\n"
     ]
    }
   ],
   "source": [
    "# Lets us explore the values of the columns.\n",
    "# Will be helpful for knowing if other columns consist of JSON data\n",
    "# Columns that have leading 'u': Alcohol, NoiseLevel, WiFi, RestaurantsAttire, Smoking, BYOBCorkage\n",
    "# Columns that have JSON values: BusinessParking, Ambience, GoodForMeal, Music, BestNights\n",
    "\n",
    "column_string = 'Ambience'\n",
    "\n",
    "print (att_df[att_df[column_string].notnull()][column_string].value_counts())"
   ]
  },
  {
   "cell_type": "code",
   "execution_count": 9,
   "id": "80eae027",
   "metadata": {},
   "outputs": [
    {
     "data": {
      "text/plain": [
       "'u'"
      ]
     },
     "execution_count": 9,
     "metadata": {},
     "output_type": "execute_result"
    }
   ],
   "source": [
    "# If a column has a 'u' as the first character, we will need to remove the 'u'\n",
    "\n",
    "att_df.loc[3, 'Alcohol'][0]"
   ]
  },
  {
   "cell_type": "code",
   "execution_count": 10,
   "id": "9d1b3e0a",
   "metadata": {},
   "outputs": [
    {
     "data": {
      "text/plain": [
       "\"'none'\""
      ]
     },
     "execution_count": 10,
     "metadata": {},
     "output_type": "execute_result"
    }
   ],
   "source": [
    "# We will remove the leading 'u' with this reassignment\n",
    "\n",
    "att_df.loc[3, 'Alcohol'][1:]"
   ]
  },
  {
   "cell_type": "code",
   "execution_count": 11,
   "id": "71c6b53d",
   "metadata": {},
   "outputs": [],
   "source": [
    "# Cleans the leading u's from the following columns\n",
    "\n",
    "leading_u_columns = ['Alcohol', 'NoiseLevel', 'WiFi', 'RestaurantsAttire', 'Smoking', 'BYOBCorkage']\n",
    "\n",
    "for i in range(len(att_df)):\n",
    "  for col in leading_u_columns:\n",
    "    if type(att_df.loc[i, col]) is not float and att_df.loc[i, col][0] == 'u':\n",
    "      att_df.loc[i, col] = att_df.loc[i, col][1:]"
   ]
  },
  {
   "cell_type": "code",
   "execution_count": 12,
   "id": "740e00df",
   "metadata": {},
   "outputs": [
    {
     "name": "stdout",
     "output_type": "stream",
     "text": [
      "Alcohol 'none'             20910\n",
      "'full_bar'         15992\n",
      "'beer_and_wine'     6249\n",
      "None                  38\n",
      "Name: Alcohol, dtype: int64\n",
      "NoiseLevel 'average'      26188\n",
      "'quiet'         7634\n",
      "'loud'          2932\n",
      "'very_loud'     1200\n",
      "None              39\n",
      "Name: NoiseLevel, dtype: int64\n",
      "WiFi 'free'    34414\n",
      "'no'      21831\n",
      "'paid'      619\n",
      "None         50\n",
      "Name: WiFi, dtype: int64\n",
      "RestaurantsAttire 'casual'    38344\n",
      "'dressy'      803\n",
      "'formal'       70\n",
      "None           38\n",
      "Name: RestaurantsAttire, dtype: int64\n",
      "Smoking 'no'         2405\n",
      "'outdoor'    1817\n",
      "'yes'         331\n",
      "None           14\n",
      "Name: Smoking, dtype: int64\n",
      "BYOBCorkage 'no'             747\n",
      "'yes_free'       590\n",
      "'yes_corkage'    102\n",
      "None               5\n",
      "Name: BYOBCorkage, dtype: int64\n"
     ]
    }
   ],
   "source": [
    "# Check the above transformation\n",
    "\n",
    "for col in leading_u_columns:\n",
    "  print (col, att_df[att_df[col].notnull()][col].value_counts())"
   ]
  },
  {
   "cell_type": "markdown",
   "id": "68e08251",
   "metadata": {},
   "source": [
    "### Cleaning the JSON in Columns with JSON Values\n",
    "\n",
    "Some of the JSON keys have a leading 'u' which needs to be removed. This is because we will normalize the JSON in these columns, then concat the normalized JSON with `att_df` in order to add the information to the DataFrame."
   ]
  },
  {
   "cell_type": "code",
   "execution_count": 13,
   "id": "475bc832",
   "metadata": {},
   "outputs": [],
   "source": [
    "check_for_u = []\n",
    "\n",
    "for i in range(len(att_df)):\n",
    "  if type(att_df.loc[i, 'Music']) is not float and att_df.loc[i, 'Music'][1] == 'u':\n",
    "    check_for_u.append(i)"
   ]
  },
  {
   "cell_type": "code",
   "execution_count": 14,
   "id": "cd9a8daa",
   "metadata": {},
   "outputs": [
    {
     "data": {
      "text/plain": [
       "\"{u'dj': None, u'live': False, u'jukebox': None, u'video': False, u'background_music': False, u'karaoke': None, u'no_music': False}\""
      ]
     },
     "execution_count": 14,
     "metadata": {},
     "output_type": "execute_result"
    }
   ],
   "source": [
    "att_df.loc[check_for_u[0], 'Music']"
   ]
  },
  {
   "cell_type": "code",
   "execution_count": 15,
   "id": "72d028cf",
   "metadata": {},
   "outputs": [
    {
     "data": {
      "text/plain": [
       "771"
      ]
     },
     "execution_count": 15,
     "metadata": {},
     "output_type": "execute_result"
    }
   ],
   "source": [
    "len(check_for_u)"
   ]
  },
  {
   "cell_type": "code",
   "execution_count": 16,
   "id": "5725fd8a",
   "metadata": {},
   "outputs": [
    {
     "name": "stdout",
     "output_type": "stream",
     "text": [
      "{'dj': None, 'live': False, 'jukebox': None, 'video': False, 'background_music': False, 'karaoke': None, 'no_music': False}\n"
     ]
    }
   ],
   "source": [
    "# This is how we will clean the 'Music' column JSON string\n",
    "# Columns that have JSON values: BusinessParking, Ambience, GoodForMeal, Music, BestNights,\n",
    "# Replacement working for the following: Music, BestNights, Ambience, GoodForMeal, BusinessParking \n",
    "\n",
    "practice = att_df.loc[check_for_u[0], 'Music']\n",
    "practice = practice.replace( ', u', ', ').replace(\"u'\", \"'\")\n",
    "print (practice)"
   ]
  },
  {
   "cell_type": "code",
   "execution_count": 17,
   "id": "a41ca486",
   "metadata": {},
   "outputs": [],
   "source": [
    "# Get the indices of columns where the JSON information has u's\n",
    "\n",
    "music_u_indices = [ \n",
    "  i for i in range(len(att_df)) if type(att_df.loc[i, 'Music']) is not float and att_df.loc[i, 'Music'][1] == 'u' \n",
    "]\n",
    "\n",
    "best_nights_u_indices = [ \n",
    "  i for i in range(len(att_df)) if type(att_df.loc[i, 'BestNights']) is not float and att_df.loc[i, 'BestNights'][1] == 'u' \n",
    "]\n",
    "\n",
    "ambience_u_indices = [ \n",
    "  i for i in range(len(att_df)) if type(att_df.loc[i, 'Ambience']) is not float and att_df.loc[i, 'Ambience'][1] == 'u' \n",
    "]\n",
    "\n",
    "good_for_meal_u_indices = [ \n",
    "  i for i in range(len(att_df)) if type(att_df.loc[i, 'GoodForMeal']) is not float and att_df.loc[i, 'GoodForMeal'][1] == 'u' \n",
    "]\n",
    "\n",
    "business_parking_u_indices = [ \n",
    "  i for i in range(len(att_df)) if type(att_df.loc[i, 'BusinessParking']) is not float and att_df.loc[i, 'BusinessParking'][1] == 'u' \n",
    "]"
   ]
  },
  {
   "cell_type": "code",
   "execution_count": 18,
   "id": "5b99e444",
   "metadata": {},
   "outputs": [],
   "source": [
    "for idx in music_u_indices:\n",
    "  att_df.loc[idx, 'Music'] = att_df.loc[idx, 'Music'].replace( ', u', ', ').replace(\"u'\", \"'\")\n",
    "\n",
    "for idx in best_nights_u_indices:\n",
    "  att_df.loc[idx, 'BestNights'] = att_df.loc[idx, 'BestNights'].replace( ', u', ', ').replace(\"u'\", \"'\")\n",
    "\n",
    "for idx in ambience_u_indices:\n",
    "  att_df.loc[idx, 'Ambience'] = att_df.loc[idx, 'Ambience'].replace( ', u', ', ').replace(\"u'\", \"'\")\n",
    "\n",
    "for idx in good_for_meal_u_indices:\n",
    "  att_df.loc[idx, 'GoodForMeal'] = att_df.loc[idx, 'GoodForMeal'].replace( ', u', ', ').replace(\"u'\", \"'\")\n",
    "\n",
    "for idx in business_parking_u_indices:\n",
    "  att_df.loc[idx, 'BusinessParking'] = att_df.loc[idx, 'BusinessParking'].replace( ', u', ', ').replace(\"u'\", \"'\")"
   ]
  },
  {
   "cell_type": "code",
   "execution_count": 19,
   "id": "15ea53c0",
   "metadata": {},
   "outputs": [
    {
     "data": {
      "text/plain": [
       "{'touristy': False, 'hipster': False, 'romantic': False, 'divey': False, 'intimate': False, 'trendy': False, 'upscale': False, 'classy': False, 'casual': False}    6717\n",
       "{'romantic': False, 'intimate': False, 'classy': False, 'hipster': False, 'divey': False, 'touristy': False, 'trendy': False, 'upscale': False, 'casual': False}    5181\n",
       "{'romantic': False, 'intimate': False, 'classy': False, 'hipster': False, 'divey': False, 'touristy': False, 'trendy': False, 'upscale': False, 'casual': True}     4269\n",
       "{'romantic': False, 'intimate': False, 'touristy': False, 'hipster': False, 'divey': False, 'classy': False, 'trendy': False, 'upscale': False, 'casual': True}     4199\n",
       "{'romantic': False, 'intimate': False, 'touristy': False, 'hipster': False, 'divey': False, 'classy': False, 'trendy': False, 'upscale': False, 'casual': False}    3297\n",
       "                                                                                                                                                                    ... \n",
       "{'divey': True, 'hipster': False, 'casual': True, 'touristy': None, 'trendy': None, 'intimate': None, 'romantic': None, 'classy': False, 'upscale': None}              1\n",
       "{'touristy': None, 'hipster': None, 'romantic': False, 'divey': True, 'intimate': False, 'trendy': False, 'upscale': False, 'classy': None, 'casual': True}            1\n",
       "{'touristy': False, 'hipster': False, 'romantic': None, 'divey': None, 'intimate': False, 'trendy': False, 'upscale': False, 'classy': None, 'casual': None}           1\n",
       "{'touristy': None, 'hipster': None, 'romantic': None, 'divey': None, 'intimate': None, 'trendy': False, 'upscale': None, 'classy': True, 'casual': True}               1\n",
       "{'touristy': None, 'hipster': False, 'romantic': False, 'divey': None, 'intimate': False, 'trendy': False, 'upscale': None, 'classy': None, 'casual': True}            1\n",
       "Name: Ambience, Length: 2414, dtype: int64"
      ]
     },
     "execution_count": 19,
     "metadata": {},
     "output_type": "execute_result"
    }
   ],
   "source": [
    "# Comparing with the att_df['Ambience'].value_counts() to check for leading u's\n",
    "\n",
    "att_df['Ambience'].value_counts()"
   ]
  },
  {
   "cell_type": "markdown",
   "id": "e8555962",
   "metadata": {},
   "source": [
    "### Normalizing the JSON in the Columns with JSON Values"
   ]
  },
  {
   "cell_type": "markdown",
   "id": "f359107e",
   "metadata": {},
   "source": [
    "Columns that have JSON values: BusinessParking, Ambience, GoodForMeal, Music, BestNights"
   ]
  },
  {
   "cell_type": "code",
   "execution_count": 20,
   "id": "0ab88361",
   "metadata": {},
   "outputs": [
    {
     "data": {
      "text/plain": [
       "28        {'dj': False, 'background_music': False, 'no_m...\n",
       "46        {'dj': False, 'background_music': False, 'no_m...\n",
       "47        {'dj': False, 'background_music': False, 'no_m...\n",
       "61                                            {'dj': False}\n",
       "62                                        {'jukebox': True}\n",
       "                                ...                        \n",
       "150274    {'dj': None, 'background_music': False, 'no_mu...\n",
       "150275    {'dj': False, 'background_music': False, 'no_m...\n",
       "150291    {'dj': False, 'background_music': False, 'no_m...\n",
       "150292    {'dj': None, 'live': False, 'jukebox': None, '...\n",
       "150323    {'dj': False, 'background_music': False, 'no_m...\n",
       "Name: Music, Length: 7521, dtype: object"
      ]
     },
     "execution_count": 20,
     "metadata": {},
     "output_type": "execute_result"
    }
   ],
   "source": [
    "# Selects all rows where 'Music' is not null.\n",
    "# ~ is a negate operator on a boolean series\n",
    "\n",
    "att_df[~att_df['Music'].isnull()]['Music']"
   ]
  },
  {
   "cell_type": "code",
   "execution_count": 21,
   "id": "5dadc2aa",
   "metadata": {},
   "outputs": [],
   "source": [
    "# Columns that have JSON values: Music, BusinessParking, Ambience, GoodForMeal, Music, BestNights\n",
    "# Get the non_null indices for each of these columns\n",
    "# Recall that the null values are given as np.nan, which is of type float\n",
    "\n",
    "music_not_null = [\n",
    "  i for i in range(len(att_df)) if type(att_df.loc[i, 'Music']) is not float\n",
    "]\n",
    "\n",
    "business_parking_not_null = [\n",
    "  i for i in range(len(att_df)) if type(att_df.loc[i, 'BusinessParking']) is not float\n",
    "]\n",
    "\n",
    "ambience_not_null = [\n",
    "  i for i in range(len(att_df)) if type(att_df.loc[i, 'Ambience']) is not float\n",
    "]\n",
    "\n",
    "good_for_meal_not_null = [\n",
    "  i for i in range(len(att_df)) if type(att_df.loc[i, 'GoodForMeal']) is not float\n",
    "]\n",
    "\n",
    "best_nights_not_null = [\n",
    "  i for i in range(len(att_df)) if type(att_df.loc[i, 'BestNights']) is not float\n",
    "]"
   ]
  },
  {
   "cell_type": "code",
   "execution_count": 22,
   "id": "b2f723bf",
   "metadata": {},
   "outputs": [
    {
     "name": "stdout",
     "output_type": "stream",
     "text": [
      "[12, 14, 15, 19, 23, 27, 28, 31, 33, 35, 41, 47, 53, 59]\n"
     ]
    }
   ],
   "source": [
    "print (good_for_meal_not_null[1:15])"
   ]
  },
  {
   "cell_type": "code",
   "execution_count": 23,
   "id": "d0360a5c",
   "metadata": {},
   "outputs": [
    {
     "name": "stdout",
     "output_type": "stream",
     "text": [
      "{'dessert': False, 'latenight': False, 'lunch': False, 'dinner': False, 'brunch': False, 'breakfast': False}\n",
      "nan\n"
     ]
    }
   ],
   "source": [
    "print (att_df.loc[12, 'GoodForMeal'])\n",
    "print (att_df.loc[16, 'GoodForMeal'])"
   ]
  },
  {
   "cell_type": "code",
   "execution_count": 24,
   "id": "9539ccd6",
   "metadata": {},
   "outputs": [],
   "source": [
    "# Create an empty list for future dictionaries.\n",
    "# We will append either an empty dictionary for None values, or a dictionary of the JSON that is present for each non-None entry\n",
    "json_dicts = {\n",
    "  'music': [],\n",
    "  'business_parking': [],\n",
    "  'ambience': [],\n",
    "  'good_for_meal': [],\n",
    "  'best_nights': []\n",
    "}\n",
    "\n",
    "# Have to hard-code this because can not iterate over dictionary keys by index, i.e. can not do json_dicts.keys()[0]\n",
    "json_dicts_entries = ['music', 'business_parking', 'ambience', 'good_for_meal', 'best_nights']\n",
    "\n",
    "# att_df column names must match the order of json_dicts_entries because of 'i' indexing in loop below\n",
    "att_df_json_columns = ['Music', 'BusinessParking', 'Ambience', 'GoodForMeal', 'BestNights']\n",
    "\n",
    "columns_to_clean = [\n",
    "  music_not_null, \n",
    "  business_parking_not_null, \n",
    "  ambience_not_null, \n",
    "  good_for_meal_not_null, \n",
    "  best_nights_not_null\n",
    "]"
   ]
  },
  {
   "cell_type": "code",
   "execution_count": 25,
   "id": "e27fa573",
   "metadata": {},
   "outputs": [],
   "source": [
    "# For every entry in json_dicts_entries...\n",
    "for i in range(len(json_dicts_entries)):\n",
    "\n",
    "  # For every index in the columns to clean...\n",
    "  for idx in columns_to_clean[i]:\n",
    "\n",
    "    # If the value in att_df is None or 'None' then append {} to the list of dictionaries in json_dicts\n",
    "    if att_df.loc[idx, att_df_json_columns[i]] == 'None' or att_df.loc[idx, att_df_json_columns[i]] is None:\n",
    "\n",
    "      json_dicts[json_dicts_entries[i]].append({})\n",
    "\n",
    "    # Otherwise, append the json_string as a dictionary to the list of dictionaries in json_dicts\n",
    "    elif att_df.loc[idx, att_df_json_columns[i]] is not None:\n",
    "\n",
    "      json_dicts[json_dicts_entries[i]].append(ast.literal_eval(att_df.loc[idx, att_df_json_columns[i]]))"
   ]
  },
  {
   "cell_type": "code",
   "execution_count": 26,
   "id": "99c89612",
   "metadata": {},
   "outputs": [],
   "source": [
    "for i in range(len(json_dicts_entries)):\n",
    "\n",
    "  # Make the dictionary a DataFrame\n",
    "  json_dicts[json_dicts_entries[i]] = pd.DataFrame(json_dicts[json_dicts_entries[i]])\n",
    "\n",
    "  # Assign a column 'new_index' to the non-null indices\n",
    "  json_dicts[json_dicts_entries[i]]['new_index'] = columns_to_clean[i]\n",
    "\n",
    "  # Set 'new_index' as the new index of the DataFrame\n",
    "  json_dicts[json_dicts_entries[i]].set_index('new_index', inplace = True)"
   ]
  },
  {
   "cell_type": "code",
   "execution_count": 27,
   "id": "eca111db",
   "metadata": {},
   "outputs": [
    {
     "data": {
      "text/html": [
       "<div>\n",
       "<style scoped>\n",
       "    .dataframe tbody tr th:only-of-type {\n",
       "        vertical-align: middle;\n",
       "    }\n",
       "\n",
       "    .dataframe tbody tr th {\n",
       "        vertical-align: top;\n",
       "    }\n",
       "\n",
       "    .dataframe thead th {\n",
       "        text-align: right;\n",
       "    }\n",
       "</style>\n",
       "<table border=\"1\" class=\"dataframe\">\n",
       "  <thead>\n",
       "    <tr style=\"text-align: right;\">\n",
       "      <th></th>\n",
       "      <th>romantic</th>\n",
       "      <th>intimate</th>\n",
       "      <th>touristy</th>\n",
       "      <th>hipster</th>\n",
       "      <th>divey</th>\n",
       "      <th>classy</th>\n",
       "      <th>trendy</th>\n",
       "      <th>upscale</th>\n",
       "      <th>casual</th>\n",
       "    </tr>\n",
       "    <tr>\n",
       "      <th>new_index</th>\n",
       "      <th></th>\n",
       "      <th></th>\n",
       "      <th></th>\n",
       "      <th></th>\n",
       "      <th></th>\n",
       "      <th></th>\n",
       "      <th></th>\n",
       "      <th></th>\n",
       "      <th></th>\n",
       "    </tr>\n",
       "  </thead>\n",
       "  <tbody>\n",
       "    <tr>\n",
       "      <th>5</th>\n",
       "      <td>NaN</td>\n",
       "      <td>NaN</td>\n",
       "      <td>NaN</td>\n",
       "      <td>NaN</td>\n",
       "      <td>NaN</td>\n",
       "      <td>NaN</td>\n",
       "      <td>NaN</td>\n",
       "      <td>NaN</td>\n",
       "      <td>NaN</td>\n",
       "    </tr>\n",
       "    <tr>\n",
       "      <th>8</th>\n",
       "      <td>False</td>\n",
       "      <td>False</td>\n",
       "      <td>False</td>\n",
       "      <td>False</td>\n",
       "      <td>False</td>\n",
       "      <td>False</td>\n",
       "      <td>False</td>\n",
       "      <td>False</td>\n",
       "      <td>False</td>\n",
       "    </tr>\n",
       "    <tr>\n",
       "      <th>11</th>\n",
       "      <td>False</td>\n",
       "      <td>False</td>\n",
       "      <td>False</td>\n",
       "      <td>False</td>\n",
       "      <td>False</td>\n",
       "      <td>False</td>\n",
       "      <td>False</td>\n",
       "      <td>False</td>\n",
       "      <td>False</td>\n",
       "    </tr>\n",
       "    <tr>\n",
       "      <th>12</th>\n",
       "      <td>False</td>\n",
       "      <td>None</td>\n",
       "      <td>None</td>\n",
       "      <td>None</td>\n",
       "      <td>None</td>\n",
       "      <td>None</td>\n",
       "      <td>None</td>\n",
       "      <td>None</td>\n",
       "      <td>True</td>\n",
       "    </tr>\n",
       "    <tr>\n",
       "      <th>14</th>\n",
       "      <td>False</td>\n",
       "      <td>False</td>\n",
       "      <td>False</td>\n",
       "      <td>False</td>\n",
       "      <td>False</td>\n",
       "      <td>False</td>\n",
       "      <td>False</td>\n",
       "      <td>False</td>\n",
       "      <td>True</td>\n",
       "    </tr>\n",
       "    <tr>\n",
       "      <th>...</th>\n",
       "      <td>...</td>\n",
       "      <td>...</td>\n",
       "      <td>...</td>\n",
       "      <td>...</td>\n",
       "      <td>...</td>\n",
       "      <td>...</td>\n",
       "      <td>...</td>\n",
       "      <td>...</td>\n",
       "      <td>...</td>\n",
       "    </tr>\n",
       "    <tr>\n",
       "      <th>150322</th>\n",
       "      <td>True</td>\n",
       "      <td>None</td>\n",
       "      <td>False</td>\n",
       "      <td>False</td>\n",
       "      <td>False</td>\n",
       "      <td>None</td>\n",
       "      <td>None</td>\n",
       "      <td>None</td>\n",
       "      <td>None</td>\n",
       "    </tr>\n",
       "    <tr>\n",
       "      <th>150323</th>\n",
       "      <td>False</td>\n",
       "      <td>False</td>\n",
       "      <td>False</td>\n",
       "      <td>None</td>\n",
       "      <td>False</td>\n",
       "      <td>False</td>\n",
       "      <td>True</td>\n",
       "      <td>False</td>\n",
       "      <td>True</td>\n",
       "    </tr>\n",
       "    <tr>\n",
       "      <th>150327</th>\n",
       "      <td>False</td>\n",
       "      <td>False</td>\n",
       "      <td>False</td>\n",
       "      <td>False</td>\n",
       "      <td>False</td>\n",
       "      <td>False</td>\n",
       "      <td>False</td>\n",
       "      <td>False</td>\n",
       "      <td>True</td>\n",
       "    </tr>\n",
       "    <tr>\n",
       "      <th>150336</th>\n",
       "      <td>None</td>\n",
       "      <td>None</td>\n",
       "      <td>None</td>\n",
       "      <td>False</td>\n",
       "      <td>None</td>\n",
       "      <td>None</td>\n",
       "      <td>None</td>\n",
       "      <td>None</td>\n",
       "      <td>True</td>\n",
       "    </tr>\n",
       "    <tr>\n",
       "      <th>150340</th>\n",
       "      <td>False</td>\n",
       "      <td>False</td>\n",
       "      <td>False</td>\n",
       "      <td>False</td>\n",
       "      <td>NaN</td>\n",
       "      <td>False</td>\n",
       "      <td>False</td>\n",
       "      <td>False</td>\n",
       "      <td>False</td>\n",
       "    </tr>\n",
       "  </tbody>\n",
       "</table>\n",
       "<p>44279 rows × 9 columns</p>\n",
       "</div>"
      ],
      "text/plain": [
       "          romantic intimate touristy hipster  divey classy trendy upscale  \\\n",
       "new_index                                                                   \n",
       "5              NaN      NaN      NaN     NaN    NaN    NaN    NaN     NaN   \n",
       "8            False    False    False   False  False  False  False   False   \n",
       "11           False    False    False   False  False  False  False   False   \n",
       "12           False     None     None    None   None   None   None    None   \n",
       "14           False    False    False   False  False  False  False   False   \n",
       "...            ...      ...      ...     ...    ...    ...    ...     ...   \n",
       "150322        True     None    False   False  False   None   None    None   \n",
       "150323       False    False    False    None  False  False   True   False   \n",
       "150327       False    False    False   False  False  False  False   False   \n",
       "150336        None     None     None   False   None   None   None    None   \n",
       "150340       False    False    False   False    NaN  False  False   False   \n",
       "\n",
       "          casual  \n",
       "new_index         \n",
       "5            NaN  \n",
       "8          False  \n",
       "11         False  \n",
       "12          True  \n",
       "14          True  \n",
       "...          ...  \n",
       "150322      None  \n",
       "150323      True  \n",
       "150327      True  \n",
       "150336      True  \n",
       "150340     False  \n",
       "\n",
       "[44279 rows x 9 columns]"
      ]
     },
     "execution_count": 27,
     "metadata": {},
     "output_type": "execute_result"
    }
   ],
   "source": [
    "# Checking an example of the DataFrames created\n",
    "\n",
    "json_dicts['ambience']"
   ]
  },
  {
   "cell_type": "markdown",
   "id": "c8e376f8",
   "metadata": {},
   "source": [
    "### Concatenating the DataFrames in `json_dicts` to `att_df`"
   ]
  },
  {
   "cell_type": "code",
   "execution_count": 28,
   "id": "dfea8d2c",
   "metadata": {},
   "outputs": [
    {
     "name": "stdout",
     "output_type": "stream",
     "text": [
      "<class 'pandas.core.frame.DataFrame'>\n",
      "Int64Index: 150346 entries, 0 to 150345\n",
      "Data columns (total 67 columns):\n",
      " #   Column                      Non-Null Count   Dtype \n",
      "---  ------                      --------------   ----- \n",
      " 0   ByAppointmentOnly           42339 non-null   object\n",
      " 1   BusinessAcceptsCreditCards  119765 non-null  object\n",
      " 2   BikeParking                 72638 non-null   object\n",
      " 3   RestaurantsPriceRange2      85314 non-null   object\n",
      " 4   RestaurantsTakeOut          59857 non-null   object\n",
      " 5   RestaurantsDelivery         56282 non-null   object\n",
      " 6   Caters                      40127 non-null   object\n",
      " 7   WiFi                        56914 non-null   object\n",
      " 8   BusinessParking             91085 non-null   object\n",
      " 9   WheelchairAccessible        28953 non-null   object\n",
      " 10  HappyHour                   15171 non-null   object\n",
      " 11  OutdoorSeating              48802 non-null   object\n",
      " 12  HasTV                       45084 non-null   object\n",
      " 13  RestaurantsReservations     45247 non-null   object\n",
      " 14  DogsAllowed                 18284 non-null   object\n",
      " 15  Alcohol                     43189 non-null   object\n",
      " 16  GoodForKids                 53375 non-null   object\n",
      " 17  RestaurantsAttire           39255 non-null   object\n",
      " 18  Ambience                    44279 non-null   object\n",
      " 19  RestaurantsTableService     19982 non-null   object\n",
      " 20  RestaurantsGoodForGroups    44170 non-null   object\n",
      " 21  DriveThru                   7760 non-null    object\n",
      " 22  NoiseLevel                  37993 non-null   object\n",
      " 23  GoodForMeal                 29087 non-null   object\n",
      " 24  BusinessAcceptsBitcoin      17430 non-null   object\n",
      " 25  Smoking                     4567 non-null    object\n",
      " 26  Music                       7521 non-null    object\n",
      " 27  GoodForDancing              4628 non-null    object\n",
      " 28  AcceptsInsurance            5713 non-null    object\n",
      " 29  BestNights                  5694 non-null    object\n",
      " 30  BYOB                        4451 non-null    object\n",
      " 31  Corkage                     3553 non-null    object\n",
      " 32  BYOBCorkage                 1444 non-null    object\n",
      " 33  dj                          6714 non-null    object\n",
      " 34  background_music            7068 non-null    object\n",
      " 35  no_music                    6858 non-null    object\n",
      " 36  jukebox                     6188 non-null    object\n",
      " 37  live                        6733 non-null    object\n",
      " 38  video                       7070 non-null    object\n",
      " 39  karaoke                     5790 non-null    object\n",
      " 40  garage                      86885 non-null   object\n",
      " 41  street                      85474 non-null   object\n",
      " 42  validated                   86654 non-null   object\n",
      " 43  lot                         86516 non-null   object\n",
      " 44  valet                       88795 non-null   object\n",
      " 45  romantic                    40392 non-null   object\n",
      " 46  intimate                    39486 non-null   object\n",
      " 47  touristy                    40081 non-null   object\n",
      " 48  hipster                     39325 non-null   object\n",
      " 49  divey                       38271 non-null   object\n",
      " 50  classy                      40135 non-null   object\n",
      " 51  trendy                      38401 non-null   object\n",
      " 52  upscale                     40812 non-null   object\n",
      " 53  casual                      41514 non-null   object\n",
      " 54  dessert                     24191 non-null   object\n",
      " 55  latenight                   25040 non-null   object\n",
      " 56  lunch                       26389 non-null   object\n",
      " 57  dinner                      27432 non-null   object\n",
      " 58  brunch                      25186 non-null   object\n",
      " 59  breakfast                   26325 non-null   object\n",
      " 60  monday                      5683 non-null    object\n",
      " 61  tuesday                     5683 non-null    object\n",
      " 62  friday                      5683 non-null    object\n",
      " 63  wednesday                   5683 non-null    object\n",
      " 64  thursday                    5683 non-null    object\n",
      " 65  sunday                      5683 non-null    object\n",
      " 66  saturday                    5683 non-null    object\n",
      "dtypes: object(67)\n",
      "memory usage: 78.0+ MB\n"
     ]
    }
   ],
   "source": [
    "for key in json_dicts_entries:\n",
    "\n",
    "  # For every DataFrame in the json_dicts, concat the DataFrame to att_df\n",
    "  att_df = pd.concat([att_df, json_dicts[key]], axis = 1)\n",
    "\n",
    "att_df.info()  "
   ]
  },
  {
   "cell_type": "code",
   "execution_count": 29,
   "id": "6d5ac8a5",
   "metadata": {},
   "outputs": [
    {
     "data": {
      "text/plain": [
       "Index(['ByAppointmentOnly', 'BusinessAcceptsCreditCards', 'BikeParking',\n",
       "       'RestaurantsPriceRange2', 'RestaurantsTakeOut', 'RestaurantsDelivery',\n",
       "       'Caters', 'WiFi', 'BusinessParking', 'WheelchairAccessible',\n",
       "       'HappyHour', 'OutdoorSeating', 'HasTV', 'RestaurantsReservations',\n",
       "       'DogsAllowed', 'Alcohol', 'GoodForKids', 'RestaurantsAttire',\n",
       "       'Ambience', 'RestaurantsTableService', 'RestaurantsGoodForGroups',\n",
       "       'DriveThru', 'NoiseLevel', 'GoodForMeal', 'BusinessAcceptsBitcoin',\n",
       "       'Smoking', 'Music', 'GoodForDancing', 'AcceptsInsurance', 'BestNights',\n",
       "       'BYOB', 'Corkage', 'BYOBCorkage', 'dj', 'background_music', 'no_music',\n",
       "       'jukebox', 'live', 'video', 'karaoke', 'garage', 'street', 'validated',\n",
       "       'lot', 'valet', 'romantic', 'intimate', 'touristy', 'hipster', 'divey',\n",
       "       'classy', 'trendy', 'upscale', 'casual', 'dessert', 'latenight',\n",
       "       'lunch', 'dinner', 'brunch', 'breakfast', 'monday', 'tuesday', 'friday',\n",
       "       'wednesday', 'thursday', 'sunday', 'saturday'],\n",
       "      dtype='object')"
      ]
     },
     "execution_count": 29,
     "metadata": {},
     "output_type": "execute_result"
    }
   ],
   "source": [
    "att_df.columns"
   ]
  },
  {
   "cell_type": "markdown",
   "id": "d3e43a98",
   "metadata": {},
   "source": [
    "### Renaming and Reordering `att_df` Column Names"
   ]
  },
  {
   "cell_type": "code",
   "execution_count": 30,
   "id": "57e2276e",
   "metadata": {},
   "outputs": [
    {
     "data": {
      "text/plain": [
       "Index(['by_appointment_only', 'business_accepts_credit_cards', 'bike_parking',\n",
       "       'restaurants_price_range2', 'restaurants_take_out',\n",
       "       'restaurants_delivery', 'caters', 'wi_fi', 'business_parking',\n",
       "       'wheelchair_accessible', 'happy_hour', 'outdoor_seating', 'has_t_v',\n",
       "       'restaurants_reservations', 'dogs_allowed', 'alcohol', 'good_for_kids',\n",
       "       'restaurants_attire', 'ambience', 'restaurants_table_service',\n",
       "       'restaurants_good_for_groups', 'drive_thru', 'noise_level',\n",
       "       'good_for_meal', 'business_accepts_bitcoin', 'smoking', 'music',\n",
       "       'good_for_dancing', 'accepts_insurance', 'best_nights', 'bY_o_b',\n",
       "       'corkage', 'bY_o_b_corkage', 'dj', 'background_music', 'no_music',\n",
       "       'jukebox', 'live', 'video', 'karaoke', 'garage', 'street', 'validated',\n",
       "       'lot', 'valet', 'romantic', 'intimate', 'touristy', 'hipster', 'divey',\n",
       "       'classy', 'trendy', 'upscale', 'casual', 'dessert', 'latenight',\n",
       "       'lunch', 'dinner', 'brunch', 'breakfast', 'monday', 'tuesday', 'friday',\n",
       "       'wednesday', 'thursday', 'sunday', 'saturday'],\n",
       "      dtype='object')"
      ]
     },
     "execution_count": 30,
     "metadata": {},
     "output_type": "execute_result"
    }
   ],
   "source": [
    "# Converts the CamelCase formatted column names to snake_case\n",
    "def cap_to_snake(column_name): \n",
    "  return column_name[0].lower() + re.sub(r'(?!^)[A-Z]', lambda x: '_' + x.group(0).lower(), column_name[1:])\n",
    "\n",
    "# Create a list for the new column names\n",
    "new_column_names = []\n",
    "\n",
    "# Append each reformatted column name to new_column_names\n",
    "for column in att_df.columns:\n",
    "  new_column_names.append(cap_to_snake(column))\n",
    "\n",
    "# Rename the columns\n",
    "att_df.columns = new_column_names\n",
    "\n",
    "# Check the transformation\n",
    "att_df.columns"
   ]
  },
  {
   "cell_type": "code",
   "execution_count": 31,
   "id": "14866eed",
   "metadata": {},
   "outputs": [
    {
     "name": "stdout",
     "output_type": "stream",
     "text": [
      "<class 'pandas.core.frame.DataFrame'>\n",
      "Int64Index: 150346 entries, 0 to 150345\n",
      "Data columns (total 67 columns):\n",
      " #   Column                         Non-Null Count   Dtype \n",
      "---  ------                         --------------   ----- \n",
      " 0   by_appointment_only            42339 non-null   object\n",
      " 1   business_accepts_credit_cards  119765 non-null  object\n",
      " 2   bike_parking                   72638 non-null   object\n",
      " 3   restaurants_price_range        85314 non-null   object\n",
      " 4   restaurants_take_out           59857 non-null   object\n",
      " 5   restaurants_delivery           56282 non-null   object\n",
      " 6   caters                         40127 non-null   object\n",
      " 7   wifi                           56914 non-null   object\n",
      " 8   business_parking               91085 non-null   object\n",
      " 9   wheelchair_accessible          28953 non-null   object\n",
      " 10  happy_hour                     15171 non-null   object\n",
      " 11  outdoor_seating                48802 non-null   object\n",
      " 12  has_tv                         45084 non-null   object\n",
      " 13  restaurants_reservations       45247 non-null   object\n",
      " 14  dogs_allowed                   18284 non-null   object\n",
      " 15  alcohol                        43189 non-null   object\n",
      " 16  good_for_kids                  53375 non-null   object\n",
      " 17  restaurants_attire             39255 non-null   object\n",
      " 18  ambience                       44279 non-null   object\n",
      " 19  restaurants_table_service      19982 non-null   object\n",
      " 20  restaurants_good_for_groups    44170 non-null   object\n",
      " 21  drive_thru                     7760 non-null    object\n",
      " 22  noise_level                    37993 non-null   object\n",
      " 23  good_for_meal                  29087 non-null   object\n",
      " 24  business_accepts_bitcoin       17430 non-null   object\n",
      " 25  smoking                        4567 non-null    object\n",
      " 26  music                          7521 non-null    object\n",
      " 27  good_for_dancing               4628 non-null    object\n",
      " 28  accepts_insurance              5713 non-null    object\n",
      " 29  best_nights                    5694 non-null    object\n",
      " 30  byob                           4451 non-null    object\n",
      " 31  corkage                        3553 non-null    object\n",
      " 32  byob_corkage                   1444 non-null    object\n",
      " 33  dj                             6714 non-null    object\n",
      " 34  background_music               7068 non-null    object\n",
      " 35  no_music                       6858 non-null    object\n",
      " 36  jukebox                        6188 non-null    object\n",
      " 37  live                           6733 non-null    object\n",
      " 38  video                          7070 non-null    object\n",
      " 39  karaoke                        5790 non-null    object\n",
      " 40  parking_garage                 86885 non-null   object\n",
      " 41  street_parking                 85474 non-null   object\n",
      " 42  validated_parking              86654 non-null   object\n",
      " 43  parking_lot                    86516 non-null   object\n",
      " 44  valet_parking                  88795 non-null   object\n",
      " 45  romantic                       40392 non-null   object\n",
      " 46  intimate                       39486 non-null   object\n",
      " 47  touristy                       40081 non-null   object\n",
      " 48  hipster                        39325 non-null   object\n",
      " 49  divey                          38271 non-null   object\n",
      " 50  classy                         40135 non-null   object\n",
      " 51  trendy                         38401 non-null   object\n",
      " 52  upscale                        40812 non-null   object\n",
      " 53  casual                         41514 non-null   object\n",
      " 54  best_for_desert                24191 non-null   object\n",
      " 55  best_for_latenight             25040 non-null   object\n",
      " 56  best_for_lunch                 26389 non-null   object\n",
      " 57  best_for_dinner                27432 non-null   object\n",
      " 58  best_for_brunch                25186 non-null   object\n",
      " 59  best_for_breakfast             26325 non-null   object\n",
      " 60  best_night_monday              5683 non-null    object\n",
      " 61  best_night_tuesday             5683 non-null    object\n",
      " 62  best_night_friday              5683 non-null    object\n",
      " 63  best_night_wednesday           5683 non-null    object\n",
      " 64  best_night_thursday            5683 non-null    object\n",
      " 65  best_night_sunday              5683 non-null    object\n",
      " 66  best_night_saturday            5683 non-null    object\n",
      "dtypes: object(67)\n",
      "memory usage: 78.0+ MB\n"
     ]
    }
   ],
   "source": [
    "# Still need to rename some of the columns. Will target these columns with a dictionary\n",
    "\n",
    "clean_columns_dict = {\n",
    "  'restaurants_price_range2': 'restaurants_price_range',\n",
    "  'wi_fi': 'wifi',\n",
    "  'has_t_v': 'has_tv',\n",
    "  'bY_o_b': 'byob',\n",
    "  'bY_o_b_corkage': 'byob_corkage',\n",
    "  'garage': 'parking_garage',\n",
    "  'street': 'street_parking',\n",
    "  'validated': 'validated_parking',\n",
    "  'lot': 'parking_lot',\n",
    "  'valet': 'valet_parking',\n",
    "  'dessert': 'best_for_desert',\n",
    "  'latenight': 'best_for_latenight',\n",
    "  'lunch': 'best_for_lunch',\n",
    "  'dinner': 'best_for_dinner',\n",
    "  'brunch': 'best_for_brunch',\n",
    "  'breakfast': 'best_for_breakfast',\n",
    "  'monday': 'best_night_monday', \n",
    "  'tuesday': 'best_night_tuesday', \n",
    "  'wednesday': 'best_night_wednesday',\n",
    "  'thursday': 'best_night_thursday',\n",
    "  'friday': 'best_night_friday',\n",
    "  'saturday': 'best_night_saturday',\n",
    "  'sunday': 'best_night_sunday'\n",
    "}\n",
    "\n",
    "att_df.rename(columns = clean_columns_dict, inplace = True)\n",
    "\n",
    "# Checking the renames\n",
    "att_df.info()"
   ]
  },
  {
   "cell_type": "code",
   "execution_count": 32,
   "id": "73bd3225",
   "metadata": {},
   "outputs": [
    {
     "name": "stdout",
     "output_type": "stream",
     "text": [
      "<class 'pandas.core.frame.DataFrame'>\n",
      "Int64Index: 150346 entries, 0 to 150345\n",
      "Data columns (total 67 columns):\n",
      " #   Column                         Non-Null Count   Dtype \n",
      "---  ------                         --------------   ----- \n",
      " 0   by_appointment_only            42339 non-null   object\n",
      " 1   business_accepts_credit_cards  119765 non-null  object\n",
      " 2   bike_parking                   72638 non-null   object\n",
      " 3   restaurants_price_range        85314 non-null   object\n",
      " 4   restaurants_take_out           59857 non-null   object\n",
      " 5   restaurants_delivery           56282 non-null   object\n",
      " 6   caters                         40127 non-null   object\n",
      " 7   wifi                           56914 non-null   object\n",
      " 8   business_parking               91085 non-null   object\n",
      " 9   wheelchair_accessible          28953 non-null   object\n",
      " 10  happy_hour                     15171 non-null   object\n",
      " 11  outdoor_seating                48802 non-null   object\n",
      " 12  has_tv                         45084 non-null   object\n",
      " 13  restaurants_reservations       45247 non-null   object\n",
      " 14  dogs_allowed                   18284 non-null   object\n",
      " 15  alcohol                        43189 non-null   object\n",
      " 16  good_for_kids                  53375 non-null   object\n",
      " 17  restaurants_attire             39255 non-null   object\n",
      " 18  ambience                       44279 non-null   object\n",
      " 19  restaurants_table_service      19982 non-null   object\n",
      " 20  restaurants_good_for_groups    44170 non-null   object\n",
      " 21  drive_thru                     7760 non-null    object\n",
      " 22  noise_level                    37993 non-null   object\n",
      " 23  good_for_meal                  29087 non-null   object\n",
      " 24  business_accepts_bitcoin       17430 non-null   object\n",
      " 25  smoking                        4567 non-null    object\n",
      " 26  music                          7521 non-null    object\n",
      " 27  good_for_dancing               4628 non-null    object\n",
      " 28  accepts_insurance              5713 non-null    object\n",
      " 29  best_nights                    5694 non-null    object\n",
      " 30  byob                           4451 non-null    object\n",
      " 31  corkage                        3553 non-null    object\n",
      " 32  byob_corkage                   1444 non-null    object\n",
      " 33  dj                             6714 non-null    object\n",
      " 34  background_music               7068 non-null    object\n",
      " 35  no_music                       6858 non-null    object\n",
      " 36  jukebox                        6188 non-null    object\n",
      " 37  live                           6733 non-null    object\n",
      " 38  video                          7070 non-null    object\n",
      " 39  karaoke                        5790 non-null    object\n",
      " 40  parking_garage                 86885 non-null   object\n",
      " 41  street_parking                 85474 non-null   object\n",
      " 42  validated_parking              86654 non-null   object\n",
      " 43  parking_lot                    86516 non-null   object\n",
      " 44  valet_parking                  88795 non-null   object\n",
      " 45  romantic                       40392 non-null   object\n",
      " 46  intimate                       39486 non-null   object\n",
      " 47  touristy                       40081 non-null   object\n",
      " 48  hipster                        39325 non-null   object\n",
      " 49  divey                          38271 non-null   object\n",
      " 50  classy                         40135 non-null   object\n",
      " 51  trendy                         38401 non-null   object\n",
      " 52  upscale                        40812 non-null   object\n",
      " 53  casual                         41514 non-null   object\n",
      " 54  best_for_desert                24191 non-null   object\n",
      " 55  best_for_latenight             25040 non-null   object\n",
      " 56  best_for_lunch                 26389 non-null   object\n",
      " 57  best_for_dinner                27432 non-null   object\n",
      " 58  best_for_brunch                25186 non-null   object\n",
      " 59  best_for_breakfast             26325 non-null   object\n",
      " 60  best_night_monday              5683 non-null    object\n",
      " 61  best_night_tuesday             5683 non-null    object\n",
      " 62  best_night_wednesday           5683 non-null    object\n",
      " 63  best_night_thursday            5683 non-null    object\n",
      " 64  best_night_friday              5683 non-null    object\n",
      " 65  best_night_saturday            5683 non-null    object\n",
      " 66  best_night_sunday              5683 non-null    object\n",
      "dtypes: object(67)\n",
      "memory usage: 78.0+ MB\n"
     ]
    }
   ],
   "source": [
    "# Need to reorder the best_of_{day of week} columns to reflect the normal ordering of the days\n",
    "# Need to wrap the single items in [] in order to make the single string a list\n",
    "\n",
    "reorder = att_df.columns[0:62].to_list() + att_df.columns[63:65].to_list() + [att_df.columns[62]] + [att_df.columns[66]] + [att_df.columns[65]]\n",
    "att_df = att_df[reorder]\n",
    "\n",
    "att_df.info()"
   ]
  },
  {
   "cell_type": "markdown",
   "id": "4670b9fc",
   "metadata": {},
   "source": [
    "### Preparing Data for SQL"
   ]
  },
  {
   "cell_type": "code",
   "execution_count": 33,
   "id": "32f34057",
   "metadata": {},
   "outputs": [
    {
     "name": "stdout",
     "output_type": "stream",
     "text": [
      "['by_appointment_only', 'business_accepts_credit_cards', 'bike_parking', 'restaurants_take_out', 'restaurants_delivery', 'caters', 'wheelchair_accessible', 'happy_hour', 'outdoor_seating', 'has_tv', 'restaurants_reservations', 'dogs_allowed', 'good_for_kids', 'restaurants_table_service', 'restaurants_good_for_groups', 'drive_thru', 'business_accepts_bitcoin', 'good_for_dancing', 'accepts_insurance', 'byob', 'corkage', 'dj', 'background_music', 'no_music', 'jukebox', 'live', 'video', 'karaoke', 'parking_garage', 'street_parking', 'validated_parking', 'parking_lot', 'valet_parking', 'romantic', 'intimate', 'touristy', 'hipster', 'divey', 'classy', 'trendy', 'upscale', 'casual', 'best_for_desert', 'best_for_latenight', 'best_for_lunch', 'best_for_dinner', 'best_for_brunch', 'best_for_breakfast', 'best_night_monday', 'best_night_tuesday', 'best_night_wednesday', 'best_night_thursday', 'best_night_friday', 'best_night_saturday', 'best_night_sunday']\n"
     ]
    }
   ],
   "source": [
    "# All entries in att_df are currently strings, so we need to make them booleans where applicable.\n",
    "# First, need a list of columns that contain the values True, False, or None\n",
    "\n",
    "bool_cols = []\n",
    "\n",
    "for col in (att_df.columns.to_list()):\n",
    "  if len(att_df[col].value_counts()) <= 3:\n",
    "    bool_cols.append(col)\n",
    "\n",
    "print (bool_cols)"
   ]
  },
  {
   "cell_type": "code",
   "execution_count": 34,
   "id": "b5b19446",
   "metadata": {},
   "outputs": [
    {
     "data": {
      "text/plain": [
       "1         True\n",
       "2         True\n",
       "4         True\n",
       "5         True\n",
       "6         True\n",
       "          ... \n",
       "150339    True\n",
       "150342    True\n",
       "150343    True\n",
       "150344    True\n",
       "150345    True\n",
       "Name: business_accepts_credit_cards, Length: 113667, dtype: object"
      ]
     },
     "execution_count": 34,
     "metadata": {},
     "output_type": "execute_result"
    }
   ],
   "source": [
    "# Verifying that the values for True and False are not 'True' or 'False' i.e. string representations of the booleans\n",
    "\n",
    "check_column = 'business_accepts_credit_cards'\n",
    "\n",
    "att_df[att_df[check_column] == 'True'][check_column]"
   ]
  },
  {
   "cell_type": "code",
   "execution_count": 35,
   "id": "7d056be3",
   "metadata": {},
   "outputs": [
    {
     "data": {
      "text/plain": [
       "3         False\n",
       "24        False\n",
       "50        False\n",
       "62        False\n",
       "70        False\n",
       "          ...  \n",
       "150177    False\n",
       "150238    False\n",
       "150287    False\n",
       "150301    False\n",
       "150310    False\n",
       "Name: business_accepts_credit_cards, Length: 6025, dtype: object"
      ]
     },
     "execution_count": 35,
     "metadata": {},
     "output_type": "execute_result"
    }
   ],
   "source": [
    "att_df[att_df[check_column] == 'False'][check_column]"
   ]
  },
  {
   "cell_type": "code",
   "execution_count": 36,
   "id": "38911dd1",
   "metadata": {},
   "outputs": [],
   "source": [
    "# Still 'True' and 'False'\n",
    "# We will convert 'True' to 1, 'False' to 0, and 'None' or None to np.nan so the columns can be properly formatted for SQLAlchemy\n",
    "# Warning: This cell took 4m 55sec to run\n",
    "\n",
    "for col in bool_cols:\n",
    "\n",
    "  for i in range(len(att_df)):\n",
    "\n",
    "    if att_df.loc[i, col] == 'True':\n",
    "      att_df.loc[i, col] = 1\n",
    "\n",
    "    elif att_df.loc[i, col] == 'False':\n",
    "      att_df.loc[i, col] = 0\n",
    "      \n",
    "    elif att_df.loc[i, col] == None or att_df.loc[i, col] == 'None':\n",
    "      att_df.loc[i, col] = np.nan    "
   ]
  },
  {
   "cell_type": "code",
   "execution_count": 37,
   "id": "f52b6d64",
   "metadata": {},
   "outputs": [],
   "source": [
    "# Give all the boolean columns the sa.types.Boolean() datatype for future Postgres table\n",
    "bool_dict = { col: sa.types.Boolean() for col in bool_cols }"
   ]
  },
  {
   "cell_type": "code",
   "execution_count": 38,
   "id": "809e36e1",
   "metadata": {},
   "outputs": [
    {
     "name": "stdout",
     "output_type": "stream",
     "text": [
      "55\n",
      "67\n"
     ]
    }
   ],
   "source": [
    "# Checking how many more columns need an sa.types value\n",
    "print (len(list(bool_dict.keys())))\n",
    "print (len(list(att_df.columns)))"
   ]
  },
  {
   "cell_type": "code",
   "execution_count": 39,
   "id": "901b8188",
   "metadata": {},
   "outputs": [
    {
     "name": "stdout",
     "output_type": "stream",
     "text": [
      "restaurants_price_range\n",
      "wifi\n",
      "business_parking\n",
      "alcohol\n",
      "restaurants_attire\n",
      "ambience\n",
      "noise_level\n",
      "good_for_meal\n",
      "smoking\n",
      "music\n",
      "best_nights\n",
      "byob_corkage\n"
     ]
    }
   ],
   "source": [
    "# Still need to confirm datatypes for the following columns\n",
    "for col in att_df.columns:\n",
    "  if col not in bool_cols:\n",
    "    print (col)"
   ]
  },
  {
   "cell_type": "code",
   "execution_count": 40,
   "id": "0a7905a2",
   "metadata": {},
   "outputs": [
    {
     "name": "stdout",
     "output_type": "stream",
     "text": [
      "<class 'pandas.core.frame.DataFrame'>\n",
      "Int64Index: 150346 entries, 0 to 150345\n",
      "Data columns (total 62 columns):\n",
      " #   Column                         Non-Null Count   Dtype \n",
      "---  ------                         --------------   ----- \n",
      " 0   by_appointment_only            42299 non-null   object\n",
      " 1   business_accepts_credit_cards  119692 non-null  object\n",
      " 2   bike_parking                   72558 non-null   object\n",
      " 3   restaurants_price_range        85314 non-null   object\n",
      " 4   restaurants_take_out           57752 non-null   object\n",
      " 5   restaurants_delivery           52334 non-null   object\n",
      " 6   caters                         40067 non-null   object\n",
      " 7   wifi                           56914 non-null   object\n",
      " 8   wheelchair_accessible          28926 non-null   object\n",
      " 9   happy_hour                     15169 non-null   object\n",
      " 10  outdoor_seating                46920 non-null   object\n",
      " 11  has_tv                         45065 non-null   object\n",
      " 12  restaurants_reservations       44959 non-null   object\n",
      " 13  dogs_allowed                   18258 non-null   object\n",
      " 14  alcohol                        43189 non-null   object\n",
      " 15  good_for_kids                  53347 non-null   object\n",
      " 16  restaurants_attire             39255 non-null   object\n",
      " 17  restaurants_table_service      19967 non-null   object\n",
      " 18  restaurants_good_for_groups    44149 non-null   object\n",
      " 19  drive_thru                     7005 non-null    object\n",
      " 20  noise_level                    37993 non-null   object\n",
      " 21  business_accepts_bitcoin       17427 non-null   object\n",
      " 22  smoking                        4567 non-null    object\n",
      " 23  good_for_dancing               4628 non-null    object\n",
      " 24  accepts_insurance              5705 non-null    object\n",
      " 25  byob                           4439 non-null    object\n",
      " 26  corkage                        3542 non-null    object\n",
      " 27  byob_corkage                   1444 non-null    object\n",
      " 28  dj                             6714 non-null    object\n",
      " 29  background_music               7068 non-null    object\n",
      " 30  no_music                       6858 non-null    object\n",
      " 31  jukebox                        6188 non-null    object\n",
      " 32  live                           6733 non-null    object\n",
      " 33  video                          7070 non-null    object\n",
      " 34  karaoke                        5790 non-null    object\n",
      " 35  parking_garage                 86885 non-null   object\n",
      " 36  street_parking                 85474 non-null   object\n",
      " 37  validated_parking              86654 non-null   object\n",
      " 38  parking_lot                    86516 non-null   object\n",
      " 39  valet_parking                  88795 non-null   object\n",
      " 40  romantic                       40392 non-null   object\n",
      " 41  intimate                       39486 non-null   object\n",
      " 42  touristy                       40081 non-null   object\n",
      " 43  hipster                        39325 non-null   object\n",
      " 44  divey                          38271 non-null   object\n",
      " 45  classy                         40135 non-null   object\n",
      " 46  trendy                         38401 non-null   object\n",
      " 47  upscale                        40812 non-null   object\n",
      " 48  casual                         41514 non-null   object\n",
      " 49  best_for_desert                24191 non-null   object\n",
      " 50  best_for_latenight             25040 non-null   object\n",
      " 51  best_for_lunch                 26389 non-null   object\n",
      " 52  best_for_dinner                27432 non-null   object\n",
      " 53  best_for_brunch                25186 non-null   object\n",
      " 54  best_for_breakfast             26325 non-null   object\n",
      " 55  best_night_monday              5683 non-null    object\n",
      " 56  best_night_tuesday             5683 non-null    object\n",
      " 57  best_night_wednesday           5683 non-null    object\n",
      " 58  best_night_thursday            5683 non-null    object\n",
      " 59  best_night_friday              5683 non-null    object\n",
      " 60  best_night_saturday            5683 non-null    object\n",
      " 61  best_night_sunday              5683 non-null    object\n",
      "dtypes: object(62)\n",
      "memory usage: 76.3+ MB\n"
     ]
    }
   ],
   "source": [
    "# Recall that json_dicts_entries = ['music', 'business_parking', 'ambience', 'good_for_meal', 'best_nights']\n",
    "# We can now drop these columns because the JSON in them is now represented as columns in att_df\n",
    "\n",
    "att_df.drop(json_dicts_entries, axis = 1, inplace = True)\n",
    "att_df.info()"
   ]
  },
  {
   "cell_type": "code",
   "execution_count": 41,
   "id": "1eee82b4",
   "metadata": {},
   "outputs": [
    {
     "name": "stdout",
     "output_type": "stream",
     "text": [
      "restaurants_price_range\n",
      "wifi\n",
      "alcohol\n",
      "restaurants_attire\n",
      "noise_level\n",
      "smoking\n",
      "byob_corkage\n"
     ]
    }
   ],
   "source": [
    "for col in att_df.columns:\n",
    "  if col not in bool_cols:\n",
    "    print (col)"
   ]
  },
  {
   "cell_type": "code",
   "execution_count": 42,
   "id": "629b2d9e",
   "metadata": {},
   "outputs": [],
   "source": [
    "# Replacing 'None' with None where applicable\n",
    "string_cols = [ 'wifi', 'alcohol', 'restaurants_attire', 'noise_level', 'smoking', 'byob_corkage' ]\n",
    "\n",
    "for col in string_cols:\n",
    "  for i in range(len(att_df)):\n",
    "    if att_df.loc[i, col] == 'None':\n",
    "      att_df.loc[i, col] = None"
   ]
  },
  {
   "cell_type": "code",
   "execution_count": 43,
   "id": "430963aa",
   "metadata": {},
   "outputs": [
    {
     "data": {
      "text/plain": [
       "0            NaN\n",
       "1            NaN\n",
       "2           'no'\n",
       "3         'free'\n",
       "4            NaN\n",
       "           ...  \n",
       "150341       NaN\n",
       "150342      'no'\n",
       "150343       NaN\n",
       "150344       NaN\n",
       "150345    'free'\n",
       "Name: wifi, Length: 150346, dtype: object"
      ]
     },
     "execution_count": 43,
     "metadata": {},
     "output_type": "execute_result"
    }
   ],
   "source": [
    "# Checking the transformation\n",
    "att_df['wifi']"
   ]
  },
  {
   "cell_type": "code",
   "execution_count": 44,
   "id": "e54696a5",
   "metadata": {},
   "outputs": [
    {
     "name": "stdout",
     "output_type": "stream",
     "text": [
      "'free'    34414\n",
      "'no'      21831\n",
      "'paid'      619\n",
      "Name: wifi, dtype: int64\n",
      "56864\n"
     ]
    }
   ],
   "source": [
    "# Checking the transformation\n",
    "# The numbers come from the values from the value_counts() statement\n",
    "print (att_df['wifi'].value_counts())\n",
    "print (34414 + 21831 + 619)"
   ]
  },
  {
   "cell_type": "code",
   "execution_count": 45,
   "id": "bbcc028d",
   "metadata": {},
   "outputs": [
    {
     "data": {
      "text/plain": [
       "0         NaN\n",
       "1         NaN\n",
       "4         NaN\n",
       "6         NaN\n",
       "7         NaN\n",
       "         ... \n",
       "150339    NaN\n",
       "150340    NaN\n",
       "150341    NaN\n",
       "150343    NaN\n",
       "150344    NaN\n",
       "Name: wifi, Length: 93482, dtype: object"
      ]
     },
     "execution_count": 45,
     "metadata": {},
     "output_type": "execute_result"
    }
   ],
   "source": [
    "att_df[att_df['wifi'].isnull()]['wifi']"
   ]
  },
  {
   "cell_type": "code",
   "execution_count": 46,
   "id": "6c046f2a",
   "metadata": {},
   "outputs": [
    {
     "data": {
      "text/plain": [
       "150346"
      ]
     },
     "execution_count": 46,
     "metadata": {},
     "output_type": "execute_result"
    }
   ],
   "source": [
    "# This still equals the total number of rows\n",
    "93482 + 56864"
   ]
  },
  {
   "cell_type": "code",
   "execution_count": 47,
   "id": "76ae2cb3",
   "metadata": {},
   "outputs": [
    {
     "data": {
      "text/plain": [
       "{'wifi': Text(),\n",
       " 'alcohol': Text(),\n",
       " 'restaurants_attire': Text(),\n",
       " 'noise_level': Text(),\n",
       " 'smoking': Text(),\n",
       " 'byob_corkage': Text()}"
      ]
     },
     "execution_count": 47,
     "metadata": {},
     "output_type": "execute_result"
    }
   ],
   "source": [
    "string_dict = { col: sa.types.Text() for col in string_cols }\n",
    "string_dict"
   ]
  },
  {
   "cell_type": "code",
   "execution_count": 48,
   "id": "5c39185b",
   "metadata": {},
   "outputs": [],
   "source": [
    "# restaurants_price_range still has 'None' values\n",
    "# Replace these with np.nan, so we can still assign sa.types.Integer() in SQLAlchemy\n",
    "\n",
    "rest_price_range_nones = [ i for i in range(len(att_df)) if att_df.loc[i, 'restaurants_price_range'] == 'None' ]\n",
    "\n",
    "for idx in rest_price_range_nones:\n",
    "  att_df.loc[idx, 'restaurants_price_range'] = np.nan"
   ]
  },
  {
   "cell_type": "code",
   "execution_count": 49,
   "id": "8712c39d",
   "metadata": {},
   "outputs": [],
   "source": [
    "# Combines string_dict and bool_dict to one dictionary\n",
    "\n",
    "dtypes_dict = { **string_dict, **bool_dict }"
   ]
  },
  {
   "cell_type": "code",
   "execution_count": 50,
   "id": "eea544e0",
   "metadata": {},
   "outputs": [],
   "source": [
    "dtypes_dict['restaurants_price_range'] = sa.types.Integer()"
   ]
  },
  {
   "cell_type": "code",
   "execution_count": 51,
   "id": "8adb5371",
   "metadata": {},
   "outputs": [
    {
     "name": "stdout",
     "output_type": "stream",
     "text": [
      "62\n",
      "62\n"
     ]
    }
   ],
   "source": [
    "print (len(dtypes_dict.keys()))\n",
    "print (len(att_df.columns))"
   ]
  },
  {
   "cell_type": "markdown",
   "id": "86ca8129",
   "metadata": {},
   "source": [
    "### Appending `business_id` to `att_df`\n",
    "\n",
    "Recall that because the goal is a create a Postgres table with attribute data, we will need to add the `business_id` information to `att_df` so we have a foreign key in Postgres."
   ]
  },
  {
   "cell_type": "code",
   "execution_count": 52,
   "id": "7eac217a",
   "metadata": {},
   "outputs": [],
   "source": [
    "for_sql = pd.concat([b_data['business_id'], att_df], axis = 1)"
   ]
  },
  {
   "cell_type": "code",
   "execution_count": 53,
   "id": "47831d6b",
   "metadata": {},
   "outputs": [
    {
     "data": {
      "text/html": [
       "<div>\n",
       "<style scoped>\n",
       "    .dataframe tbody tr th:only-of-type {\n",
       "        vertical-align: middle;\n",
       "    }\n",
       "\n",
       "    .dataframe tbody tr th {\n",
       "        vertical-align: top;\n",
       "    }\n",
       "\n",
       "    .dataframe thead th {\n",
       "        text-align: right;\n",
       "    }\n",
       "</style>\n",
       "<table border=\"1\" class=\"dataframe\">\n",
       "  <thead>\n",
       "    <tr style=\"text-align: right;\">\n",
       "      <th></th>\n",
       "      <th>business_id</th>\n",
       "      <th>by_appointment_only</th>\n",
       "      <th>business_accepts_credit_cards</th>\n",
       "      <th>bike_parking</th>\n",
       "      <th>restaurants_price_range</th>\n",
       "      <th>restaurants_take_out</th>\n",
       "      <th>restaurants_delivery</th>\n",
       "      <th>caters</th>\n",
       "      <th>wifi</th>\n",
       "      <th>wheelchair_accessible</th>\n",
       "      <th>...</th>\n",
       "      <th>best_for_dinner</th>\n",
       "      <th>best_for_brunch</th>\n",
       "      <th>best_for_breakfast</th>\n",
       "      <th>best_night_monday</th>\n",
       "      <th>best_night_tuesday</th>\n",
       "      <th>best_night_wednesday</th>\n",
       "      <th>best_night_thursday</th>\n",
       "      <th>best_night_friday</th>\n",
       "      <th>best_night_saturday</th>\n",
       "      <th>best_night_sunday</th>\n",
       "    </tr>\n",
       "  </thead>\n",
       "  <tbody>\n",
       "    <tr>\n",
       "      <th>0</th>\n",
       "      <td>Pns2l4eNsfO8kk83dixA6A</td>\n",
       "      <td>1</td>\n",
       "      <td>NaN</td>\n",
       "      <td>NaN</td>\n",
       "      <td>NaN</td>\n",
       "      <td>NaN</td>\n",
       "      <td>NaN</td>\n",
       "      <td>NaN</td>\n",
       "      <td>NaN</td>\n",
       "      <td>NaN</td>\n",
       "      <td>...</td>\n",
       "      <td>NaN</td>\n",
       "      <td>NaN</td>\n",
       "      <td>NaN</td>\n",
       "      <td>NaN</td>\n",
       "      <td>NaN</td>\n",
       "      <td>NaN</td>\n",
       "      <td>NaN</td>\n",
       "      <td>NaN</td>\n",
       "      <td>NaN</td>\n",
       "      <td>NaN</td>\n",
       "    </tr>\n",
       "    <tr>\n",
       "      <th>1</th>\n",
       "      <td>mpf3x-BjTdTEA3yCZrAYPw</td>\n",
       "      <td>NaN</td>\n",
       "      <td>1</td>\n",
       "      <td>NaN</td>\n",
       "      <td>NaN</td>\n",
       "      <td>NaN</td>\n",
       "      <td>NaN</td>\n",
       "      <td>NaN</td>\n",
       "      <td>NaN</td>\n",
       "      <td>NaN</td>\n",
       "      <td>...</td>\n",
       "      <td>NaN</td>\n",
       "      <td>NaN</td>\n",
       "      <td>NaN</td>\n",
       "      <td>NaN</td>\n",
       "      <td>NaN</td>\n",
       "      <td>NaN</td>\n",
       "      <td>NaN</td>\n",
       "      <td>NaN</td>\n",
       "      <td>NaN</td>\n",
       "      <td>NaN</td>\n",
       "    </tr>\n",
       "    <tr>\n",
       "      <th>2</th>\n",
       "      <td>tUFrWirKiKi_TAnsVWINQQ</td>\n",
       "      <td>0</td>\n",
       "      <td>1</td>\n",
       "      <td>1</td>\n",
       "      <td>2</td>\n",
       "      <td>0</td>\n",
       "      <td>0</td>\n",
       "      <td>0</td>\n",
       "      <td>'no'</td>\n",
       "      <td>1</td>\n",
       "      <td>...</td>\n",
       "      <td>NaN</td>\n",
       "      <td>NaN</td>\n",
       "      <td>NaN</td>\n",
       "      <td>NaN</td>\n",
       "      <td>NaN</td>\n",
       "      <td>NaN</td>\n",
       "      <td>NaN</td>\n",
       "      <td>NaN</td>\n",
       "      <td>NaN</td>\n",
       "      <td>NaN</td>\n",
       "    </tr>\n",
       "    <tr>\n",
       "      <th>3</th>\n",
       "      <td>MTSW4McQd7CbVtyjqoe9mw</td>\n",
       "      <td>0</td>\n",
       "      <td>0</td>\n",
       "      <td>1</td>\n",
       "      <td>1</td>\n",
       "      <td>1</td>\n",
       "      <td>0</td>\n",
       "      <td>1</td>\n",
       "      <td>'free'</td>\n",
       "      <td>NaN</td>\n",
       "      <td>...</td>\n",
       "      <td>NaN</td>\n",
       "      <td>NaN</td>\n",
       "      <td>NaN</td>\n",
       "      <td>NaN</td>\n",
       "      <td>NaN</td>\n",
       "      <td>NaN</td>\n",
       "      <td>NaN</td>\n",
       "      <td>NaN</td>\n",
       "      <td>NaN</td>\n",
       "      <td>NaN</td>\n",
       "    </tr>\n",
       "    <tr>\n",
       "      <th>4</th>\n",
       "      <td>mWMc6_wTdE0EUBKIGXDVfA</td>\n",
       "      <td>NaN</td>\n",
       "      <td>1</td>\n",
       "      <td>1</td>\n",
       "      <td>NaN</td>\n",
       "      <td>1</td>\n",
       "      <td>NaN</td>\n",
       "      <td>0</td>\n",
       "      <td>NaN</td>\n",
       "      <td>1</td>\n",
       "      <td>...</td>\n",
       "      <td>NaN</td>\n",
       "      <td>NaN</td>\n",
       "      <td>NaN</td>\n",
       "      <td>NaN</td>\n",
       "      <td>NaN</td>\n",
       "      <td>NaN</td>\n",
       "      <td>NaN</td>\n",
       "      <td>NaN</td>\n",
       "      <td>NaN</td>\n",
       "      <td>NaN</td>\n",
       "    </tr>\n",
       "  </tbody>\n",
       "</table>\n",
       "<p>5 rows × 63 columns</p>\n",
       "</div>"
      ],
      "text/plain": [
       "              business_id by_appointment_only business_accepts_credit_cards  \\\n",
       "0  Pns2l4eNsfO8kk83dixA6A                   1                           NaN   \n",
       "1  mpf3x-BjTdTEA3yCZrAYPw                 NaN                             1   \n",
       "2  tUFrWirKiKi_TAnsVWINQQ                   0                             1   \n",
       "3  MTSW4McQd7CbVtyjqoe9mw                   0                             0   \n",
       "4  mWMc6_wTdE0EUBKIGXDVfA                 NaN                             1   \n",
       "\n",
       "  bike_parking restaurants_price_range restaurants_take_out  \\\n",
       "0          NaN                     NaN                  NaN   \n",
       "1          NaN                     NaN                  NaN   \n",
       "2            1                       2                    0   \n",
       "3            1                       1                    1   \n",
       "4            1                     NaN                    1   \n",
       "\n",
       "  restaurants_delivery caters    wifi wheelchair_accessible  ...  \\\n",
       "0                  NaN    NaN     NaN                   NaN  ...   \n",
       "1                  NaN    NaN     NaN                   NaN  ...   \n",
       "2                    0      0    'no'                     1  ...   \n",
       "3                    0      1  'free'                   NaN  ...   \n",
       "4                  NaN      0     NaN                     1  ...   \n",
       "\n",
       "  best_for_dinner best_for_brunch best_for_breakfast best_night_monday  \\\n",
       "0             NaN             NaN                NaN               NaN   \n",
       "1             NaN             NaN                NaN               NaN   \n",
       "2             NaN             NaN                NaN               NaN   \n",
       "3             NaN             NaN                NaN               NaN   \n",
       "4             NaN             NaN                NaN               NaN   \n",
       "\n",
       "  best_night_tuesday best_night_wednesday best_night_thursday  \\\n",
       "0                NaN                  NaN                 NaN   \n",
       "1                NaN                  NaN                 NaN   \n",
       "2                NaN                  NaN                 NaN   \n",
       "3                NaN                  NaN                 NaN   \n",
       "4                NaN                  NaN                 NaN   \n",
       "\n",
       "  best_night_friday best_night_saturday best_night_sunday  \n",
       "0               NaN                 NaN               NaN  \n",
       "1               NaN                 NaN               NaN  \n",
       "2               NaN                 NaN               NaN  \n",
       "3               NaN                 NaN               NaN  \n",
       "4               NaN                 NaN               NaN  \n",
       "\n",
       "[5 rows x 63 columns]"
      ]
     },
     "execution_count": 53,
     "metadata": {},
     "output_type": "execute_result"
    }
   ],
   "source": [
    "for_sql.head()"
   ]
  },
  {
   "cell_type": "code",
   "execution_count": 54,
   "id": "4f362e6b",
   "metadata": {},
   "outputs": [],
   "source": [
    "# Adding business_id to dtypes_dict\n",
    "dtypes_dict['business_id'] = sa.types.Text()"
   ]
  },
  {
   "cell_type": "markdown",
   "id": "37bd38e1",
   "metadata": {},
   "source": [
    "### Checking Values Before Creating Postgres Table\n",
    "\n",
    "Given the data transformations, we will have to visually inspect the data in order to check for validity. The two cells below can be used to check values of the table to see if they match."
   ]
  },
  {
   "cell_type": "code",
   "execution_count": 55,
   "id": "fbcb9765",
   "metadata": {},
   "outputs": [
    {
     "data": {
      "text/plain": [
       "business_id                      lXCFcmhoRsyW-mnzzl6fkA\n",
       "business_accepts_credit_cards                         1\n",
       "bike_parking                                          1\n",
       "restaurants_price_range                               2\n",
       "restaurants_take_out                                  1\n",
       "restaurants_delivery                                  0\n",
       "caters                                                1\n",
       "wifi                                             'free'\n",
       "outdoor_seating                                       0\n",
       "has_tv                                                1\n",
       "restaurants_reservations                              0\n",
       "alcohol                                 'beer_and_wine'\n",
       "good_for_kids                                         1\n",
       "restaurants_attire                             'casual'\n",
       "restaurants_good_for_groups                           1\n",
       "noise_level                                   'average'\n",
       "parking_garage                                    False\n",
       "street_parking                                    False\n",
       "validated_parking                                 False\n",
       "parking_lot                                        True\n",
       "valet_parking                                     False\n",
       "romantic                                          False\n",
       "intimate                                          False\n",
       "touristy                                          False\n",
       "hipster                                           False\n",
       "divey                                             False\n",
       "classy                                            False\n",
       "trendy                                            False\n",
       "upscale                                           False\n",
       "casual                                             True\n",
       "best_for_desert                                   False\n",
       "best_for_latenight                                False\n",
       "best_for_lunch                                     True\n",
       "best_for_dinner                                    True\n",
       "best_for_brunch                                   False\n",
       "best_for_breakfast                                False\n",
       "Name: 11034, dtype: object"
      ]
     },
     "execution_count": 55,
     "metadata": {},
     "output_type": "execute_result"
    }
   ],
   "source": [
    "check_index = 11034\n",
    "\n",
    "for_sql.loc[check_index][for_sql.loc[check_index].notnull()]"
   ]
  },
  {
   "cell_type": "code",
   "execution_count": 56,
   "id": "60185e86",
   "metadata": {},
   "outputs": [
    {
     "name": "stdout",
     "output_type": "stream",
     "text": [
      "lXCFcmhoRsyW-mnzzl6fkA\n"
     ]
    },
    {
     "data": {
      "text/plain": [
       "{'RestaurantsAttire': \"u'casual'\",\n",
       " 'Caters': 'True',\n",
       " 'BusinessAcceptsCreditCards': 'True',\n",
       " 'RestaurantsReservations': 'False',\n",
       " 'Alcohol': \"u'beer_and_wine'\",\n",
       " 'RestaurantsGoodForGroups': 'True',\n",
       " 'HasTV': 'True',\n",
       " 'BikeParking': 'True',\n",
       " 'RestaurantsPriceRange2': '2',\n",
       " 'Ambience': \"{'romantic': False, 'intimate': False, 'touristy': False, 'hipster': False, 'divey': False, 'classy': False, 'trendy': False, 'upscale': False, 'casual': True}\",\n",
       " 'GoodForKids': 'True',\n",
       " 'GoodForMeal': \"{'dessert': False, 'latenight': False, 'lunch': True, 'dinner': True, 'brunch': False, 'breakfast': False}\",\n",
       " 'RestaurantsTakeOut': 'True',\n",
       " 'BusinessParking': \"{'garage': False, 'street': False, 'validated': False, 'lot': True, 'valet': False}\",\n",
       " 'NoiseLevel': \"u'average'\",\n",
       " 'RestaurantsDelivery': 'False',\n",
       " 'OutdoorSeating': 'False',\n",
       " 'WiFi': \"u'free'\"}"
      ]
     },
     "execution_count": 56,
     "metadata": {},
     "output_type": "execute_result"
    }
   ],
   "source": [
    "print (b_data.loc[check_index, 'business_id'])\n",
    "b_data.loc[check_index, 'attributes']"
   ]
  },
  {
   "cell_type": "markdown",
   "id": "9200c5f5",
   "metadata": {},
   "source": [
    "### Pushing the Data to a Postgres Table"
   ]
  },
  {
   "cell_type": "code",
   "execution_count": 57,
   "id": "5488f3b5",
   "metadata": {},
   "outputs": [],
   "source": [
    "load_dotenv()\n",
    "\n",
    "engine = sa.create_engine(os.getenv('ENGINE'))\n",
    "\n",
    "for_sql.to_sql(\n",
    "  'business_attributes',\n",
    "  engine,\n",
    "  if_exists = 'replace', # This will drop the table if it already exists. Delete this line if necessary.\n",
    "  index = False,\n",
    "  dtype = dtypes_dict\n",
    ")"
   ]
  },
  {
   "cell_type": "code",
   "execution_count": 60,
   "id": "c25aec53",
   "metadata": {},
   "outputs": [
    {
     "data": {
      "text/plain": [
       "<sqlalchemy.engine.cursor.LegacyCursorResult at 0x7fe562401eb0>"
      ]
     },
     "execution_count": 60,
     "metadata": {},
     "output_type": "execute_result"
    }
   ],
   "source": [
    "# Makes business_id the foreign key\n",
    "\n",
    "engine.execute('''\n",
    "  ALTER TABLE business_attributes\n",
    "    ADD CONSTRAINT business_id FOREIGN KEY (business_id) REFERENCES businesses (business_id)\n",
    "''')"
   ]
  },
  {
   "cell_type": "code",
   "execution_count": null,
   "id": "b2d29a59",
   "metadata": {},
   "outputs": [],
   "source": []
  }
 ],
 "metadata": {
  "kernelspec": {
   "display_name": "Python 3",
   "language": "python",
   "name": "python3"
  },
  "language_info": {
   "codemirror_mode": {
    "name": "ipython",
    "version": 3
   },
   "file_extension": ".py",
   "mimetype": "text/x-python",
   "name": "python",
   "nbconvert_exporter": "python",
   "pygments_lexer": "ipython3",
   "version": "3.8.10"
  },
  "vscode": {
   "interpreter": {
    "hash": "650087dea920a2439f95599a997032a7d08f02793782e304106ac0f70af1a4a6"
   }
  }
 },
 "nbformat": 4,
 "nbformat_minor": 5
}
