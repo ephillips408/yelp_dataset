{
 "cells": [
  {
   "cell_type": "code",
   "execution_count": 1,
   "id": "70ab1945",
   "metadata": {},
   "outputs": [],
   "source": [
    "import numpy as np\n",
    "import pandas as pd\n",
    "# import json\n",
    "import ast"
   ]
  },
  {
   "cell_type": "code",
   "execution_count": 2,
   "id": "b832e1fe",
   "metadata": {},
   "outputs": [],
   "source": [
    "# b_data is short for business dataset\n",
    "# lines = True helps with the Trailing data ValueError\n",
    "\n",
    "b_data = pd.read_json('../../data_projects/data/yelp/yelp_dataset/yelp_academic_dataset_business.json', lines = True)"
   ]
  },
  {
   "cell_type": "code",
   "execution_count": 3,
   "id": "1e658d5f",
   "metadata": {},
   "outputs": [],
   "source": [
    "b_data.drop(b_data.columns.difference(['business_id', 'attributes']), axis = 1, inplace = True)"
   ]
  },
  {
   "cell_type": "code",
   "execution_count": 4,
   "id": "97b5ee9e",
   "metadata": {},
   "outputs": [
    {
     "data": {
      "text/html": [
       "<div>\n",
       "<style scoped>\n",
       "    .dataframe tbody tr th:only-of-type {\n",
       "        vertical-align: middle;\n",
       "    }\n",
       "\n",
       "    .dataframe tbody tr th {\n",
       "        vertical-align: top;\n",
       "    }\n",
       "\n",
       "    .dataframe thead th {\n",
       "        text-align: right;\n",
       "    }\n",
       "</style>\n",
       "<table border=\"1\" class=\"dataframe\">\n",
       "  <thead>\n",
       "    <tr style=\"text-align: right;\">\n",
       "      <th></th>\n",
       "      <th>business_id</th>\n",
       "      <th>attributes</th>\n",
       "    </tr>\n",
       "  </thead>\n",
       "  <tbody>\n",
       "    <tr>\n",
       "      <th>0</th>\n",
       "      <td>Pns2l4eNsfO8kk83dixA6A</td>\n",
       "      <td>{'ByAppointmentOnly': 'True'}</td>\n",
       "    </tr>\n",
       "    <tr>\n",
       "      <th>1</th>\n",
       "      <td>mpf3x-BjTdTEA3yCZrAYPw</td>\n",
       "      <td>{'BusinessAcceptsCreditCards': 'True'}</td>\n",
       "    </tr>\n",
       "    <tr>\n",
       "      <th>2</th>\n",
       "      <td>tUFrWirKiKi_TAnsVWINQQ</td>\n",
       "      <td>{'BikeParking': 'True', 'BusinessAcceptsCredit...</td>\n",
       "    </tr>\n",
       "    <tr>\n",
       "      <th>3</th>\n",
       "      <td>MTSW4McQd7CbVtyjqoe9mw</td>\n",
       "      <td>{'RestaurantsDelivery': 'False', 'OutdoorSeati...</td>\n",
       "    </tr>\n",
       "    <tr>\n",
       "      <th>4</th>\n",
       "      <td>mWMc6_wTdE0EUBKIGXDVfA</td>\n",
       "      <td>{'BusinessAcceptsCreditCards': 'True', 'Wheelc...</td>\n",
       "    </tr>\n",
       "    <tr>\n",
       "      <th>...</th>\n",
       "      <td>...</td>\n",
       "      <td>...</td>\n",
       "    </tr>\n",
       "    <tr>\n",
       "      <th>150341</th>\n",
       "      <td>IUQopTMmYQG-qRtBk-8QnA</td>\n",
       "      <td>{'ByAppointmentOnly': 'False', 'RestaurantsPri...</td>\n",
       "    </tr>\n",
       "    <tr>\n",
       "      <th>150342</th>\n",
       "      <td>c8GjPIOTGVmIemT7j5_SyQ</td>\n",
       "      <td>{'BusinessAcceptsCreditCards': 'True', 'Restau...</td>\n",
       "    </tr>\n",
       "    <tr>\n",
       "      <th>150343</th>\n",
       "      <td>_QAMST-NrQobXduilWEqSw</td>\n",
       "      <td>{'RestaurantsPriceRange2': '1', 'BusinessAccep...</td>\n",
       "    </tr>\n",
       "    <tr>\n",
       "      <th>150344</th>\n",
       "      <td>mtGm22y5c2UHNXDFAjaPNw</td>\n",
       "      <td>{'BusinessParking': '{'garage': False, 'street...</td>\n",
       "    </tr>\n",
       "    <tr>\n",
       "      <th>150345</th>\n",
       "      <td>jV_XOycEzSlTx-65W906pg</td>\n",
       "      <td>{'WheelchairAccessible': 'True', 'BusinessAcce...</td>\n",
       "    </tr>\n",
       "  </tbody>\n",
       "</table>\n",
       "<p>150346 rows × 2 columns</p>\n",
       "</div>"
      ],
      "text/plain": [
       "                   business_id  \\\n",
       "0       Pns2l4eNsfO8kk83dixA6A   \n",
       "1       mpf3x-BjTdTEA3yCZrAYPw   \n",
       "2       tUFrWirKiKi_TAnsVWINQQ   \n",
       "3       MTSW4McQd7CbVtyjqoe9mw   \n",
       "4       mWMc6_wTdE0EUBKIGXDVfA   \n",
       "...                        ...   \n",
       "150341  IUQopTMmYQG-qRtBk-8QnA   \n",
       "150342  c8GjPIOTGVmIemT7j5_SyQ   \n",
       "150343  _QAMST-NrQobXduilWEqSw   \n",
       "150344  mtGm22y5c2UHNXDFAjaPNw   \n",
       "150345  jV_XOycEzSlTx-65W906pg   \n",
       "\n",
       "                                               attributes  \n",
       "0                           {'ByAppointmentOnly': 'True'}  \n",
       "1                  {'BusinessAcceptsCreditCards': 'True'}  \n",
       "2       {'BikeParking': 'True', 'BusinessAcceptsCredit...  \n",
       "3       {'RestaurantsDelivery': 'False', 'OutdoorSeati...  \n",
       "4       {'BusinessAcceptsCreditCards': 'True', 'Wheelc...  \n",
       "...                                                   ...  \n",
       "150341  {'ByAppointmentOnly': 'False', 'RestaurantsPri...  \n",
       "150342  {'BusinessAcceptsCreditCards': 'True', 'Restau...  \n",
       "150343  {'RestaurantsPriceRange2': '1', 'BusinessAccep...  \n",
       "150344  {'BusinessParking': '{'garage': False, 'street...  \n",
       "150345  {'WheelchairAccessible': 'True', 'BusinessAcce...  \n",
       "\n",
       "[150346 rows x 2 columns]"
      ]
     },
     "execution_count": 4,
     "metadata": {},
     "output_type": "execute_result"
    }
   ],
   "source": [
    "b_data"
   ]
  },
  {
   "cell_type": "code",
   "execution_count": 5,
   "id": "e5b58b0a",
   "metadata": {},
   "outputs": [
    {
     "name": "stdout",
     "output_type": "stream",
     "text": [
      "<class 'pandas.core.frame.DataFrame'>\n",
      "RangeIndex: 150346 entries, 0 to 150345\n",
      "Data columns (total 39 columns):\n",
      " #   Column                      Non-Null Count   Dtype \n",
      "---  ------                      --------------   ----- \n",
      " 0   ByAppointmentOnly           42339 non-null   object\n",
      " 1   BusinessAcceptsCreditCards  119765 non-null  object\n",
      " 2   BikeParking                 72638 non-null   object\n",
      " 3   RestaurantsPriceRange2      85314 non-null   object\n",
      " 4   CoatCheck                   5584 non-null    object\n",
      " 5   RestaurantsTakeOut          59857 non-null   object\n",
      " 6   RestaurantsDelivery         56282 non-null   object\n",
      " 7   Caters                      40127 non-null   object\n",
      " 8   WiFi                        56914 non-null   object\n",
      " 9   BusinessParking             91085 non-null   object\n",
      " 10  WheelchairAccessible        28953 non-null   object\n",
      " 11  HappyHour                   15171 non-null   object\n",
      " 12  OutdoorSeating              48802 non-null   object\n",
      " 13  HasTV                       45084 non-null   object\n",
      " 14  RestaurantsReservations     45247 non-null   object\n",
      " 15  DogsAllowed                 18284 non-null   object\n",
      " 16  Alcohol                     43189 non-null   object\n",
      " 17  GoodForKids                 53375 non-null   object\n",
      " 18  RestaurantsAttire           39255 non-null   object\n",
      " 19  Ambience                    44279 non-null   object\n",
      " 20  RestaurantsTableService     19982 non-null   object\n",
      " 21  RestaurantsGoodForGroups    44170 non-null   object\n",
      " 22  DriveThru                   7760 non-null    object\n",
      " 23  NoiseLevel                  37993 non-null   object\n",
      " 24  GoodForMeal                 29087 non-null   object\n",
      " 25  BusinessAcceptsBitcoin      17430 non-null   object\n",
      " 26  Smoking                     4567 non-null    object\n",
      " 27  Music                       7521 non-null    object\n",
      " 28  GoodForDancing              4628 non-null    object\n",
      " 29  AcceptsInsurance            5713 non-null    object\n",
      " 30  BestNights                  5694 non-null    object\n",
      " 31  BYOB                        4451 non-null    object\n",
      " 32  Corkage                     3553 non-null    object\n",
      " 33  BYOBCorkage                 1444 non-null    object\n",
      " 34  HairSpecializesIn           1065 non-null    object\n",
      " 35  Open24Hours                 39 non-null      object\n",
      " 36  RestaurantsCounterService   19 non-null      object\n",
      " 37  AgesAllowed                 129 non-null     object\n",
      " 38  DietaryRestrictions         31 non-null      object\n",
      "dtypes: object(39)\n",
      "memory usage: 44.7+ MB\n"
     ]
    }
   ],
   "source": [
    "att_df = pd.json_normalize(b_data['attributes'].to_list())\n",
    "att_df.info()"
   ]
  },
  {
   "cell_type": "markdown",
   "id": "74fb4412",
   "metadata": {},
   "source": [
    "### Deciding Which Columns to Remove\n",
    "\n",
    "We will be dropping some columns because the amount of information they convey relative to the amount of businesses they pertain to is small."
   ]
  },
  {
   "cell_type": "code",
   "execution_count": 6,
   "id": "1c5a3d4d",
   "metadata": {},
   "outputs": [],
   "source": [
    "att_df.drop(\n",
    "  columns = ['HairSpecializesIn', 'DietaryRestrictions', 'Open24Hours', 'AgesAllowed', 'RestaurantsCounterService', 'CoatCheck'],\n",
    "  axis = 1,\n",
    "  inplace = True\n",
    ")"
   ]
  },
  {
   "cell_type": "code",
   "execution_count": 7,
   "id": "adde688f",
   "metadata": {},
   "outputs": [
    {
     "name": "stdout",
     "output_type": "stream",
     "text": [
      "RestaurantsPriceRange2\n",
      "WiFi\n",
      "BusinessParking\n",
      "Alcohol\n",
      "RestaurantsAttire\n",
      "Ambience\n",
      "NoiseLevel\n",
      "GoodForMeal\n",
      "Smoking\n",
      "Music\n",
      "BestNights\n",
      "BYOBCorkage\n"
     ]
    }
   ],
   "source": [
    "# These are the columns that may have values that are not booleans.\n",
    "\n",
    "for col in att_df.columns.to_list():\n",
    "    if len(att_df[att_df[col].notnull()][col].value_counts().to_list()) > 3:\n",
    "        print (col)"
   ]
  },
  {
   "cell_type": "code",
   "execution_count": 8,
   "id": "88c912d7",
   "metadata": {},
   "outputs": [
    {
     "name": "stdout",
     "output_type": "stream",
     "text": [
      "{'touristy': False, 'hipster': False, 'romantic': False, 'divey': False, 'intimate': False, 'trendy': False, 'upscale': False, 'classy': False, 'casual': False}      6717\n",
      "{'romantic': False, 'intimate': False, 'classy': False, 'hipster': False, 'divey': False, 'touristy': False, 'trendy': False, 'upscale': False, 'casual': False}      5181\n",
      "{'romantic': False, 'intimate': False, 'classy': False, 'hipster': False, 'divey': False, 'touristy': False, 'trendy': False, 'upscale': False, 'casual': True}       4269\n",
      "{'romantic': False, 'intimate': False, 'touristy': False, 'hipster': False, 'divey': False, 'classy': False, 'trendy': False, 'upscale': False, 'casual': True}       4199\n",
      "{'romantic': False, 'intimate': False, 'touristy': False, 'hipster': False, 'divey': False, 'classy': False, 'trendy': False, 'upscale': False, 'casual': False}      3297\n",
      "                                                                                                                                                                      ... \n",
      "{u'divey': True, u'hipster': False, u'casual': True, u'touristy': None, u'trendy': None, u'intimate': None, u'romantic': None, u'classy': False, u'upscale': None}       1\n",
      "{'touristy': None, 'hipster': None, 'romantic': False, 'divey': True, 'intimate': False, 'trendy': False, 'upscale': False, 'classy': None, 'casual': True}              1\n",
      "{'touristy': False, 'hipster': False, 'romantic': None, 'divey': None, 'intimate': False, 'trendy': False, 'upscale': False, 'classy': None, 'casual': None}             1\n",
      "{'touristy': None, 'hipster': None, 'romantic': None, 'divey': None, 'intimate': None, 'trendy': False, 'upscale': None, 'classy': True, 'casual': True}                 1\n",
      "{'touristy': None, 'hipster': False, 'romantic': False, 'divey': None, 'intimate': False, 'trendy': False, 'upscale': None, 'classy': None, 'casual': True}              1\n",
      "Name: Ambience, Length: 2414, dtype: int64\n"
     ]
    }
   ],
   "source": [
    "# Lets us explore the values of the columns.\n",
    "# Will be helpful for knowing if other columns consist of JSON data\n",
    "# Columns that have leading 'u': Alcohol, NoiseLevel, WiFi, RestaurantsAttire, Smoking, BYOBCorkage\n",
    "# Columns that have JSON values: BusinessParking, Ambience, GoodForMeal, Music, BestNights\n",
    "\n",
    "column_string = 'Ambience'\n",
    "\n",
    "print (att_df[att_df[column_string].notnull()][column_string].value_counts())"
   ]
  },
  {
   "cell_type": "code",
   "execution_count": 9,
   "id": "80eae027",
   "metadata": {},
   "outputs": [
    {
     "data": {
      "text/plain": [
       "'u'"
      ]
     },
     "execution_count": 9,
     "metadata": {},
     "output_type": "execute_result"
    }
   ],
   "source": [
    "# If a column has a 'u' as the first character, we will need to remove the 'u'\n",
    "\n",
    "att_df.loc[3, 'Alcohol'][0]"
   ]
  },
  {
   "cell_type": "code",
   "execution_count": 10,
   "id": "9d1b3e0a",
   "metadata": {},
   "outputs": [
    {
     "data": {
      "text/plain": [
       "\"'none'\""
      ]
     },
     "execution_count": 10,
     "metadata": {},
     "output_type": "execute_result"
    }
   ],
   "source": [
    "# We will remove the leading 'u' with this reassignment\n",
    "\n",
    "att_df.loc[3, 'Alcohol'][1:]"
   ]
  },
  {
   "cell_type": "code",
   "execution_count": 11,
   "id": "71c6b53d",
   "metadata": {},
   "outputs": [],
   "source": [
    "# Cleans the leading u's from the following columns\n",
    "\n",
    "leading_u_columns = ['Alcohol', 'NoiseLevel', 'WiFi', 'RestaurantsAttire', 'Smoking', 'BYOBCorkage']\n",
    "\n",
    "for i in range(len(att_df)):\n",
    "  for col in leading_u_columns:\n",
    "    if type(att_df.loc[i, col]) is not float and att_df.loc[i, col][0] == 'u':\n",
    "      att_df.loc[i, col] = att_df.loc[i, col][1:]"
   ]
  },
  {
   "cell_type": "code",
   "execution_count": 12,
   "id": "740e00df",
   "metadata": {},
   "outputs": [
    {
     "name": "stdout",
     "output_type": "stream",
     "text": [
      "Alcohol 'none'             20910\n",
      "'full_bar'         15992\n",
      "'beer_and_wine'     6249\n",
      "None                  38\n",
      "Name: Alcohol, dtype: int64\n",
      "NoiseLevel 'average'      26188\n",
      "'quiet'         7634\n",
      "'loud'          2932\n",
      "'very_loud'     1200\n",
      "None              39\n",
      "Name: NoiseLevel, dtype: int64\n",
      "WiFi 'free'    34414\n",
      "'no'      21831\n",
      "'paid'      619\n",
      "None         50\n",
      "Name: WiFi, dtype: int64\n",
      "RestaurantsAttire 'casual'    38344\n",
      "'dressy'      803\n",
      "'formal'       70\n",
      "None           38\n",
      "Name: RestaurantsAttire, dtype: int64\n",
      "Smoking 'no'         2405\n",
      "'outdoor'    1817\n",
      "'yes'         331\n",
      "None           14\n",
      "Name: Smoking, dtype: int64\n",
      "BYOBCorkage 'no'             747\n",
      "'yes_free'       590\n",
      "'yes_corkage'    102\n",
      "None               5\n",
      "Name: BYOBCorkage, dtype: int64\n"
     ]
    }
   ],
   "source": [
    "# Check the above transformation\n",
    "\n",
    "for col in leading_u_columns:\n",
    "  print (col, att_df[att_df[col].notnull()][col].value_counts())"
   ]
  },
  {
   "cell_type": "markdown",
   "id": "68e08251",
   "metadata": {},
   "source": [
    "### Cleaning the JSON in Columns with JSON Values\n",
    "\n",
    "Some of the JSON keys have a leading 'u' which needs to be removed. This is because we will normalize the JSON in these columns, then concat the normalized JSON with `att_df` in order to add the information to the DataFrame."
   ]
  },
  {
   "cell_type": "code",
   "execution_count": 13,
   "id": "475bc832",
   "metadata": {},
   "outputs": [],
   "source": [
    "check_for_u = []\n",
    "\n",
    "for i in range(len(att_df)):\n",
    "  if type(att_df.loc[i, 'Music']) is not float and att_df.loc[i, 'Music'][1] == 'u':\n",
    "    check_for_u.append(i)"
   ]
  },
  {
   "cell_type": "code",
   "execution_count": 14,
   "id": "cd9a8daa",
   "metadata": {},
   "outputs": [
    {
     "data": {
      "text/plain": [
       "\"{u'dj': None, u'live': False, u'jukebox': None, u'video': False, u'background_music': False, u'karaoke': None, u'no_music': False}\""
      ]
     },
     "execution_count": 14,
     "metadata": {},
     "output_type": "execute_result"
    }
   ],
   "source": [
    "att_df.loc[check_for_u[0], 'Music']"
   ]
  },
  {
   "cell_type": "code",
   "execution_count": 15,
   "id": "72d028cf",
   "metadata": {},
   "outputs": [
    {
     "data": {
      "text/plain": [
       "771"
      ]
     },
     "execution_count": 15,
     "metadata": {},
     "output_type": "execute_result"
    }
   ],
   "source": [
    "len(check_for_u)"
   ]
  },
  {
   "cell_type": "code",
   "execution_count": 16,
   "id": "5725fd8a",
   "metadata": {},
   "outputs": [
    {
     "name": "stdout",
     "output_type": "stream",
     "text": [
      "{'dj': None, 'live': False, 'jukebox': None, 'video': False, 'background_music': False, 'karaoke': None, 'no_music': False}\n"
     ]
    }
   ],
   "source": [
    "# This is how we will clean the 'Music' column JSON string\n",
    "# Columns that have JSON values: BusinessParking, Ambience, GoodForMeal, Music, BestNights,\n",
    "# Replacement working for the following: Music, BestNights, Ambience, GoodForMeal, BusinessParking \n",
    "\n",
    "practice = att_df.loc[check_for_u[0], 'Music']\n",
    "practice = practice.replace( ', u', ', ').replace(\"u'\", \"'\")\n",
    "print (practice)"
   ]
  },
  {
   "cell_type": "code",
   "execution_count": 17,
   "id": "a41ca486",
   "metadata": {},
   "outputs": [],
   "source": [
    "# Get the indices of columns where the JSON information has u's\n",
    "\n",
    "music_u_indices = [ \n",
    "  i for i in range(len(att_df)) if type(att_df.loc[i, 'Music']) is not float and att_df.loc[i, 'Music'][1] == 'u' \n",
    "]\n",
    "\n",
    "best_nights_u_indices = [ \n",
    "  i for i in range(len(att_df)) if type(att_df.loc[i, 'BestNights']) is not float and att_df.loc[i, 'BestNights'][1] == 'u' \n",
    "]\n",
    "\n",
    "ambience_u_indices = [ \n",
    "  i for i in range(len(att_df)) if type(att_df.loc[i, 'Ambience']) is not float and att_df.loc[i, 'Ambience'][1] == 'u' \n",
    "]\n",
    "\n",
    "good_for_meal_u_indices = [ \n",
    "  i for i in range(len(att_df)) if type(att_df.loc[i, 'GoodForMeal']) is not float and att_df.loc[i, 'GoodForMeal'][1] == 'u' \n",
    "]\n",
    "\n",
    "business_parking_u_indices = [ \n",
    "  i for i in range(len(att_df)) if type(att_df.loc[i, 'BusinessParking']) is not float and att_df.loc[i, 'BusinessParking'][1] == 'u' \n",
    "]"
   ]
  },
  {
   "cell_type": "code",
   "execution_count": 18,
   "id": "5b99e444",
   "metadata": {},
   "outputs": [],
   "source": [
    "for idx in music_u_indices:\n",
    "  att_df.loc[idx, 'Music'] = att_df.loc[idx, 'Music'].replace( ', u', ', ').replace(\"u'\", \"'\")\n",
    "\n",
    "for idx in best_nights_u_indices:\n",
    "  att_df.loc[idx, 'BestNights'] = att_df.loc[idx, 'BestNights'].replace( ', u', ', ').replace(\"u'\", \"'\")\n",
    "\n",
    "for idx in ambience_u_indices:\n",
    "  att_df.loc[idx, 'Ambience'] = att_df.loc[idx, 'Ambience'].replace( ', u', ', ').replace(\"u'\", \"'\")\n",
    "\n",
    "for idx in good_for_meal_u_indices:\n",
    "  att_df.loc[idx, 'GoodForMeal'] = att_df.loc[idx, 'GoodForMeal'].replace( ', u', ', ').replace(\"u'\", \"'\")\n",
    "\n",
    "for idx in business_parking_u_indices:\n",
    "  att_df.loc[idx, 'BusinessParking'] = att_df.loc[idx, 'BusinessParking'].replace( ', u', ', ').replace(\"u'\", \"'\")"
   ]
  },
  {
   "cell_type": "code",
   "execution_count": 19,
   "id": "15ea53c0",
   "metadata": {},
   "outputs": [
    {
     "data": {
      "text/plain": [
       "{'touristy': False, 'hipster': False, 'romantic': False, 'divey': False, 'intimate': False, 'trendy': False, 'upscale': False, 'classy': False, 'casual': False}    6717\n",
       "{'romantic': False, 'intimate': False, 'classy': False, 'hipster': False, 'divey': False, 'touristy': False, 'trendy': False, 'upscale': False, 'casual': False}    5181\n",
       "{'romantic': False, 'intimate': False, 'classy': False, 'hipster': False, 'divey': False, 'touristy': False, 'trendy': False, 'upscale': False, 'casual': True}     4269\n",
       "{'romantic': False, 'intimate': False, 'touristy': False, 'hipster': False, 'divey': False, 'classy': False, 'trendy': False, 'upscale': False, 'casual': True}     4199\n",
       "{'romantic': False, 'intimate': False, 'touristy': False, 'hipster': False, 'divey': False, 'classy': False, 'trendy': False, 'upscale': False, 'casual': False}    3297\n",
       "                                                                                                                                                                    ... \n",
       "{'divey': True, 'hipster': False, 'casual': True, 'touristy': None, 'trendy': None, 'intimate': None, 'romantic': None, 'classy': False, 'upscale': None}              1\n",
       "{'touristy': None, 'hipster': None, 'romantic': False, 'divey': True, 'intimate': False, 'trendy': False, 'upscale': False, 'classy': None, 'casual': True}            1\n",
       "{'touristy': False, 'hipster': False, 'romantic': None, 'divey': None, 'intimate': False, 'trendy': False, 'upscale': False, 'classy': None, 'casual': None}           1\n",
       "{'touristy': None, 'hipster': None, 'romantic': None, 'divey': None, 'intimate': None, 'trendy': False, 'upscale': None, 'classy': True, 'casual': True}               1\n",
       "{'touristy': None, 'hipster': False, 'romantic': False, 'divey': None, 'intimate': False, 'trendy': False, 'upscale': None, 'classy': None, 'casual': True}            1\n",
       "Name: Ambience, Length: 2414, dtype: int64"
      ]
     },
     "execution_count": 19,
     "metadata": {},
     "output_type": "execute_result"
    }
   ],
   "source": [
    "# Comparing with the att_df['Ambience'].value_counts() to check for leading u's\n",
    "\n",
    "att_df['Ambience'].value_counts()"
   ]
  },
  {
   "cell_type": "markdown",
   "id": "e8555962",
   "metadata": {},
   "source": [
    "### Normalizing the JSON in the Columns with JSON Values"
   ]
  },
  {
   "cell_type": "markdown",
   "id": "f359107e",
   "metadata": {},
   "source": [
    "Columns that have JSON values: BusinessParking, Ambience, GoodForMeal, Music, BestNights"
   ]
  },
  {
   "cell_type": "code",
   "execution_count": 20,
   "id": "0ab88361",
   "metadata": {},
   "outputs": [
    {
     "data": {
      "text/plain": [
       "28        {'dj': False, 'background_music': False, 'no_m...\n",
       "46        {'dj': False, 'background_music': False, 'no_m...\n",
       "47        {'dj': False, 'background_music': False, 'no_m...\n",
       "61                                            {'dj': False}\n",
       "62                                        {'jukebox': True}\n",
       "                                ...                        \n",
       "150274    {'dj': None, 'background_music': False, 'no_mu...\n",
       "150275    {'dj': False, 'background_music': False, 'no_m...\n",
       "150291    {'dj': False, 'background_music': False, 'no_m...\n",
       "150292    {'dj': None, 'live': False, 'jukebox': None, '...\n",
       "150323    {'dj': False, 'background_music': False, 'no_m...\n",
       "Name: Music, Length: 7521, dtype: object"
      ]
     },
     "execution_count": 20,
     "metadata": {},
     "output_type": "execute_result"
    }
   ],
   "source": [
    "# Selects all rows where 'Music' is not null.\n",
    "# ~ is a negate operator on a boolean series\n",
    "\n",
    "att_df[~att_df['Music'].isnull()]['Music']"
   ]
  },
  {
   "cell_type": "code",
   "execution_count": 21,
   "id": "5dadc2aa",
   "metadata": {},
   "outputs": [],
   "source": [
    "# Columns that have JSON values: Music, BusinessParking, Ambience, GoodForMeal, Music, BestNights\n",
    "# Get the non_null indices for each of these columns\n",
    "# Recall that the null values are given as np.nan, which is of type float\n",
    "\n",
    "music_not_null = [\n",
    "  i for i in range(len(att_df)) if type(att_df.loc[i, 'Music']) is not float\n",
    "]\n",
    "\n",
    "business_parking_not_null = [\n",
    "  i for i in range(len(att_df)) if type(att_df.loc[i, 'BusinessParking']) is not float\n",
    "]\n",
    "\n",
    "ambience_not_null = [\n",
    "  i for i in range(len(att_df)) if type(att_df.loc[i, 'Ambience']) is not float\n",
    "]\n",
    "\n",
    "good_for_meal_not_null = [\n",
    "  i for i in range(len(att_df)) if type(att_df.loc[i, 'GoodForMeal']) is not float\n",
    "]\n",
    "\n",
    "best_nights_not_null = [\n",
    "  i for i in range(len(att_df)) if type(att_df.loc[i, 'BestNights']) is not float\n",
    "]"
   ]
  },
  {
   "cell_type": "code",
   "execution_count": 22,
   "id": "b2f723bf",
   "metadata": {},
   "outputs": [
    {
     "name": "stdout",
     "output_type": "stream",
     "text": [
      "[12, 14, 15, 19, 23, 27, 28, 31, 33, 35, 41, 47, 53, 59]\n"
     ]
    }
   ],
   "source": [
    "print (good_for_meal_not_null[1:15])"
   ]
  },
  {
   "cell_type": "code",
   "execution_count": 23,
   "id": "d0360a5c",
   "metadata": {},
   "outputs": [
    {
     "name": "stdout",
     "output_type": "stream",
     "text": [
      "{'dessert': False, 'latenight': False, 'lunch': False, 'dinner': False, 'brunch': False, 'breakfast': False}\n",
      "nan\n"
     ]
    }
   ],
   "source": [
    "print (att_df.loc[12, 'GoodForMeal'])\n",
    "print (att_df.loc[16, 'GoodForMeal'])"
   ]
  },
  {
   "cell_type": "code",
   "execution_count": 24,
   "id": "9539ccd6",
   "metadata": {},
   "outputs": [],
   "source": [
    "# Create an empty list for future dictionaries.\n",
    "# We will append either an empty dictionary for None values, or a dictionary of the JSON that is present for each non-None entry\n",
    "json_dicts = {\n",
    "  'music': [],\n",
    "  'business_parking': [],\n",
    "  'ambience': [],\n",
    "  'good_for_meal': [],\n",
    "  'best_nights': []\n",
    "}\n",
    "\n",
    "# Have to hard-code this because can not iterate over dictionary keys by index, i.e. can not do json_dicts.keys()[0]\n",
    "json_dicts_entries = ['music', 'business_parking', 'ambience', 'good_for_meal', 'best_nights']\n",
    "\n",
    "# att_df column names must match the order of json_dicts_entries because of 'i' indexing in loop below\n",
    "att_df_json_columns = ['Music', 'BusinessParking', 'Ambience', 'GoodForMeal', 'BestNights']\n",
    "\n",
    "columns_to_clean = [\n",
    "  music_not_null, \n",
    "  business_parking_not_null, \n",
    "  ambience_not_null, \n",
    "  good_for_meal_not_null, \n",
    "  best_nights_not_null\n",
    "]"
   ]
  },
  {
   "cell_type": "code",
   "execution_count": 25,
   "id": "e27fa573",
   "metadata": {},
   "outputs": [],
   "source": [
    "# For every entry in json_dicts_entries...\n",
    "for i in range(len(json_dicts_entries)):\n",
    "\n",
    "  # For every index in the columns to clean...\n",
    "  for idx in columns_to_clean[i]:\n",
    "\n",
    "    # If the value in att_df is None or 'None' then append {} to the list of dictionaries in json_dicts\n",
    "    if att_df.loc[idx, att_df_json_columns[i]] == 'None' or att_df.loc[idx, att_df_json_columns[i]] is None:\n",
    "\n",
    "      json_dicts[json_dicts_entries[i]].append({})\n",
    "\n",
    "    # Otherwise, append the json_string as a dictionary to the list of dictionaries in json_dicts\n",
    "    elif att_df.loc[idx, att_df_json_columns[i]] is not None:\n",
    "\n",
    "      json_dicts[json_dicts_entries[i]].append(ast.literal_eval(att_df.loc[idx, att_df_json_columns[i]]))"
   ]
  },
  {
   "cell_type": "code",
   "execution_count": 26,
   "id": "99c89612",
   "metadata": {},
   "outputs": [],
   "source": [
    "for i in range(len(json_dicts_entries)):\n",
    "\n",
    "  # Make the dictionary a DataFrame\n",
    "  json_dicts[json_dicts_entries[i]] = pd.DataFrame(json_dicts[json_dicts_entries[i]])\n",
    "\n",
    "  # Assign a column 'new_index' to the non-null indices\n",
    "  json_dicts[json_dicts_entries[i]]['new_index'] = columns_to_clean[i]\n",
    "\n",
    "  # Set 'new_index' as the new index of the DataFrame\n",
    "  json_dicts[json_dicts_entries[i]].set_index('new_index', inplace = True)"
   ]
  },
  {
   "cell_type": "code",
   "execution_count": 27,
   "id": "eca111db",
   "metadata": {},
   "outputs": [
    {
     "data": {
      "text/html": [
       "<div>\n",
       "<style scoped>\n",
       "    .dataframe tbody tr th:only-of-type {\n",
       "        vertical-align: middle;\n",
       "    }\n",
       "\n",
       "    .dataframe tbody tr th {\n",
       "        vertical-align: top;\n",
       "    }\n",
       "\n",
       "    .dataframe thead th {\n",
       "        text-align: right;\n",
       "    }\n",
       "</style>\n",
       "<table border=\"1\" class=\"dataframe\">\n",
       "  <thead>\n",
       "    <tr style=\"text-align: right;\">\n",
       "      <th></th>\n",
       "      <th>romantic</th>\n",
       "      <th>intimate</th>\n",
       "      <th>touristy</th>\n",
       "      <th>hipster</th>\n",
       "      <th>divey</th>\n",
       "      <th>classy</th>\n",
       "      <th>trendy</th>\n",
       "      <th>upscale</th>\n",
       "      <th>casual</th>\n",
       "    </tr>\n",
       "    <tr>\n",
       "      <th>new_index</th>\n",
       "      <th></th>\n",
       "      <th></th>\n",
       "      <th></th>\n",
       "      <th></th>\n",
       "      <th></th>\n",
       "      <th></th>\n",
       "      <th></th>\n",
       "      <th></th>\n",
       "      <th></th>\n",
       "    </tr>\n",
       "  </thead>\n",
       "  <tbody>\n",
       "    <tr>\n",
       "      <th>5</th>\n",
       "      <td>NaN</td>\n",
       "      <td>NaN</td>\n",
       "      <td>NaN</td>\n",
       "      <td>NaN</td>\n",
       "      <td>NaN</td>\n",
       "      <td>NaN</td>\n",
       "      <td>NaN</td>\n",
       "      <td>NaN</td>\n",
       "      <td>NaN</td>\n",
       "    </tr>\n",
       "    <tr>\n",
       "      <th>8</th>\n",
       "      <td>False</td>\n",
       "      <td>False</td>\n",
       "      <td>False</td>\n",
       "      <td>False</td>\n",
       "      <td>False</td>\n",
       "      <td>False</td>\n",
       "      <td>False</td>\n",
       "      <td>False</td>\n",
       "      <td>False</td>\n",
       "    </tr>\n",
       "    <tr>\n",
       "      <th>11</th>\n",
       "      <td>False</td>\n",
       "      <td>False</td>\n",
       "      <td>False</td>\n",
       "      <td>False</td>\n",
       "      <td>False</td>\n",
       "      <td>False</td>\n",
       "      <td>False</td>\n",
       "      <td>False</td>\n",
       "      <td>False</td>\n",
       "    </tr>\n",
       "    <tr>\n",
       "      <th>12</th>\n",
       "      <td>False</td>\n",
       "      <td>None</td>\n",
       "      <td>None</td>\n",
       "      <td>None</td>\n",
       "      <td>None</td>\n",
       "      <td>None</td>\n",
       "      <td>None</td>\n",
       "      <td>None</td>\n",
       "      <td>True</td>\n",
       "    </tr>\n",
       "    <tr>\n",
       "      <th>14</th>\n",
       "      <td>False</td>\n",
       "      <td>False</td>\n",
       "      <td>False</td>\n",
       "      <td>False</td>\n",
       "      <td>False</td>\n",
       "      <td>False</td>\n",
       "      <td>False</td>\n",
       "      <td>False</td>\n",
       "      <td>True</td>\n",
       "    </tr>\n",
       "    <tr>\n",
       "      <th>...</th>\n",
       "      <td>...</td>\n",
       "      <td>...</td>\n",
       "      <td>...</td>\n",
       "      <td>...</td>\n",
       "      <td>...</td>\n",
       "      <td>...</td>\n",
       "      <td>...</td>\n",
       "      <td>...</td>\n",
       "      <td>...</td>\n",
       "    </tr>\n",
       "    <tr>\n",
       "      <th>150322</th>\n",
       "      <td>True</td>\n",
       "      <td>None</td>\n",
       "      <td>False</td>\n",
       "      <td>False</td>\n",
       "      <td>False</td>\n",
       "      <td>None</td>\n",
       "      <td>None</td>\n",
       "      <td>None</td>\n",
       "      <td>None</td>\n",
       "    </tr>\n",
       "    <tr>\n",
       "      <th>150323</th>\n",
       "      <td>False</td>\n",
       "      <td>False</td>\n",
       "      <td>False</td>\n",
       "      <td>None</td>\n",
       "      <td>False</td>\n",
       "      <td>False</td>\n",
       "      <td>True</td>\n",
       "      <td>False</td>\n",
       "      <td>True</td>\n",
       "    </tr>\n",
       "    <tr>\n",
       "      <th>150327</th>\n",
       "      <td>False</td>\n",
       "      <td>False</td>\n",
       "      <td>False</td>\n",
       "      <td>False</td>\n",
       "      <td>False</td>\n",
       "      <td>False</td>\n",
       "      <td>False</td>\n",
       "      <td>False</td>\n",
       "      <td>True</td>\n",
       "    </tr>\n",
       "    <tr>\n",
       "      <th>150336</th>\n",
       "      <td>None</td>\n",
       "      <td>None</td>\n",
       "      <td>None</td>\n",
       "      <td>False</td>\n",
       "      <td>None</td>\n",
       "      <td>None</td>\n",
       "      <td>None</td>\n",
       "      <td>None</td>\n",
       "      <td>True</td>\n",
       "    </tr>\n",
       "    <tr>\n",
       "      <th>150340</th>\n",
       "      <td>False</td>\n",
       "      <td>False</td>\n",
       "      <td>False</td>\n",
       "      <td>False</td>\n",
       "      <td>NaN</td>\n",
       "      <td>False</td>\n",
       "      <td>False</td>\n",
       "      <td>False</td>\n",
       "      <td>False</td>\n",
       "    </tr>\n",
       "  </tbody>\n",
       "</table>\n",
       "<p>44279 rows × 9 columns</p>\n",
       "</div>"
      ],
      "text/plain": [
       "          romantic intimate touristy hipster  divey classy trendy upscale  \\\n",
       "new_index                                                                   \n",
       "5              NaN      NaN      NaN     NaN    NaN    NaN    NaN     NaN   \n",
       "8            False    False    False   False  False  False  False   False   \n",
       "11           False    False    False   False  False  False  False   False   \n",
       "12           False     None     None    None   None   None   None    None   \n",
       "14           False    False    False   False  False  False  False   False   \n",
       "...            ...      ...      ...     ...    ...    ...    ...     ...   \n",
       "150322        True     None    False   False  False   None   None    None   \n",
       "150323       False    False    False    None  False  False   True   False   \n",
       "150327       False    False    False   False  False  False  False   False   \n",
       "150336        None     None     None   False   None   None   None    None   \n",
       "150340       False    False    False   False    NaN  False  False   False   \n",
       "\n",
       "          casual  \n",
       "new_index         \n",
       "5            NaN  \n",
       "8          False  \n",
       "11         False  \n",
       "12          True  \n",
       "14          True  \n",
       "...          ...  \n",
       "150322      None  \n",
       "150323      True  \n",
       "150327      True  \n",
       "150336      True  \n",
       "150340     False  \n",
       "\n",
       "[44279 rows x 9 columns]"
      ]
     },
     "execution_count": 27,
     "metadata": {},
     "output_type": "execute_result"
    }
   ],
   "source": [
    "# Checking an example of the DataFrames created\n",
    "\n",
    "json_dicts['ambience']"
   ]
  },
  {
   "cell_type": "code",
   "execution_count": 28,
   "id": "6194df60",
   "metadata": {},
   "outputs": [],
   "source": [
    "# Need to do something like this for every DataFrame in json_dicts\n",
    "\n",
    "# att_df = pd.concat([att_df, music_df], axis = 1)"
   ]
  }
 ],
 "metadata": {
  "kernelspec": {
   "display_name": "Python 3",
   "language": "python",
   "name": "python3"
  },
  "language_info": {
   "codemirror_mode": {
    "name": "ipython",
    "version": 3
   },
   "file_extension": ".py",
   "mimetype": "text/x-python",
   "name": "python",
   "nbconvert_exporter": "python",
   "pygments_lexer": "ipython3",
   "version": "3.8.10"
  },
  "vscode": {
   "interpreter": {
    "hash": "650087dea920a2439f95599a997032a7d08f02793782e304106ac0f70af1a4a6"
   }
  }
 },
 "nbformat": 4,
 "nbformat_minor": 5
}
