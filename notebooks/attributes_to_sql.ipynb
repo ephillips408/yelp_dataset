{
 "cells": [
  {
   "cell_type": "code",
   "execution_count": 1,
   "id": "70ab1945",
   "metadata": {},
   "outputs": [],
   "source": [
    "import numpy as np\n",
    "import pandas as pd"
   ]
  },
  {
   "cell_type": "code",
   "execution_count": 2,
   "id": "b832e1fe",
   "metadata": {},
   "outputs": [],
   "source": [
    "# b_data is short for business dataset\n",
    "# lines = True helps with the Trailing data ValueError\n",
    "\n",
    "b_data = pd.read_json('../../data_projects/data/yelp/yelp_dataset/yelp_academic_dataset_business.json', lines = True)"
   ]
  },
  {
   "cell_type": "code",
   "execution_count": 3,
   "id": "1e658d5f",
   "metadata": {},
   "outputs": [],
   "source": [
    "b_data.drop(b_data.columns.difference(['business_id', 'attributes']), axis = 1, inplace = True)"
   ]
  },
  {
   "cell_type": "code",
   "execution_count": 4,
   "id": "97b5ee9e",
   "metadata": {},
   "outputs": [
    {
     "data": {
      "text/html": [
       "<div>\n",
       "<style scoped>\n",
       "    .dataframe tbody tr th:only-of-type {\n",
       "        vertical-align: middle;\n",
       "    }\n",
       "\n",
       "    .dataframe tbody tr th {\n",
       "        vertical-align: top;\n",
       "    }\n",
       "\n",
       "    .dataframe thead th {\n",
       "        text-align: right;\n",
       "    }\n",
       "</style>\n",
       "<table border=\"1\" class=\"dataframe\">\n",
       "  <thead>\n",
       "    <tr style=\"text-align: right;\">\n",
       "      <th></th>\n",
       "      <th>business_id</th>\n",
       "      <th>attributes</th>\n",
       "    </tr>\n",
       "  </thead>\n",
       "  <tbody>\n",
       "    <tr>\n",
       "      <th>0</th>\n",
       "      <td>Pns2l4eNsfO8kk83dixA6A</td>\n",
       "      <td>{'ByAppointmentOnly': 'True'}</td>\n",
       "    </tr>\n",
       "    <tr>\n",
       "      <th>1</th>\n",
       "      <td>mpf3x-BjTdTEA3yCZrAYPw</td>\n",
       "      <td>{'BusinessAcceptsCreditCards': 'True'}</td>\n",
       "    </tr>\n",
       "    <tr>\n",
       "      <th>2</th>\n",
       "      <td>tUFrWirKiKi_TAnsVWINQQ</td>\n",
       "      <td>{'BikeParking': 'True', 'BusinessAcceptsCredit...</td>\n",
       "    </tr>\n",
       "    <tr>\n",
       "      <th>3</th>\n",
       "      <td>MTSW4McQd7CbVtyjqoe9mw</td>\n",
       "      <td>{'RestaurantsDelivery': 'False', 'OutdoorSeati...</td>\n",
       "    </tr>\n",
       "    <tr>\n",
       "      <th>4</th>\n",
       "      <td>mWMc6_wTdE0EUBKIGXDVfA</td>\n",
       "      <td>{'BusinessAcceptsCreditCards': 'True', 'Wheelc...</td>\n",
       "    </tr>\n",
       "    <tr>\n",
       "      <th>...</th>\n",
       "      <td>...</td>\n",
       "      <td>...</td>\n",
       "    </tr>\n",
       "    <tr>\n",
       "      <th>150341</th>\n",
       "      <td>IUQopTMmYQG-qRtBk-8QnA</td>\n",
       "      <td>{'ByAppointmentOnly': 'False', 'RestaurantsPri...</td>\n",
       "    </tr>\n",
       "    <tr>\n",
       "      <th>150342</th>\n",
       "      <td>c8GjPIOTGVmIemT7j5_SyQ</td>\n",
       "      <td>{'BusinessAcceptsCreditCards': 'True', 'Restau...</td>\n",
       "    </tr>\n",
       "    <tr>\n",
       "      <th>150343</th>\n",
       "      <td>_QAMST-NrQobXduilWEqSw</td>\n",
       "      <td>{'RestaurantsPriceRange2': '1', 'BusinessAccep...</td>\n",
       "    </tr>\n",
       "    <tr>\n",
       "      <th>150344</th>\n",
       "      <td>mtGm22y5c2UHNXDFAjaPNw</td>\n",
       "      <td>{'BusinessParking': '{'garage': False, 'street...</td>\n",
       "    </tr>\n",
       "    <tr>\n",
       "      <th>150345</th>\n",
       "      <td>jV_XOycEzSlTx-65W906pg</td>\n",
       "      <td>{'WheelchairAccessible': 'True', 'BusinessAcce...</td>\n",
       "    </tr>\n",
       "  </tbody>\n",
       "</table>\n",
       "<p>150346 rows × 2 columns</p>\n",
       "</div>"
      ],
      "text/plain": [
       "                   business_id  \\\n",
       "0       Pns2l4eNsfO8kk83dixA6A   \n",
       "1       mpf3x-BjTdTEA3yCZrAYPw   \n",
       "2       tUFrWirKiKi_TAnsVWINQQ   \n",
       "3       MTSW4McQd7CbVtyjqoe9mw   \n",
       "4       mWMc6_wTdE0EUBKIGXDVfA   \n",
       "...                        ...   \n",
       "150341  IUQopTMmYQG-qRtBk-8QnA   \n",
       "150342  c8GjPIOTGVmIemT7j5_SyQ   \n",
       "150343  _QAMST-NrQobXduilWEqSw   \n",
       "150344  mtGm22y5c2UHNXDFAjaPNw   \n",
       "150345  jV_XOycEzSlTx-65W906pg   \n",
       "\n",
       "                                               attributes  \n",
       "0                           {'ByAppointmentOnly': 'True'}  \n",
       "1                  {'BusinessAcceptsCreditCards': 'True'}  \n",
       "2       {'BikeParking': 'True', 'BusinessAcceptsCredit...  \n",
       "3       {'RestaurantsDelivery': 'False', 'OutdoorSeati...  \n",
       "4       {'BusinessAcceptsCreditCards': 'True', 'Wheelc...  \n",
       "...                                                   ...  \n",
       "150341  {'ByAppointmentOnly': 'False', 'RestaurantsPri...  \n",
       "150342  {'BusinessAcceptsCreditCards': 'True', 'Restau...  \n",
       "150343  {'RestaurantsPriceRange2': '1', 'BusinessAccep...  \n",
       "150344  {'BusinessParking': '{'garage': False, 'street...  \n",
       "150345  {'WheelchairAccessible': 'True', 'BusinessAcce...  \n",
       "\n",
       "[150346 rows x 2 columns]"
      ]
     },
     "execution_count": 4,
     "metadata": {},
     "output_type": "execute_result"
    }
   ],
   "source": [
    "b_data"
   ]
  },
  {
   "cell_type": "code",
   "execution_count": 5,
   "id": "e5b58b0a",
   "metadata": {},
   "outputs": [
    {
     "name": "stdout",
     "output_type": "stream",
     "text": [
      "<class 'pandas.core.frame.DataFrame'>\n",
      "RangeIndex: 150346 entries, 0 to 150345\n",
      "Data columns (total 39 columns):\n",
      " #   Column                      Non-Null Count   Dtype \n",
      "---  ------                      --------------   ----- \n",
      " 0   ByAppointmentOnly           42339 non-null   object\n",
      " 1   BusinessAcceptsCreditCards  119765 non-null  object\n",
      " 2   BikeParking                 72638 non-null   object\n",
      " 3   RestaurantsPriceRange2      85314 non-null   object\n",
      " 4   CoatCheck                   5584 non-null    object\n",
      " 5   RestaurantsTakeOut          59857 non-null   object\n",
      " 6   RestaurantsDelivery         56282 non-null   object\n",
      " 7   Caters                      40127 non-null   object\n",
      " 8   WiFi                        56914 non-null   object\n",
      " 9   BusinessParking             91085 non-null   object\n",
      " 10  WheelchairAccessible        28953 non-null   object\n",
      " 11  HappyHour                   15171 non-null   object\n",
      " 12  OutdoorSeating              48802 non-null   object\n",
      " 13  HasTV                       45084 non-null   object\n",
      " 14  RestaurantsReservations     45247 non-null   object\n",
      " 15  DogsAllowed                 18284 non-null   object\n",
      " 16  Alcohol                     43189 non-null   object\n",
      " 17  GoodForKids                 53375 non-null   object\n",
      " 18  RestaurantsAttire           39255 non-null   object\n",
      " 19  Ambience                    44279 non-null   object\n",
      " 20  RestaurantsTableService     19982 non-null   object\n",
      " 21  RestaurantsGoodForGroups    44170 non-null   object\n",
      " 22  DriveThru                   7760 non-null    object\n",
      " 23  NoiseLevel                  37993 non-null   object\n",
      " 24  GoodForMeal                 29087 non-null   object\n",
      " 25  BusinessAcceptsBitcoin      17430 non-null   object\n",
      " 26  Smoking                     4567 non-null    object\n",
      " 27  Music                       7521 non-null    object\n",
      " 28  GoodForDancing              4628 non-null    object\n",
      " 29  AcceptsInsurance            5713 non-null    object\n",
      " 30  BestNights                  5694 non-null    object\n",
      " 31  BYOB                        4451 non-null    object\n",
      " 32  Corkage                     3553 non-null    object\n",
      " 33  BYOBCorkage                 1444 non-null    object\n",
      " 34  HairSpecializesIn           1065 non-null    object\n",
      " 35  Open24Hours                 39 non-null      object\n",
      " 36  RestaurantsCounterService   19 non-null      object\n",
      " 37  AgesAllowed                 129 non-null     object\n",
      " 38  DietaryRestrictions         31 non-null      object\n",
      "dtypes: object(39)\n",
      "memory usage: 44.7+ MB\n"
     ]
    }
   ],
   "source": [
    "att_df = pd.json_normalize(b_data['attributes'].to_list())\n",
    "att_df.info()"
   ]
  },
  {
   "cell_type": "markdown",
   "id": "74fb4412",
   "metadata": {},
   "source": [
    "### Deciding Which Columns to Remove\n",
    "\n",
    "We will be dropping some columns because the amount of information they convey relative to the amount of businesses they pertain to is small."
   ]
  },
  {
   "cell_type": "code",
   "execution_count": 6,
   "id": "1c5a3d4d",
   "metadata": {},
   "outputs": [],
   "source": [
    "att_df.drop(\n",
    "  columns = ['HairSpecializesIn', 'DietaryRestrictions', 'Open24Hours', 'AgesAllowed', 'RestaurantsCounterService', 'CoatCheck'],\n",
    "  axis = 1,\n",
    "  inplace = True\n",
    ")"
   ]
  },
  {
   "cell_type": "code",
   "execution_count": 7,
   "id": "adde688f",
   "metadata": {},
   "outputs": [
    {
     "name": "stdout",
     "output_type": "stream",
     "text": [
      "RestaurantsPriceRange2\n",
      "WiFi\n",
      "BusinessParking\n",
      "Alcohol\n",
      "RestaurantsAttire\n",
      "Ambience\n",
      "NoiseLevel\n",
      "GoodForMeal\n",
      "Smoking\n",
      "Music\n",
      "BestNights\n",
      "BYOBCorkage\n"
     ]
    }
   ],
   "source": [
    "# These are the columns that may have values that are not booleans.\n",
    "\n",
    "for col in att_df.columns.to_list():\n",
    "    if len(att_df[att_df[col].notnull()][col].value_counts().to_list()) > 3:\n",
    "        print (col)"
   ]
  },
  {
   "cell_type": "code",
   "execution_count": 8,
   "id": "88c912d7",
   "metadata": {},
   "outputs": [
    {
     "name": "stdout",
     "output_type": "stream",
     "text": [
      "{'touristy': False, 'hipster': False, 'romantic': False, 'divey': False, 'intimate': False, 'trendy': False, 'upscale': False, 'classy': False, 'casual': False}      6717\n",
      "{'romantic': False, 'intimate': False, 'classy': False, 'hipster': False, 'divey': False, 'touristy': False, 'trendy': False, 'upscale': False, 'casual': False}      5181\n",
      "{'romantic': False, 'intimate': False, 'classy': False, 'hipster': False, 'divey': False, 'touristy': False, 'trendy': False, 'upscale': False, 'casual': True}       4269\n",
      "{'romantic': False, 'intimate': False, 'touristy': False, 'hipster': False, 'divey': False, 'classy': False, 'trendy': False, 'upscale': False, 'casual': True}       4199\n",
      "{'romantic': False, 'intimate': False, 'touristy': False, 'hipster': False, 'divey': False, 'classy': False, 'trendy': False, 'upscale': False, 'casual': False}      3297\n",
      "                                                                                                                                                                      ... \n",
      "{u'divey': True, u'hipster': False, u'casual': True, u'touristy': None, u'trendy': None, u'intimate': None, u'romantic': None, u'classy': False, u'upscale': None}       1\n",
      "{'touristy': None, 'hipster': None, 'romantic': False, 'divey': True, 'intimate': False, 'trendy': False, 'upscale': False, 'classy': None, 'casual': True}              1\n",
      "{'touristy': False, 'hipster': False, 'romantic': None, 'divey': None, 'intimate': False, 'trendy': False, 'upscale': False, 'classy': None, 'casual': None}             1\n",
      "{'touristy': None, 'hipster': None, 'romantic': None, 'divey': None, 'intimate': None, 'trendy': False, 'upscale': None, 'classy': True, 'casual': True}                 1\n",
      "{'touristy': None, 'hipster': False, 'romantic': False, 'divey': None, 'intimate': False, 'trendy': False, 'upscale': None, 'classy': None, 'casual': True}              1\n",
      "Name: Ambience, Length: 2414, dtype: int64\n"
     ]
    }
   ],
   "source": [
    "# Lets us explore the values of the columns.\n",
    "# Will be helpful for knowing if other columns consist of JSON data\n",
    "# Columns that have leading 'u': Alcohol, NoiseLevel, WiFi, RestaurantsAttire, Smoking, BYOBCorkage\n",
    "# Columns that have JSON values: BusinessParking, Ambience, GoodForMeal, Music, BestNights, HairSpecializesIn, DietaryRestrictions\n",
    "\n",
    "column_string = 'Ambience'\n",
    "\n",
    "print (att_df[att_df[column_string].notnull()][column_string].value_counts())"
   ]
  },
  {
   "cell_type": "code",
   "execution_count": 9,
   "id": "ac1a150a",
   "metadata": {},
   "outputs": [
    {
     "data": {
      "text/plain": [
       "'{'"
      ]
     },
     "execution_count": 9,
     "metadata": {},
     "output_type": "execute_result"
    }
   ],
   "source": [
    "# If the first character is '{' then we the column contains JSON information\n",
    "# This will have to be normalized\n",
    "\n",
    "att_df.head().loc[2, 'BusinessParking'][0]"
   ]
  },
  {
   "cell_type": "code",
   "execution_count": 10,
   "id": "80eae027",
   "metadata": {},
   "outputs": [
    {
     "data": {
      "text/plain": [
       "'u'"
      ]
     },
     "execution_count": 10,
     "metadata": {},
     "output_type": "execute_result"
    }
   ],
   "source": [
    "# If a column has a 'u' as the first character, we will need to remove the 'u'\n",
    "\n",
    "att_df.loc[3, 'Alcohol'][0]"
   ]
  },
  {
   "cell_type": "code",
   "execution_count": 11,
   "id": "9d1b3e0a",
   "metadata": {},
   "outputs": [
    {
     "data": {
      "text/plain": [
       "\"'none'\""
      ]
     },
     "execution_count": 11,
     "metadata": {},
     "output_type": "execute_result"
    }
   ],
   "source": [
    "# We will remove the leading 'u' with this reassignment\n",
    "\n",
    "att_df.loc[3, 'Alcohol'][1:]"
   ]
  },
  {
   "cell_type": "code",
   "execution_count": 12,
   "id": "71c6b53d",
   "metadata": {},
   "outputs": [],
   "source": [
    "leading_u_columns = ['Alcohol', 'NoiseLevel', 'WiFi', 'RestaurantsAttire', 'Smoking', 'BYOBCorkage']\n",
    "\n",
    "for i in range(len(att_df)):\n",
    "  for col in leading_u_columns:\n",
    "    if type(att_df.loc[i, col]) is not float and att_df.loc[i, col][0] == 'u':\n",
    "      att_df.loc[i, col] = att_df.loc[i, col][1:]"
   ]
  },
  {
   "cell_type": "code",
   "execution_count": 13,
   "id": "740e00df",
   "metadata": {},
   "outputs": [
    {
     "name": "stdout",
     "output_type": "stream",
     "text": [
      "Alcohol 'none'             20910\n",
      "'full_bar'         15992\n",
      "'beer_and_wine'     6249\n",
      "None                  38\n",
      "Name: Alcohol, dtype: int64\n",
      "NoiseLevel 'average'      26188\n",
      "'quiet'         7634\n",
      "'loud'          2932\n",
      "'very_loud'     1200\n",
      "None              39\n",
      "Name: NoiseLevel, dtype: int64\n",
      "WiFi 'free'    34414\n",
      "'no'      21831\n",
      "'paid'      619\n",
      "None         50\n",
      "Name: WiFi, dtype: int64\n",
      "RestaurantsAttire 'casual'    38344\n",
      "'dressy'      803\n",
      "'formal'       70\n",
      "None           38\n",
      "Name: RestaurantsAttire, dtype: int64\n",
      "Smoking 'no'         2405\n",
      "'outdoor'    1817\n",
      "'yes'         331\n",
      "None           14\n",
      "Name: Smoking, dtype: int64\n",
      "BYOBCorkage 'no'             747\n",
      "'yes_free'       590\n",
      "'yes_corkage'    102\n",
      "None               5\n",
      "Name: BYOBCorkage, dtype: int64\n"
     ]
    }
   ],
   "source": [
    "# Check the above transformation\n",
    "\n",
    "for col in leading_u_columns:\n",
    "  print (col, att_df[att_df[col].notnull()][col].value_counts())"
   ]
  },
  {
   "cell_type": "markdown",
   "id": "68e08251",
   "metadata": {},
   "source": [
    "### Testing Ways to Clean the JSON for Columns with JSON Values"
   ]
  },
  {
   "cell_type": "code",
   "execution_count": 14,
   "id": "475bc832",
   "metadata": {},
   "outputs": [],
   "source": [
    "check_for_u_music = []\n",
    "\n",
    "for i in range(len(att_df)):\n",
    "  if type(att_df.loc[i, 'Music']) is not float and att_df.loc[i, 'Music'][1] == 'u':\n",
    "    check_for_u_music.append(i)"
   ]
  },
  {
   "cell_type": "code",
   "execution_count": 15,
   "id": "cd9a8daa",
   "metadata": {},
   "outputs": [
    {
     "data": {
      "text/plain": [
       "\"{u'dj': None, u'live': False, u'jukebox': None, u'video': False, u'background_music': False, u'karaoke': None, u'no_music': False}\""
      ]
     },
     "execution_count": 15,
     "metadata": {},
     "output_type": "execute_result"
    }
   ],
   "source": [
    "att_df.loc[check_for_u_music[0], 'Music']"
   ]
  },
  {
   "cell_type": "code",
   "execution_count": 16,
   "id": "72d028cf",
   "metadata": {},
   "outputs": [
    {
     "data": {
      "text/plain": [
       "771"
      ]
     },
     "execution_count": 16,
     "metadata": {},
     "output_type": "execute_result"
    }
   ],
   "source": [
    "len(check_for_u_music)"
   ]
  },
  {
   "cell_type": "code",
   "execution_count": 17,
   "id": "5725fd8a",
   "metadata": {},
   "outputs": [
    {
     "name": "stdout",
     "output_type": "stream",
     "text": [
      "{'dj': None, 'live': False, 'jukebox': None, 'video': False, 'background_music': False, 'karaoke': None, 'no_music': False}\n"
     ]
    }
   ],
   "source": [
    "# This is how we will clean the 'Music' column JSON string\n",
    "\n",
    "practice = att_df.loc[check_for_u_music[0], 'Music']\n",
    "practice = practice.replace( ', u', ', ').replace(\"u'\", \"'\")\n",
    "print (practice)"
   ]
  },
  {
   "cell_type": "code",
   "execution_count": null,
   "id": "5b99e444",
   "metadata": {},
   "outputs": [],
   "source": []
  }
 ],
 "metadata": {
  "kernelspec": {
   "display_name": "Python 3",
   "language": "python",
   "name": "python3"
  },
  "language_info": {
   "codemirror_mode": {
    "name": "ipython",
    "version": 3
   },
   "file_extension": ".py",
   "mimetype": "text/x-python",
   "name": "python",
   "nbconvert_exporter": "python",
   "pygments_lexer": "ipython3",
   "version": "3.8.10"
  },
  "vscode": {
   "interpreter": {
    "hash": "650087dea920a2439f95599a997032a7d08f02793782e304106ac0f70af1a4a6"
   }
  }
 },
 "nbformat": 4,
 "nbformat_minor": 5
}
