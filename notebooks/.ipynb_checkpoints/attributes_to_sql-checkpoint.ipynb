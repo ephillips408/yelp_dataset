{
 "cells": [
  {
   "cell_type": "code",
   "execution_count": 1,
   "id": "70ab1945",
   "metadata": {},
   "outputs": [],
   "source": [
    "import numpy as np\n",
    "import pandas as pd"
   ]
  },
  {
   "cell_type": "code",
   "execution_count": 4,
   "id": "b832e1fe",
   "metadata": {},
   "outputs": [],
   "source": [
    "# b_data is short for business dataset\n",
    "# lines = True helps with the Trailing data ValueError\n",
    "\n",
    "b_data = pd.read_json('../../data_projects/data/yelp/yelp_dataset/yelp_academic_dataset_business.json', lines = True)"
   ]
  },
  {
   "cell_type": "code",
   "execution_count": 3,
   "id": "1e658d5f",
   "metadata": {},
   "outputs": [],
   "source": [
    "b_data.drop(b_data.columns.difference(['business_id', 'attributes']), axis = 1, inplace = True)"
   ]
  },
  {
   "cell_type": "code",
   "execution_count": 4,
   "id": "97b5ee9e",
   "metadata": {},
   "outputs": [
    {
     "data": {
      "text/html": [
       "<div>\n",
       "<style scoped>\n",
       "    .dataframe tbody tr th:only-of-type {\n",
       "        vertical-align: middle;\n",
       "    }\n",
       "\n",
       "    .dataframe tbody tr th {\n",
       "        vertical-align: top;\n",
       "    }\n",
       "\n",
       "    .dataframe thead th {\n",
       "        text-align: right;\n",
       "    }\n",
       "</style>\n",
       "<table border=\"1\" class=\"dataframe\">\n",
       "  <thead>\n",
       "    <tr style=\"text-align: right;\">\n",
       "      <th></th>\n",
       "      <th>business_id</th>\n",
       "      <th>attributes</th>\n",
       "    </tr>\n",
       "  </thead>\n",
       "  <tbody>\n",
       "    <tr>\n",
       "      <th>0</th>\n",
       "      <td>Pns2l4eNsfO8kk83dixA6A</td>\n",
       "      <td>{'ByAppointmentOnly': 'True'}</td>\n",
       "    </tr>\n",
       "    <tr>\n",
       "      <th>1</th>\n",
       "      <td>mpf3x-BjTdTEA3yCZrAYPw</td>\n",
       "      <td>{'BusinessAcceptsCreditCards': 'True'}</td>\n",
       "    </tr>\n",
       "    <tr>\n",
       "      <th>2</th>\n",
       "      <td>tUFrWirKiKi_TAnsVWINQQ</td>\n",
       "      <td>{'BikeParking': 'True', 'BusinessAcceptsCredit...</td>\n",
       "    </tr>\n",
       "    <tr>\n",
       "      <th>3</th>\n",
       "      <td>MTSW4McQd7CbVtyjqoe9mw</td>\n",
       "      <td>{'RestaurantsDelivery': 'False', 'OutdoorSeati...</td>\n",
       "    </tr>\n",
       "    <tr>\n",
       "      <th>4</th>\n",
       "      <td>mWMc6_wTdE0EUBKIGXDVfA</td>\n",
       "      <td>{'BusinessAcceptsCreditCards': 'True', 'Wheelc...</td>\n",
       "    </tr>\n",
       "    <tr>\n",
       "      <th>...</th>\n",
       "      <td>...</td>\n",
       "      <td>...</td>\n",
       "    </tr>\n",
       "    <tr>\n",
       "      <th>150341</th>\n",
       "      <td>IUQopTMmYQG-qRtBk-8QnA</td>\n",
       "      <td>{'ByAppointmentOnly': 'False', 'RestaurantsPri...</td>\n",
       "    </tr>\n",
       "    <tr>\n",
       "      <th>150342</th>\n",
       "      <td>c8GjPIOTGVmIemT7j5_SyQ</td>\n",
       "      <td>{'BusinessAcceptsCreditCards': 'True', 'Restau...</td>\n",
       "    </tr>\n",
       "    <tr>\n",
       "      <th>150343</th>\n",
       "      <td>_QAMST-NrQobXduilWEqSw</td>\n",
       "      <td>{'RestaurantsPriceRange2': '1', 'BusinessAccep...</td>\n",
       "    </tr>\n",
       "    <tr>\n",
       "      <th>150344</th>\n",
       "      <td>mtGm22y5c2UHNXDFAjaPNw</td>\n",
       "      <td>{'BusinessParking': '{'garage': False, 'street...</td>\n",
       "    </tr>\n",
       "    <tr>\n",
       "      <th>150345</th>\n",
       "      <td>jV_XOycEzSlTx-65W906pg</td>\n",
       "      <td>{'WheelchairAccessible': 'True', 'BusinessAcce...</td>\n",
       "    </tr>\n",
       "  </tbody>\n",
       "</table>\n",
       "<p>150346 rows × 2 columns</p>\n",
       "</div>"
      ],
      "text/plain": [
       "                   business_id  \\\n",
       "0       Pns2l4eNsfO8kk83dixA6A   \n",
       "1       mpf3x-BjTdTEA3yCZrAYPw   \n",
       "2       tUFrWirKiKi_TAnsVWINQQ   \n",
       "3       MTSW4McQd7CbVtyjqoe9mw   \n",
       "4       mWMc6_wTdE0EUBKIGXDVfA   \n",
       "...                        ...   \n",
       "150341  IUQopTMmYQG-qRtBk-8QnA   \n",
       "150342  c8GjPIOTGVmIemT7j5_SyQ   \n",
       "150343  _QAMST-NrQobXduilWEqSw   \n",
       "150344  mtGm22y5c2UHNXDFAjaPNw   \n",
       "150345  jV_XOycEzSlTx-65W906pg   \n",
       "\n",
       "                                               attributes  \n",
       "0                           {'ByAppointmentOnly': 'True'}  \n",
       "1                  {'BusinessAcceptsCreditCards': 'True'}  \n",
       "2       {'BikeParking': 'True', 'BusinessAcceptsCredit...  \n",
       "3       {'RestaurantsDelivery': 'False', 'OutdoorSeati...  \n",
       "4       {'BusinessAcceptsCreditCards': 'True', 'Wheelc...  \n",
       "...                                                   ...  \n",
       "150341  {'ByAppointmentOnly': 'False', 'RestaurantsPri...  \n",
       "150342  {'BusinessAcceptsCreditCards': 'True', 'Restau...  \n",
       "150343  {'RestaurantsPriceRange2': '1', 'BusinessAccep...  \n",
       "150344  {'BusinessParking': '{'garage': False, 'street...  \n",
       "150345  {'WheelchairAccessible': 'True', 'BusinessAcce...  \n",
       "\n",
       "[150346 rows x 2 columns]"
      ]
     },
     "execution_count": 4,
     "metadata": {},
     "output_type": "execute_result"
    }
   ],
   "source": [
    "b_data"
   ]
  },
  {
   "cell_type": "code",
   "execution_count": 6,
   "id": "e5b58b0a",
   "metadata": {},
   "outputs": [
    {
     "name": "stdout",
     "output_type": "stream",
     "text": [
      "<class 'pandas.core.frame.DataFrame'>\n",
      "RangeIndex: 150346 entries, 0 to 150345\n",
      "Data columns (total 39 columns):\n",
      " #   Column                      Non-Null Count   Dtype \n",
      "---  ------                      --------------   ----- \n",
      " 0   ByAppointmentOnly           42339 non-null   object\n",
      " 1   BusinessAcceptsCreditCards  119765 non-null  object\n",
      " 2   BikeParking                 72638 non-null   object\n",
      " 3   RestaurantsPriceRange2      85314 non-null   object\n",
      " 4   CoatCheck                   5584 non-null    object\n",
      " 5   RestaurantsTakeOut          59857 non-null   object\n",
      " 6   RestaurantsDelivery         56282 non-null   object\n",
      " 7   Caters                      40127 non-null   object\n",
      " 8   WiFi                        56914 non-null   object\n",
      " 9   BusinessParking             91085 non-null   object\n",
      " 10  WheelchairAccessible        28953 non-null   object\n",
      " 11  HappyHour                   15171 non-null   object\n",
      " 12  OutdoorSeating              48802 non-null   object\n",
      " 13  HasTV                       45084 non-null   object\n",
      " 14  RestaurantsReservations     45247 non-null   object\n",
      " 15  DogsAllowed                 18284 non-null   object\n",
      " 16  Alcohol                     43189 non-null   object\n",
      " 17  GoodForKids                 53375 non-null   object\n",
      " 18  RestaurantsAttire           39255 non-null   object\n",
      " 19  Ambience                    44279 non-null   object\n",
      " 20  RestaurantsTableService     19982 non-null   object\n",
      " 21  RestaurantsGoodForGroups    44170 non-null   object\n",
      " 22  DriveThru                   7760 non-null    object\n",
      " 23  NoiseLevel                  37993 non-null   object\n",
      " 24  GoodForMeal                 29087 non-null   object\n",
      " 25  BusinessAcceptsBitcoin      17430 non-null   object\n",
      " 26  Smoking                     4567 non-null    object\n",
      " 27  Music                       7521 non-null    object\n",
      " 28  GoodForDancing              4628 non-null    object\n",
      " 29  AcceptsInsurance            5713 non-null    object\n",
      " 30  BestNights                  5694 non-null    object\n",
      " 31  BYOB                        4451 non-null    object\n",
      " 32  Corkage                     3553 non-null    object\n",
      " 33  BYOBCorkage                 1444 non-null    object\n",
      " 34  HairSpecializesIn           1065 non-null    object\n",
      " 35  Open24Hours                 39 non-null      object\n",
      " 36  RestaurantsCounterService   19 non-null      object\n",
      " 37  AgesAllowed                 129 non-null     object\n",
      " 38  DietaryRestrictions         31 non-null      object\n",
      "dtypes: object(39)\n",
      "memory usage: 44.7+ MB\n"
     ]
    }
   ],
   "source": [
    "att_df = pd.json_normalize(b_data['attributes'].to_list())\n",
    "att_df.info()"
   ]
  },
  {
   "cell_type": "code",
   "execution_count": 24,
   "id": "3d5cff6f",
   "metadata": {},
   "outputs": [
    {
     "name": "stdout",
     "output_type": "stream",
     "text": [
      "False    3726\n",
      "True      902\n",
      "Name: GoodForDancing, dtype: int64\n",
      "\n",
      "\n",
      "[950, 881, 380, 312, 299, 273, 272, 222, 206, 195, 86, 79, 78, 76, 68, 63, 49, 48, 47, 44, 44, 43, 41, 36, 36, 31, 31, 30, 27, 26, 26, 25, 23, 23, 23, 23, 22, 20, 19, 19, 18, 17, 16, 16, 16, 16, 15, 14, 14, 14, 14, 14, 13, 13, 13, 12, 12, 12, 11, 10, 9, 9, 9, 8, 8, 7, 7, 7, 7, 7, 7, 7, 7, 7, 7, 5, 5, 5, 5, 5, 5, 4, 4, 4, 4, 4, 3, 3, 3, 3, 3, 3, 3, 3, 3, 3, 2, 2, 2, 2, 2, 2, 1, 1, 1, 1, 1, 1, 1, 1, 1, 1, 1, 1, 1]\n"
     ]
    }
   ],
   "source": [
    "# Lets us explore the values of the columns.\n",
    "# Will be helpful for knowing if other columns consist of JSON data\n",
    "\n",
    "column_string = 'BestNights'\n",
    "\n",
    "print (att_df[att_df['GoodForDancing'].notnull()]['GoodForDancing'].value_counts())\n",
    "print ('\\n')\n",
    "print (att_df[att_df[column_string].notnull()][column_string].value_counts().to_list())"
   ]
  },
  {
   "cell_type": "code",
   "execution_count": 21,
   "id": "adde688f",
   "metadata": {},
   "outputs": [
    {
     "name": "stdout",
     "output_type": "stream",
     "text": [
      "RestaurantsPriceRange2\n",
      "WiFi\n",
      "BusinessParking\n",
      "Alcohol\n",
      "RestaurantsAttire\n",
      "Ambience\n",
      "NoiseLevel\n",
      "GoodForMeal\n",
      "Smoking\n",
      "Music\n",
      "BestNights\n",
      "BYOBCorkage\n",
      "HairSpecializesIn\n",
      "DietaryRestrictions\n"
     ]
    }
   ],
   "source": [
    "# These are the columns that may have values that are not booleans.\n",
    "\n",
    "for col in att_df.columns.to_list():\n",
    "    if len(att_df[att_df[col].notnull()][col].value_counts().to_list()) > 3:\n",
    "        print (col)"
   ]
  },
  {
   "cell_type": "code",
   "execution_count": 36,
   "id": "88c912d7",
   "metadata": {},
   "outputs": [
    {
     "name": "stdout",
     "output_type": "stream",
     "text": [
      "'no'              730\n",
      "'yes_free'        572\n",
      "'yes_corkage'      93\n",
      "u'yes_free'        18\n",
      "u'no'              17\n",
      "u'yes_corkage'      9\n",
      "None                5\n",
      "Name: BYOBCorkage, dtype: int64\n",
      "\n",
      "\n",
      "[730, 572, 93, 18, 17, 9, 5]\n"
     ]
    }
   ],
   "source": [
    "# Lets us explore the values of the columns.\n",
    "# Will be helpful for knowing if other columns consist of JSON data\n",
    "\n",
    "column_string = 'BYOBCorkage'\n",
    "\n",
    "print (att_df[att_df[column_string].notnull()][column_string].value_counts())\n",
    "print ('\\n')\n",
    "print (att_df[att_df[column_string].notnull()][column_string].value_counts().to_list())"
   ]
  },
  {
   "cell_type": "code",
   "execution_count": 35,
   "id": "9a47af1d",
   "metadata": {},
   "outputs": [
    {
     "data": {
      "text/plain": [
       "u'average'      21581\n",
       "u'quiet'         6460\n",
       "'average'        4607\n",
       "u'loud'          2447\n",
       "'quiet'          1174\n",
       "u'very_loud'     1067\n",
       "'loud'            485\n",
       "'very_loud'       133\n",
       "None               39\n",
       "Name: NoiseLevel, dtype: int64"
      ]
     },
     "execution_count": 35,
     "metadata": {},
     "output_type": "execute_result"
    }
   ],
   "source": [
    "att_df[att_df[column_string].notnull()][column_string].value_counts()"
   ]
  },
  {
   "cell_type": "code",
   "execution_count": null,
   "id": "ac1a150a",
   "metadata": {},
   "outputs": [],
   "source": []
  }
 ],
 "metadata": {
  "kernelspec": {
   "display_name": "Python 3",
   "language": "python",
   "name": "python3"
  },
  "language_info": {
   "codemirror_mode": {
    "name": "ipython",
    "version": 3
   },
   "file_extension": ".py",
   "mimetype": "text/x-python",
   "name": "python",
   "nbconvert_exporter": "python",
   "pygments_lexer": "ipython3",
   "version": "3.8.10"
  }
 },
 "nbformat": 4,
 "nbformat_minor": 5
}
